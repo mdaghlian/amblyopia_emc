{
 "cells": [
  {
   "cell_type": "code",
   "execution_count": 3,
   "metadata": {},
   "outputs": [
    {
     "name": "stdout",
     "output_type": "stream",
     "text": [
      "The autoreload extension is already loaded. To reload it, use:\n",
      "  %reload_ext autoreload\n",
      "/data1/projects/dumoulinlab/Lab_members/Marcus/projects/amblyopia_emc/derivatives/freesurfer\n"
     ]
    }
   ],
   "source": [
    "%load_ext autoreload\n",
    "%autoreload 2\n",
    "%matplotlib inline\n",
    "import numpy as np\n",
    "\n",
    "from dag_prf_utils.pyctx import PyctxSurf\n",
    "from dag_prf_utils.utils import *\n",
    "from dag_prf_utils.mesh_maker import *\n",
    "from dag_prf_utils.prfpy_functions import *\n",
    "\n",
    "from amb_scripts.load_saved_info import *\n",
    "from amb_scripts.utils import *\n",
    "\n",
    "import os\n",
    "import time\n",
    "from datetime import datetime, timedelta\n",
    "\n",
    "# fs_dir = os.environ[\"SUBJECTS_DIR\"]\n",
    "fs_dir = '/data1/projects/dumoulinlab/Lab_members/Marcus/projects/amblyopia_emc/derivatives/freesurfer'\n",
    "print(fs_dir)"
   ]
  },
  {
   "cell_type": "code",
   "execution_count": 4,
   "metadata": {},
   "outputs": [
    {
     "name": "stderr",
     "output_type": "stream",
     "text": [
      "/data1/projects/dumoulinlab/Lab_members/Marcus/programs/dag_prf_utils/dag_prf_utils/prfpy_functions.py:308: RuntimeWarning: divide by zero encountered in log10\n",
      "  self.params_dd['log10_sf0'] = np.log10(self.params_dd['sf0'])\n",
      "/data1/projects/dumoulinlab/Lab_members/Marcus/programs/dag_prf_utils/dag_prf_utils/prfpy_functions.py:309: RuntimeWarning: divide by zero encountered in log10\n",
      "  self.params_dd['log10_maxC'] = np.log10(self.params_dd['maxC'])\n",
      "/data1/projects/dumoulinlab/Lab_members/Marcus/programs/dag_prf_utils/dag_prf_utils/prfpy_functions.py:311: RuntimeWarning: divide by zero encountered in true_divide\n",
      "  10**(np.sqrt(self.params_dd['log10_maxC']/(self.params_dd['width_r']**2)) + \\\n",
      "/data1/projects/dumoulinlab/Lab_members/Marcus/programs/dag_prf_utils/dag_prf_utils/prfpy_functions.py:311: RuntimeWarning: invalid value encountered in sqrt\n",
      "  10**(np.sqrt(self.params_dd['log10_maxC']/(self.params_dd['width_r']**2)) + \\\n",
      "/data1/projects/dumoulinlab/Lab_members/Marcus/programs/dag_prf_utils/dag_prf_utils/prfpy_functions.py:311: RuntimeWarning: overflow encountered in power\n",
      "  10**(np.sqrt(self.params_dd['log10_maxC']/(self.params_dd['width_r']**2)) + \\\n",
      "/data1/projects/dumoulinlab/Lab_members/Marcus/programs/dag_prf_utils/dag_prf_utils/prfpy_functions.py:314: RuntimeWarning: divide by zero encountered in log10\n",
      "  self.params_dd['log10_sfmax'] = np.log10(self.params_dd['sfmax'])\n"
     ]
    }
   ],
   "source": [
    "sub_list = ['sub-01', 'sub-02']\n",
    "ses_list = ['ses-1', 'ses-2']\n",
    "\n",
    "\n",
    "roi_fit = 'all'\n",
    "fit_stage='iter'\n",
    "\n",
    "model_list = ['gauss', 'csf']#, 'css', 'dog', 'norm']\n",
    "prf_multi = {}\n",
    "\n",
    "for sub in sub_list:\n",
    "    prf_obj_list = [] \n",
    "    prf_id_list = []\n",
    "    for i_ses,ses in enumerate(ses_list):        \n",
    "        for eye in ['L', 'R']:    \n",
    "            for model in model_list:\n",
    "                if 'csf' in model:\n",
    "                    task = f'CSF{eye}E'\n",
    "                    # roi_fit = 'all'\n",
    "                else:\n",
    "                    task = f'pRF{eye}E'\n",
    "                    # roi_fit = 'all'\n",
    "\n",
    "                this_prf_data = amb_load_prf_params(\n",
    "                    sub=sub,\n",
    "                    task_list=task,\n",
    "                    model_list=model,\n",
    "                    roi_fit=roi_fit, \n",
    "                    fit_stage=fit_stage,\n",
    "                    ses=ses\n",
    "                )[task][model]\n",
    "                                                        \n",
    "                prf_obj_list.append(Prf1T1M(this_prf_data, model))\n",
    "                prf_id_list.append(f'{eye}_{i_ses+1}_{model}')   \n",
    "            \n",
    "    prf_multi[sub] = PrfMulti(prf_obj_list, prf_id_list)"
   ]
  },
  {
   "cell_type": "code",
   "execution_count": 9,
   "metadata": {},
   "outputs": [
    {
     "name": "stderr",
     "output_type": "stream",
     "text": [
      "/data1/projects/dumoulinlab/Lab_members/Marcus/programs/prfpy/prfpy/stimulus.py:252: RuntimeWarning: divide by zero encountered in log10\n",
      "  self.log_SF_seq = np.log10(SF_seq)\n",
      "/data1/projects/dumoulinlab/Lab_members/Marcus/programs/prfpy/prfpy/stimulus.py:254: RuntimeWarning: divide by zero encountered in true_divide\n",
      "  self.CON_S_seq = 100/CON_seq\n",
      "/data1/projects/dumoulinlab/Lab_members/Marcus/projects/amblyopia_emc/code/amb_code/amb_scripts/utils.py:101: RuntimeWarning: divide by zero encountered in log10\n",
      "  log_SFs = np.log10(SFs)\n",
      "/data1/projects/dumoulinlab/Lab_members/Marcus/projects/amblyopia_emc/code/amb_code/amb_scripts/utils.py:102: RuntimeWarning: divide by zero encountered in log10\n",
      "  log_sf0 = np.log10(sf0)\n",
      "/data1/projects/dumoulinlab/Lab_members/Marcus/projects/amblyopia_emc/code/amb_code/amb_scripts/utils.py:103: RuntimeWarning: divide by zero encountered in log10\n",
      "  log_maxC = np.log10(maxC)\n",
      "/data1/projects/dumoulinlab/Lab_members/Marcus/projects/amblyopia_emc/code/amb_code/amb_scripts/utils.py:107: RuntimeWarning: invalid value encountered in subtract\n",
      "  L_curve = 10**(log_maxC - ((log_SFs[..., np.newaxis]-log_sf0)**2) * (width_l**2))\n",
      "/data1/projects/dumoulinlab/Lab_members/Marcus/projects/amblyopia_emc/code/amb_code/amb_scripts/utils.py:107: RuntimeWarning: invalid value encountered in multiply\n",
      "  L_curve = 10**(log_maxC - ((log_SFs[..., np.newaxis]-log_sf0)**2) * (width_l**2))\n",
      "/data1/projects/dumoulinlab/Lab_members/Marcus/projects/amblyopia_emc/code/amb_code/amb_scripts/utils.py:108: RuntimeWarning: invalid value encountered in subtract\n",
      "  R_curve = 10**(log_maxC - ((log_SFs[..., np.newaxis]-log_sf0)**2) * (width_r**2))\n",
      "/data1/projects/dumoulinlab/Lab_members/Marcus/projects/amblyopia_emc/code/amb_code/amb_scripts/utils.py:108: RuntimeWarning: invalid value encountered in multiply\n",
      "  R_curve = 10**(log_maxC - ((log_SFs[..., np.newaxis]-log_sf0)**2) * (width_r**2))\n",
      "/data1/projects/dumoulinlab/Lab_members/Marcus/projects/amblyopia_emc/code/amb_code/amb_scripts/utils.py:114: RuntimeWarning: divide by zero encountered in log10\n",
      "  logCSF = np.log10(csf_curve)\n",
      "/data1/projects/dumoulinlab/Lab_members/Marcus/projects/amblyopia_emc/code/amb_code/amb_scripts/utils.py:116: RuntimeWarning: invalid value encountered in less\n",
      "  logCSF[logCSF<0] = 0\n",
      "/data1/projects/dumoulinlab/Lab_members/Marcus/projects/amblyopia_emc/code/amb_code/amb_scripts/utils.py:101: RuntimeWarning: divide by zero encountered in log10\n",
      "  log_SFs = np.log10(SFs)\n",
      "/data1/projects/dumoulinlab/Lab_members/Marcus/projects/amblyopia_emc/code/amb_code/amb_scripts/utils.py:102: RuntimeWarning: divide by zero encountered in log10\n",
      "  log_sf0 = np.log10(sf0)\n",
      "/data1/projects/dumoulinlab/Lab_members/Marcus/projects/amblyopia_emc/code/amb_code/amb_scripts/utils.py:103: RuntimeWarning: divide by zero encountered in log10\n",
      "  log_maxC = np.log10(maxC)\n",
      "/data1/projects/dumoulinlab/Lab_members/Marcus/projects/amblyopia_emc/code/amb_code/amb_scripts/utils.py:107: RuntimeWarning: invalid value encountered in subtract\n",
      "  L_curve = 10**(log_maxC - ((log_SFs[..., np.newaxis]-log_sf0)**2) * (width_l**2))\n",
      "/data1/projects/dumoulinlab/Lab_members/Marcus/projects/amblyopia_emc/code/amb_code/amb_scripts/utils.py:107: RuntimeWarning: invalid value encountered in multiply\n",
      "  L_curve = 10**(log_maxC - ((log_SFs[..., np.newaxis]-log_sf0)**2) * (width_l**2))\n",
      "/data1/projects/dumoulinlab/Lab_members/Marcus/projects/amblyopia_emc/code/amb_code/amb_scripts/utils.py:108: RuntimeWarning: invalid value encountered in subtract\n",
      "  R_curve = 10**(log_maxC - ((log_SFs[..., np.newaxis]-log_sf0)**2) * (width_r**2))\n",
      "/data1/projects/dumoulinlab/Lab_members/Marcus/projects/amblyopia_emc/code/amb_code/amb_scripts/utils.py:108: RuntimeWarning: invalid value encountered in multiply\n",
      "  R_curve = 10**(log_maxC - ((log_SFs[..., np.newaxis]-log_sf0)**2) * (width_r**2))\n",
      "/data1/projects/dumoulinlab/Lab_members/Marcus/projects/amblyopia_emc/code/amb_code/amb_scripts/utils.py:114: RuntimeWarning: divide by zero encountered in log10\n",
      "  logCSF = np.log10(csf_curve)\n",
      "/data1/projects/dumoulinlab/Lab_members/Marcus/projects/amblyopia_emc/code/amb_code/amb_scripts/utils.py:116: RuntimeWarning: invalid value encountered in less\n",
      "  logCSF[logCSF<0] = 0\n",
      "/data1/projects/dumoulinlab/Lab_members/Marcus/projects/amblyopia_emc/code/amb_code/amb_scripts/utils.py:101: RuntimeWarning: divide by zero encountered in log10\n",
      "  log_SFs = np.log10(SFs)\n",
      "/data1/projects/dumoulinlab/Lab_members/Marcus/projects/amblyopia_emc/code/amb_code/amb_scripts/utils.py:102: RuntimeWarning: divide by zero encountered in log10\n",
      "  log_sf0 = np.log10(sf0)\n",
      "/data1/projects/dumoulinlab/Lab_members/Marcus/projects/amblyopia_emc/code/amb_code/amb_scripts/utils.py:103: RuntimeWarning: divide by zero encountered in log10\n",
      "  log_maxC = np.log10(maxC)\n",
      "/data1/projects/dumoulinlab/Lab_members/Marcus/projects/amblyopia_emc/code/amb_code/amb_scripts/utils.py:107: RuntimeWarning: invalid value encountered in subtract\n",
      "  L_curve = 10**(log_maxC - ((log_SFs[..., np.newaxis]-log_sf0)**2) * (width_l**2))\n",
      "/data1/projects/dumoulinlab/Lab_members/Marcus/projects/amblyopia_emc/code/amb_code/amb_scripts/utils.py:107: RuntimeWarning: invalid value encountered in multiply\n",
      "  L_curve = 10**(log_maxC - ((log_SFs[..., np.newaxis]-log_sf0)**2) * (width_l**2))\n",
      "/data1/projects/dumoulinlab/Lab_members/Marcus/projects/amblyopia_emc/code/amb_code/amb_scripts/utils.py:108: RuntimeWarning: invalid value encountered in subtract\n",
      "  R_curve = 10**(log_maxC - ((log_SFs[..., np.newaxis]-log_sf0)**2) * (width_r**2))\n",
      "/data1/projects/dumoulinlab/Lab_members/Marcus/projects/amblyopia_emc/code/amb_code/amb_scripts/utils.py:108: RuntimeWarning: invalid value encountered in multiply\n",
      "  R_curve = 10**(log_maxC - ((log_SFs[..., np.newaxis]-log_sf0)**2) * (width_r**2))\n",
      "/data1/projects/dumoulinlab/Lab_members/Marcus/projects/amblyopia_emc/code/amb_code/amb_scripts/utils.py:114: RuntimeWarning: divide by zero encountered in log10\n",
      "  logCSF = np.log10(csf_curve)\n",
      "/data1/projects/dumoulinlab/Lab_members/Marcus/projects/amblyopia_emc/code/amb_code/amb_scripts/utils.py:116: RuntimeWarning: invalid value encountered in less\n",
      "  logCSF[logCSF<0] = 0\n",
      "/data1/projects/dumoulinlab/Lab_members/Marcus/projects/amblyopia_emc/code/amb_code/amb_scripts/utils.py:101: RuntimeWarning: divide by zero encountered in log10\n",
      "  log_SFs = np.log10(SFs)\n",
      "/data1/projects/dumoulinlab/Lab_members/Marcus/projects/amblyopia_emc/code/amb_code/amb_scripts/utils.py:102: RuntimeWarning: divide by zero encountered in log10\n",
      "  log_sf0 = np.log10(sf0)\n",
      "/data1/projects/dumoulinlab/Lab_members/Marcus/projects/amblyopia_emc/code/amb_code/amb_scripts/utils.py:103: RuntimeWarning: divide by zero encountered in log10\n",
      "  log_maxC = np.log10(maxC)\n",
      "/data1/projects/dumoulinlab/Lab_members/Marcus/projects/amblyopia_emc/code/amb_code/amb_scripts/utils.py:107: RuntimeWarning: invalid value encountered in subtract\n",
      "  L_curve = 10**(log_maxC - ((log_SFs[..., np.newaxis]-log_sf0)**2) * (width_l**2))\n",
      "/data1/projects/dumoulinlab/Lab_members/Marcus/projects/amblyopia_emc/code/amb_code/amb_scripts/utils.py:107: RuntimeWarning: invalid value encountered in multiply\n",
      "  L_curve = 10**(log_maxC - ((log_SFs[..., np.newaxis]-log_sf0)**2) * (width_l**2))\n",
      "/data1/projects/dumoulinlab/Lab_members/Marcus/projects/amblyopia_emc/code/amb_code/amb_scripts/utils.py:108: RuntimeWarning: invalid value encountered in subtract\n",
      "  R_curve = 10**(log_maxC - ((log_SFs[..., np.newaxis]-log_sf0)**2) * (width_r**2))\n",
      "/data1/projects/dumoulinlab/Lab_members/Marcus/projects/amblyopia_emc/code/amb_code/amb_scripts/utils.py:108: RuntimeWarning: invalid value encountered in multiply\n",
      "  R_curve = 10**(log_maxC - ((log_SFs[..., np.newaxis]-log_sf0)**2) * (width_r**2))\n",
      "/data1/projects/dumoulinlab/Lab_members/Marcus/projects/amblyopia_emc/code/amb_code/amb_scripts/utils.py:114: RuntimeWarning: divide by zero encountered in log10\n",
      "  logCSF = np.log10(csf_curve)\n",
      "/data1/projects/dumoulinlab/Lab_members/Marcus/projects/amblyopia_emc/code/amb_code/amb_scripts/utils.py:116: RuntimeWarning: invalid value encountered in less\n",
      "  logCSF[logCSF<0] = 0\n",
      "/data1/projects/dumoulinlab/Lab_members/Marcus/projects/amblyopia_emc/code/amb_code/amb_scripts/utils.py:101: RuntimeWarning: divide by zero encountered in log10\n",
      "  log_SFs = np.log10(SFs)\n",
      "/data1/projects/dumoulinlab/Lab_members/Marcus/projects/amblyopia_emc/code/amb_code/amb_scripts/utils.py:102: RuntimeWarning: divide by zero encountered in log10\n",
      "  log_sf0 = np.log10(sf0)\n",
      "/data1/projects/dumoulinlab/Lab_members/Marcus/projects/amblyopia_emc/code/amb_code/amb_scripts/utils.py:103: RuntimeWarning: divide by zero encountered in log10\n",
      "  log_maxC = np.log10(maxC)\n",
      "/data1/projects/dumoulinlab/Lab_members/Marcus/projects/amblyopia_emc/code/amb_code/amb_scripts/utils.py:107: RuntimeWarning: invalid value encountered in subtract\n",
      "  L_curve = 10**(log_maxC - ((log_SFs[..., np.newaxis]-log_sf0)**2) * (width_l**2))\n",
      "/data1/projects/dumoulinlab/Lab_members/Marcus/projects/amblyopia_emc/code/amb_code/amb_scripts/utils.py:107: RuntimeWarning: invalid value encountered in multiply\n",
      "  L_curve = 10**(log_maxC - ((log_SFs[..., np.newaxis]-log_sf0)**2) * (width_l**2))\n",
      "/data1/projects/dumoulinlab/Lab_members/Marcus/projects/amblyopia_emc/code/amb_code/amb_scripts/utils.py:108: RuntimeWarning: invalid value encountered in subtract\n",
      "  R_curve = 10**(log_maxC - ((log_SFs[..., np.newaxis]-log_sf0)**2) * (width_r**2))\n",
      "/data1/projects/dumoulinlab/Lab_members/Marcus/projects/amblyopia_emc/code/amb_code/amb_scripts/utils.py:108: RuntimeWarning: invalid value encountered in multiply\n",
      "  R_curve = 10**(log_maxC - ((log_SFs[..., np.newaxis]-log_sf0)**2) * (width_r**2))\n",
      "/data1/projects/dumoulinlab/Lab_members/Marcus/projects/amblyopia_emc/code/amb_code/amb_scripts/utils.py:114: RuntimeWarning: divide by zero encountered in log10\n",
      "  logCSF = np.log10(csf_curve)\n",
      "/data1/projects/dumoulinlab/Lab_members/Marcus/projects/amblyopia_emc/code/amb_code/amb_scripts/utils.py:116: RuntimeWarning: invalid value encountered in less\n",
      "  logCSF[logCSF<0] = 0\n",
      "/data1/projects/dumoulinlab/Lab_members/Marcus/projects/amblyopia_emc/code/amb_code/amb_scripts/utils.py:101: RuntimeWarning: divide by zero encountered in log10\n",
      "  log_SFs = np.log10(SFs)\n",
      "/data1/projects/dumoulinlab/Lab_members/Marcus/projects/amblyopia_emc/code/amb_code/amb_scripts/utils.py:102: RuntimeWarning: divide by zero encountered in log10\n",
      "  log_sf0 = np.log10(sf0)\n",
      "/data1/projects/dumoulinlab/Lab_members/Marcus/projects/amblyopia_emc/code/amb_code/amb_scripts/utils.py:103: RuntimeWarning: divide by zero encountered in log10\n",
      "  log_maxC = np.log10(maxC)\n",
      "/data1/projects/dumoulinlab/Lab_members/Marcus/projects/amblyopia_emc/code/amb_code/amb_scripts/utils.py:107: RuntimeWarning: invalid value encountered in subtract\n",
      "  L_curve = 10**(log_maxC - ((log_SFs[..., np.newaxis]-log_sf0)**2) * (width_l**2))\n",
      "/data1/projects/dumoulinlab/Lab_members/Marcus/projects/amblyopia_emc/code/amb_code/amb_scripts/utils.py:107: RuntimeWarning: invalid value encountered in multiply\n",
      "  L_curve = 10**(log_maxC - ((log_SFs[..., np.newaxis]-log_sf0)**2) * (width_l**2))\n",
      "/data1/projects/dumoulinlab/Lab_members/Marcus/projects/amblyopia_emc/code/amb_code/amb_scripts/utils.py:108: RuntimeWarning: invalid value encountered in subtract\n",
      "  R_curve = 10**(log_maxC - ((log_SFs[..., np.newaxis]-log_sf0)**2) * (width_r**2))\n",
      "/data1/projects/dumoulinlab/Lab_members/Marcus/projects/amblyopia_emc/code/amb_code/amb_scripts/utils.py:108: RuntimeWarning: invalid value encountered in multiply\n",
      "  R_curve = 10**(log_maxC - ((log_SFs[..., np.newaxis]-log_sf0)**2) * (width_r**2))\n",
      "/data1/projects/dumoulinlab/Lab_members/Marcus/projects/amblyopia_emc/code/amb_code/amb_scripts/utils.py:114: RuntimeWarning: divide by zero encountered in log10\n",
      "  logCSF = np.log10(csf_curve)\n",
      "/data1/projects/dumoulinlab/Lab_members/Marcus/projects/amblyopia_emc/code/amb_code/amb_scripts/utils.py:116: RuntimeWarning: invalid value encountered in less\n",
      "  logCSF[logCSF<0] = 0\n",
      "/data1/projects/dumoulinlab/Lab_members/Marcus/projects/amblyopia_emc/code/amb_code/amb_scripts/utils.py:101: RuntimeWarning: divide by zero encountered in log10\n",
      "  log_SFs = np.log10(SFs)\n",
      "/data1/projects/dumoulinlab/Lab_members/Marcus/projects/amblyopia_emc/code/amb_code/amb_scripts/utils.py:102: RuntimeWarning: divide by zero encountered in log10\n",
      "  log_sf0 = np.log10(sf0)\n",
      "/data1/projects/dumoulinlab/Lab_members/Marcus/projects/amblyopia_emc/code/amb_code/amb_scripts/utils.py:103: RuntimeWarning: divide by zero encountered in log10\n",
      "  log_maxC = np.log10(maxC)\n",
      "/data1/projects/dumoulinlab/Lab_members/Marcus/projects/amblyopia_emc/code/amb_code/amb_scripts/utils.py:107: RuntimeWarning: invalid value encountered in subtract\n",
      "  L_curve = 10**(log_maxC - ((log_SFs[..., np.newaxis]-log_sf0)**2) * (width_l**2))\n",
      "/data1/projects/dumoulinlab/Lab_members/Marcus/projects/amblyopia_emc/code/amb_code/amb_scripts/utils.py:107: RuntimeWarning: invalid value encountered in multiply\n",
      "  L_curve = 10**(log_maxC - ((log_SFs[..., np.newaxis]-log_sf0)**2) * (width_l**2))\n",
      "/data1/projects/dumoulinlab/Lab_members/Marcus/projects/amblyopia_emc/code/amb_code/amb_scripts/utils.py:108: RuntimeWarning: invalid value encountered in subtract\n",
      "  R_curve = 10**(log_maxC - ((log_SFs[..., np.newaxis]-log_sf0)**2) * (width_r**2))\n",
      "/data1/projects/dumoulinlab/Lab_members/Marcus/projects/amblyopia_emc/code/amb_code/amb_scripts/utils.py:108: RuntimeWarning: invalid value encountered in multiply\n",
      "  R_curve = 10**(log_maxC - ((log_SFs[..., np.newaxis]-log_sf0)**2) * (width_r**2))\n",
      "/data1/projects/dumoulinlab/Lab_members/Marcus/projects/amblyopia_emc/code/amb_code/amb_scripts/utils.py:114: RuntimeWarning: divide by zero encountered in log10\n",
      "  logCSF = np.log10(csf_curve)\n",
      "/data1/projects/dumoulinlab/Lab_members/Marcus/projects/amblyopia_emc/code/amb_code/amb_scripts/utils.py:116: RuntimeWarning: invalid value encountered in less\n",
      "  logCSF[logCSF<0] = 0\n",
      "/data1/projects/dumoulinlab/Lab_members/Marcus/projects/amblyopia_emc/code/amb_code/amb_scripts/utils.py:101: RuntimeWarning: divide by zero encountered in log10\n",
      "  log_SFs = np.log10(SFs)\n",
      "/data1/projects/dumoulinlab/Lab_members/Marcus/projects/amblyopia_emc/code/amb_code/amb_scripts/utils.py:102: RuntimeWarning: divide by zero encountered in log10\n",
      "  log_sf0 = np.log10(sf0)\n",
      "/data1/projects/dumoulinlab/Lab_members/Marcus/projects/amblyopia_emc/code/amb_code/amb_scripts/utils.py:103: RuntimeWarning: divide by zero encountered in log10\n",
      "  log_maxC = np.log10(maxC)\n",
      "/data1/projects/dumoulinlab/Lab_members/Marcus/projects/amblyopia_emc/code/amb_code/amb_scripts/utils.py:107: RuntimeWarning: invalid value encountered in subtract\n",
      "  L_curve = 10**(log_maxC - ((log_SFs[..., np.newaxis]-log_sf0)**2) * (width_l**2))\n",
      "/data1/projects/dumoulinlab/Lab_members/Marcus/projects/amblyopia_emc/code/amb_code/amb_scripts/utils.py:107: RuntimeWarning: invalid value encountered in multiply\n",
      "  L_curve = 10**(log_maxC - ((log_SFs[..., np.newaxis]-log_sf0)**2) * (width_l**2))\n",
      "/data1/projects/dumoulinlab/Lab_members/Marcus/projects/amblyopia_emc/code/amb_code/amb_scripts/utils.py:108: RuntimeWarning: invalid value encountered in subtract\n",
      "  R_curve = 10**(log_maxC - ((log_SFs[..., np.newaxis]-log_sf0)**2) * (width_r**2))\n",
      "/data1/projects/dumoulinlab/Lab_members/Marcus/projects/amblyopia_emc/code/amb_code/amb_scripts/utils.py:108: RuntimeWarning: invalid value encountered in multiply\n",
      "  R_curve = 10**(log_maxC - ((log_SFs[..., np.newaxis]-log_sf0)**2) * (width_r**2))\n",
      "/data1/projects/dumoulinlab/Lab_members/Marcus/projects/amblyopia_emc/code/amb_code/amb_scripts/utils.py:114: RuntimeWarning: divide by zero encountered in log10\n",
      "  logCSF = np.log10(csf_curve)\n",
      "/data1/projects/dumoulinlab/Lab_members/Marcus/projects/amblyopia_emc/code/amb_code/amb_scripts/utils.py:116: RuntimeWarning: invalid value encountered in less\n",
      "  logCSF[logCSF<0] = 0\n"
     ]
    }
   ],
   "source": [
    "# Add AREA UN LOG CSF\n",
    "# load prfpy stim\n",
    "prfpy_stim = amb_load_prfpy_stim('CSF')\n",
    "m = 'csf'\n",
    "for sub in sub_list:\n",
    "    prf_obj_list = [] \n",
    "    prf_id_list = []\n",
    "    for ses in ['1', '2']:        \n",
    "        for eye in ['L', 'R']:    \n",
    "            task = f'CSF{eye}E'            \n",
    "            prf_multi[sub].prf_obj[f'{eye}_{ses}_{m}'].pd_params['AULCSF_sum'] = add_aulcsf_to_obj(\n",
    "                prf_obj = prf_multi[sub].prf_obj[f'{eye}_{ses}_{m}'], \n",
    "                prfpy_stim = prfpy_stim)\n",
    "            \n",
    "            prf_multi[sub].prf_obj[f'{eye}_{ses}_{m}'].pd_params['AULCSF_trap'] = add_aulcsf_to_objV2(\n",
    "                prf_obj = prf_multi[sub].prf_obj[f'{eye}_{ses}_{m}'], \n",
    "                prfpy_stim = prfpy_stim)            \n",
    "#              "
   ]
  },
  {
   "cell_type": "code",
   "execution_count": 5,
   "metadata": {},
   "outputs": [],
   "source": [
    "# Add CMF\n",
    "m = 'gauss'\n",
    "for sub in sub_list:\n",
    "    prf_obj_list = [] \n",
    "    prf_id_list = []\n",
    "    for ses in ['1', '2']:        \n",
    "        for eye in ['L', 'R']:    \n",
    "            task = f'pRF{eye}E'\n",
    "            cmf = amb_load_cmf(sub,task,f'ses-{ses}')[task]\n",
    "            prf_multi[sub].prf_obj[f'{eye}_{ses}_{m}'].pd_params['cmf'] = cmf"
   ]
  },
  {
   "cell_type": "code",
   "execution_count": null,
   "metadata": {},
   "outputs": [],
   "source": [
    "sum(amb_load_nverts('sub-01'))"
   ]
  },
  {
   "cell_type": "code",
   "execution_count": null,
   "metadata": {},
   "outputs": [],
   "source": [
    "prf_multi['sub-01'].scatter(\n",
    "    px = 'L_1_csf-AULCSF_sum', \n",
    "    py = 'L_1_gauss-cmf',\n",
    "    do_line=True,\n",
    "    do_corr=True,\n",
    "    th_plus={'L_1_gauss-min-cmf':-1}\n",
    ")\n",
    "# plt.gca().set_aspect('equal', adjustable='box')\n",
    "plt.gcf().set_size_inches(10,10)"
   ]
  },
  {
   "cell_type": "code",
   "execution_count": 12,
   "metadata": {},
   "outputs": [
    {
     "name": "stdout",
     "output_type": "stream",
     "text": [
      "Saving sub-02-L-1-csf-AULCSF_trap in /data1/projects/dumoulinlab/Lab_members/Marcus/projects/amblyopia_emc/derivatives/freesurfer/sub-02/surf/custom\n",
      "Saving sub-02-L-2-csf-AULCSF_trap in /data1/projects/dumoulinlab/Lab_members/Marcus/projects/amblyopia_emc/derivatives/freesurfer/sub-02/surf/custom\n",
      "Saving sub-02-R-1-csf-AULCSF_trap in /data1/projects/dumoulinlab/Lab_members/Marcus/projects/amblyopia_emc/derivatives/freesurfer/sub-02/surf/custom\n",
      "Saving sub-02-R-2-csf-AULCSF_trap in /data1/projects/dumoulinlab/Lab_members/Marcus/projects/amblyopia_emc/derivatives/freesurfer/sub-02/surf/custom\n"
     ]
    }
   ],
   "source": [
    "sub = 'sub-02'\n",
    "fs = FSMaker(sub=sub,fs_dir=fs_dir)\n",
    "m = 'csf'\n",
    "p = 'AULCSF_trap'\n",
    "vmin = 0\n",
    "vmax = 1\n",
    "for eye in ['L', 'R']:\n",
    "    for ses in ['1', '2']:\n",
    "        this_data = prf_multi[sub].prf_obj[f'{eye}_{ses}_{m}'].pd_params[p].to_numpy()\n",
    "        vx_mask = prf_multi[sub].prf_obj[f'{eye}_{ses}_{m}'].return_vx_mask({'min-rsq':.1, })\n",
    "        fs.add_surface(\n",
    "            data = this_data,\n",
    "            surf_name = f'{sub}-{eye}-{ses}-{m}-{p}',    \n",
    "            # vmin = vmin, vmax=vmax, # min and max values of polar anlge \n",
    "            data_mask=vx_mask,\n",
    "            cmap = 'magma', \n",
    "        )\n",
    "fs.open_fs_surface(fs.surf_list)\n"
   ]
  },
  {
   "cell_type": "code",
   "execution_count": null,
   "metadata": {},
   "outputs": [],
   "source": [
    "this_data.shape"
   ]
  },
  {
   "cell_type": "code",
   "execution_count": null,
   "metadata": {},
   "outputs": [],
   "source": [
    "cprf_obj['L'].rapid_p_corr(\n",
    "    'ecc', 'cmf', th={'min-rsq':.2, 'max-ecc':5, 'min-cmf':-1}, do_line=True, dot_alpha=0.1\n",
    ")\n",
    "plt.show()"
   ]
  },
  {
   "cell_type": "code",
   "execution_count": null,
   "metadata": {},
   "outputs": [],
   "source": [
    "# Example for speeding up geodesic_distance\n",
    "from dag_prf_utils.threading import *\n",
    "\n",
    "\n",
    "# Ignore above - just another way to get multithreading working\n",
    "def geodesic_distance_wrapper(ivx):\n",
    "    # your surface here \n",
    "    return gdist.surf['lh'].geodesic_distance(ivx)\n",
    "\n",
    "gdist_thread = DagThreader(io_function=geodesic_distance_wrapper)\n",
    "total_nvx = 50 # test for 50 voxels\n",
    "total_threads = 5 # run with 5 threads\n",
    "result_fast = gdist_thread.run_threader(\n",
    "    input_list = list(range(total_nvx)),\n",
    "    max_size = total_threads)\n",
    "\n",
    "# check it with the slow loop\n",
    "result_slow = []\n",
    "for i  in range(total_nvx):\n",
    "    result_slow.append(geodesic_distance_wrapper(i))\n",
    "\n",
    "# are they the same?\n",
    "for i  in range(total_nvx):\n",
    "    print(result_slow[i]==result_fast[i])\n",
    "\n",
    "\n",
    "for i in range(20):\n",
    "    print(true_result[i]==result[i])\n",
    "#     print(np.round(true_result[i], 3))\n",
    "#     print(np.round(result[i],3))\n",
    "# # plt.imshow(np.array(true_result))\n",
    "# print(np.array(true_result))\n",
    "# print('\\n\\n\\n\\n\\n')\n",
    "# print(np.array(result))\n"
   ]
  },
  {
   "cell_type": "code",
   "execution_count": null,
   "metadata": {},
   "outputs": [],
   "source": [
    "\n",
    "fs_dir = os.environ[\"SUBJECTS_DIR\"]\n"
   ]
  },
  {
   "cell_type": "code",
   "execution_count": null,
   "metadata": {},
   "outputs": [],
   "source": [
    "dir(gdist.surf['lh'])\n"
   ]
  },
  {
   "cell_type": "code",
   "execution_count": null,
   "metadata": {},
   "outputs": [],
   "source": []
  },
  {
   "cell_type": "code",
   "execution_count": null,
   "metadata": {},
   "outputs": [],
   "source": [
    "cprf_obj['L'].pd_params['cmf'] = cmf['full']"
   ]
  },
  {
   "cell_type": "code",
   "execution_count": null,
   "metadata": {},
   "outputs": [],
   "source": [
    "cprf_obj['L'].rapid_p_corr(\n",
    "    px='ecc', py='cmf', th={'min-rsq':.1, 'min-cmf':0, 'roi':roi_mask}, do_line=True\n",
    ")"
   ]
  },
  {
   "cell_type": "code",
   "execution_count": null,
   "metadata": {},
   "outputs": [],
   "source": [
    "distX = gdist.get_ivx_dist(300)\n",
    "distX[300] = 50\n",
    "distX_mask = np.array(np.isnan(distX)==0, dtype=bool)\n"
   ]
  },
  {
   "cell_type": "code",
   "execution_count": null,
   "metadata": {},
   "outputs": [],
   "source": [
    "gdist.get_ivx_dist_closest(207)"
   ]
  },
  {
   "cell_type": "code",
   "execution_count": null,
   "metadata": {},
   "outputs": [],
   "source": [
    "gdist.n_vx"
   ]
  },
  {
   "cell_type": "code",
   "execution_count": null,
   "metadata": {},
   "outputs": [],
   "source": [
    "def get_CMF_LONG(prf_obj, gdist_obj, th):\n",
    "    vx_mask = prf_obj.return_vx_mask(th)\n",
    "    vx_mask_hemi = {}\n",
    "    vx_mask_hemi['lh'] = vx_mask[:gdist_obj.n_vx['lh']]\n",
    "    vx_mask_hemi['rh'] = vx_mask[gdist_obj.n_vx['lh']:]\n",
    "    cmf = np.zeros(prf_obj.n_vox) * np.nan\n",
    "    cmf = {}\n",
    "    cmf['lh'] = np.zeros(gdist_obj.n_vx['lh'])\n",
    "    cmf['rh'] = np.zeros(gdist_obj.n_vx['rh'])\n",
    "    for hemi in ['lh', 'rh']:        \n",
    "        vx_mask_ivx = np.where(vx_mask_hemi[hemi])[0]\n",
    "        for ivx in vx_mask_ivx[:5]:\n",
    "            ivx_dist = gdist.lh_surf.geodesic_distance(ivx)\n",
    "\n",
    "    for ivx in vx_mask_ivx[:5]:\n",
    "        ivx_dist = gdist.lh_surf.geodesic_distance(ivx)\n",
    "        \n",
    "        close_ivx_mask = vx_mask[close_ivx]\n",
    "        close_ivx = close_ivx[close_ivx_mask]\n",
    "        close_val = close_val[close_ivx_mask]\n",
    "        if close_ivx_mask.sum()<6: # Only continue if enough neighbours are present...\n",
    "            continue\n",
    "\n",
    "        tx,ty = prf_obj.pd_params['x'][ivx],prf_obj.pd_params['y'][ivx]\n",
    "        sx,sy = prf_obj.pd_params['x'][close_ivx],prf_obj.pd_params['y'][close_ivx]\n",
    "        \n",
    "        mdiff_deg = np.mean(np.sqrt((tx-sx)**2 + (ty-sy)**2))\n",
    "        mdiff_mm = np.mean(close_val)\n",
    "\n",
    "        cmf[ivx] = mdiff_mm / mdiff_deg\n",
    "    return cmf\n",
    "    \n",
    "cmf = get_CMF(\n",
    "    prf_obj=cprf_obj['L'], \n",
    "    gdist_obj=gdist, \n",
    "    th={'min-rsq':.1, 'roi':roi_mask})"
   ]
  },
  {
   "cell_type": "code",
   "execution_count": null,
   "metadata": {},
   "outputs": [],
   "source": [
    "def get_CMF(prf_obj, gdist_obj, th):\n",
    "    vx_mask = prf_obj.return_vx_mask(th)\n",
    "    vx_mask_ivx = np.where(vx_mask)[0]\n",
    "    cmf = np.zeros(prf_obj.n_vox) * np.nan\n",
    "    # for i in vx_mask_ivx:\n",
    "    for ivx in vx_mask_ivx:\n",
    "        if ivx not in gdist_obj.ivx_list:\n",
    "            continue\n",
    "        close_ivx, close_val = gdist_obj.get_ivx_dist_closest(ivx, closest_x=20)\n",
    "        # Apply the vx mask (e.g., rsq threshold, to cortical distances)\n",
    "        close_ivx_mask = vx_mask[close_ivx]\n",
    "        close_ivx = close_ivx[close_ivx_mask]\n",
    "        close_val = close_val[close_ivx_mask]\n",
    "        if close_ivx_mask.sum()<6: # Only continue if enough neighbours are present...\n",
    "            continue\n",
    "\n",
    "        tx,ty = prf_obj.pd_params['x'][ivx],prf_obj.pd_params['y'][ivx]\n",
    "        sx,sy = prf_obj.pd_params['x'][close_ivx],prf_obj.pd_params['y'][close_ivx]\n",
    "        \n",
    "        mdiff_deg = np.mean(np.sqrt((tx-sx)**2 + (ty-sy)**2))\n",
    "        mdiff_mm = np.mean(close_val)\n",
    "\n",
    "        cmf[ivx] = mdiff_mm / mdiff_deg\n",
    "    return cmf\n",
    "    \n",
    "cmf = get_CMF(\n",
    "    prf_obj=cprf_obj['L'], \n",
    "    gdist_obj=gdist, \n",
    "    th={'min-rsq':.1, 'roi':roi_mask})"
   ]
  },
  {
   "cell_type": "code",
   "execution_count": null,
   "metadata": {},
   "outputs": [],
   "source": [
    "cprf_obj['L'].pd_params['cmf'] = cmf"
   ]
  },
  {
   "cell_type": "code",
   "execution_count": null,
   "metadata": {},
   "outputs": [],
   "source": [
    "\n",
    "cprf_obj['L'].rapid_p_corr(px='ecc', py='cmf', th={'min-rsq':.1, 'roi':roi_mask, 'min-cmf':-1}, do_line=True)\n",
    "# plt.hist(cprf_obj['L'].pd_params['cmf'])\n",
    "plt.show()"
   ]
  },
  {
   "cell_type": "code",
   "execution_count": null,
   "metadata": {},
   "outputs": [],
   "source": [
    "np.where(cprf_obj['L'].return_vx_mask({'min-rsq':.1}))"
   ]
  },
  {
   "cell_type": "code",
   "execution_count": null,
   "metadata": {},
   "outputs": [],
   "source": [
    "fs = FSMaker(sub=sub,fs_dir=fs_dir)\n",
    "th={'min-rsq':.1, 'roi':roi_mask, 'min-cmf':-1}\n",
    "vx_mask = cprf_obj['L'].return_vx_mask(th={'min-rsq':.1, 'roi':roi_mask, 'min-cmf':-1})\n",
    "this_data = cprf_obj['L'].pd_params['cmf'].to_numpy()\n",
    "np.nanmin(this_data)\n",
    "fs.add_surface(\n",
    "    data = this_data,\n",
    "    surf_name = f'{sub}-cmf',    \n",
    "    vmin = 0, vmax=10, # min and max values of polar anlge \n",
    "    data_mask=vx_mask,\n",
    "    cmap = 'magma', \n",
    ")\n",
    "fs.open_fs_surface(fs.surf_list[0])"
   ]
  },
  {
   "cell_type": "code",
   "execution_count": null,
   "metadata": {},
   "outputs": [],
   "source": [
    "surf_calc = lsopt.Neighbours(\n",
    "    subject='sub-01', \n",
    ")\n",
    "surf_calc.create_distance()"
   ]
  }
 ],
 "metadata": {
  "kernelspec": {
   "display_name": "ls_dag",
   "language": "python",
   "name": "python3"
  },
  "language_info": {
   "codemirror_mode": {
    "name": "ipython",
    "version": 3
   },
   "file_extension": ".py",
   "mimetype": "text/x-python",
   "name": "python",
   "nbconvert_exporter": "python",
   "pygments_lexer": "ipython3",
   "version": "3.9.10"
  },
  "orig_nbformat": 4
 },
 "nbformat": 4,
 "nbformat_minor": 2
}
