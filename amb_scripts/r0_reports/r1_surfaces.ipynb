{
 "cells": [
  {
   "cell_type": "code",
   "execution_count": 1,
   "metadata": {},
   "outputs": [
    {
     "name": "stdout",
     "output_type": "stream",
     "text": [
      "The autoreload extension is already loaded. To reload it, use:\n",
      "  %reload_ext autoreload\n"
     ]
    },
    {
     "name": "stderr",
     "output_type": "stream",
     "text": [
      "/home/daghlian/.conda/envs/ls_dag/lib/python3.9/site-packages/nilearn/glm/__init__.py:55: FutureWarning: The nilearn.glm module is experimental. It may change in any future release of Nilearn.\n",
      "  warn('The nilearn.glm module is experimental. '\n"
     ]
    }
   ],
   "source": [
    "%load_ext autoreload\n",
    "%autoreload 2\n",
    "\n",
    "import numpy as np\n",
    "import matplotlib as mpl\n",
    "import matplotlib.pyplot as plt\n",
    "import seaborn as sns\n",
    "\n",
    "from amb_scripts.load_saved_info import *\n",
    "from amb_scripts.plot_csfv3 import *\n",
    "\n",
    "from dag_prf_utils.prfpy_functions import *\n",
    "from dag_prf_utils.plot_functions import *\n",
    "from dag_prf_utils.utils import *\n",
    "from dag_prf_utils.mesh_maker import *\n",
    "\n",
    "plot_cols = get_plot_cols()\n",
    "\n",
    "fs_dir = '/data1/projects/dumoulinlab/Lab_members/Marcus/projects/amblyopia_emc/derivatives/freesurfer'"
   ]
  },
  {
   "cell_type": "code",
   "execution_count": 2,
   "metadata": {},
   "outputs": [
    {
     "name": "stdout",
     "output_type": "stream",
     "text": [
      "ERROR: could not find volume /data1/projects/dumoulinlab/Lab_members/Marcus/projects/pilot1/derivatives/freesurfer/sub-02/surf/None.  Does it exist?\n",
      "ERROR: could not find volume /data1/projects/dumoulinlab/Lab_members/Marcus/projects/pilot1/derivatives/freesurfer/sub-02/surf/None.  Does it exist?\n"
     ]
    },
    {
     "name": "stderr",
     "output_type": "stream",
     "text": [
      "error: mri_read(): couldn't determine type of file /data1/projects/dumoulinlab/Lab_members/Marcus/projects/pilot1/derivatives/freesurfer/sub-02/surf/None\n",
      "could not read overlay data from /data1/projects/dumoulinlab/Lab_members/Marcus/projects/pilot1/derivatives/freesurfer/sub-02/surf/None\n"
     ]
    }
   ],
   "source": [
    "fs_dir = opj(os.getenv('DIR_DATA_DERIV'), 'freesurfer')\n",
    "\n",
    "fs = FSMaker('sub-02', fs_dir)\n",
    "roi_list = ['V1','V2','V3.','V3a', 'V3b','hV4','VO1','VO2','LO1','LO2','TO1','TO2']\n",
    "fs.open_fs_surface(\n",
    "    [\n",
    "    'L-2-gauss-pol',\n",
    "    # # 'R-2-csf-AULCSF', \n",
    "    # # 'R-1-csf-rsq',    \n",
    "    # # 'R-2-csf-rsq', \n",
    "    ], \n",
    "    # roi_list=roi_list,\n",
    "    overlay_cmap='pol4', vmin=10,vmax=11, \n",
    "    )\n"
   ]
  },
  {
   "cell_type": "code",
   "execution_count": 3,
   "metadata": {},
   "outputs": [],
   "source": [
    "# dag_get_cmap('jet')"
   ]
  },
  {
   "attachments": {},
   "cell_type": "markdown",
   "metadata": {},
   "source": [
    "# LOAD PRF MULTI OBJECTS"
   ]
  },
  {
   "cell_type": "code",
   "execution_count": 27,
   "metadata": {},
   "outputs": [],
   "source": [
    "sub_list = ['sub-02']#, 'sub-02']\n",
    "ses_list = ['ses-1', 'ses-2']\n",
    "roi_fit = 'all'\n",
    "fit_stage='iter'\n",
    "\n",
    "model_list = ['gauss',]# 'csf', 'css', 'dog']\n",
    "prf_multi = {}\n",
    "\n",
    "for sub in sub_list:\n",
    "    prf_obj_list = [] \n",
    "    prf_id_list = []\n",
    "    for i_ses,ses in enumerate(ses_list):        \n",
    "        for eye in ['L', 'R']:    \n",
    "            for model in model_list:\n",
    "                if 'csf' in model:\n",
    "                    task = f'CSF{eye}E'\n",
    "                else:\n",
    "                    task = f'pRF{eye}E'\n",
    "\n",
    "                this_prf_data = amb_load_prf_params(\n",
    "                    sub=sub,\n",
    "                    task_list=task,\n",
    "                    model_list=model,\n",
    "                    roi_fit=roi_fit, \n",
    "                    fit_stage=fit_stage,\n",
    "                    ses=ses\n",
    "                )[task][model]\n",
    "                                                        \n",
    "                prf_obj_list.append(Prf1T1M(this_prf_data, model))\n",
    "                prf_id_list.append(f'{eye}_{i_ses+1}_{model}')   \n",
    "            \n",
    "    prf_multi[sub] = PrfMulti(prf_obj_list, prf_id_list)"
   ]
  },
  {
   "cell_type": "code",
   "execution_count": 25,
   "metadata": {},
   "outputs": [
    {
     "data": {
      "text/plain": [
       "['L_1_gauss', 'R_1_gauss', 'L_2_gauss', 'R_2_gauss']"
      ]
     },
     "execution_count": 25,
     "metadata": {},
     "output_type": "execute_result"
    }
   ],
   "source": [
    "prf_multi['sub-01'].id_list"
   ]
  },
  {
   "cell_type": "code",
   "execution_count": 68,
   "metadata": {},
   "outputs": [],
   "source": [
    "prf_multi['sub-01'].add_prf_diff(\n",
    "    'L_1_gauss', 'L_2_gauss'\n",
    ")"
   ]
  },
  {
   "cell_type": "code",
   "execution_count": 28,
   "metadata": {},
   "outputs": [],
   "source": [
    "# *** ADD THE AULCSF\n",
    "prfpy_stim = amb_load_prfpy_stim('CSF')\n",
    "from prfpy.model import csenf_exponential\n",
    "m = 'csf'\n",
    "for sub in sub_list:\n",
    "    prf_obj_list = [] \n",
    "    prf_id_list = []\n",
    "    for ses in ['1', '2']:        \n",
    "        for eye in ['L', 'R']:    \n",
    "            task = f'CSF{eye}E'\n",
    "            vx_mask = prf_multi[sub].prf_obj[f'{eye}_{ses}_{m}'].return_vx_mask({'min-rsq':.1})            \n",
    "            # vx_mask = np.where(vx_mask)[0]\n",
    "            this_AULCSF = np.zeros(prf_multi[sub].n_vox)\n",
    "            this_prf_obj = []\n",
    "            this_prf_obj = prf_multi[sub].prf_obj[f'{eye}_{ses}_{m}']\n",
    "\n",
    "            this_rfs = csenf_exponential(\n",
    "                log_SF_grid = prfpy_stim.log_SF_grid, \n",
    "                CON_S_grid = prfpy_stim.CON_S_grid, \n",
    "                width_r = this_prf_obj.pd_params['width_r'][vx_mask].to_numpy(), \n",
    "                sf0 = this_prf_obj.pd_params['sf0'][vx_mask].to_numpy(), \n",
    "                maxC = this_prf_obj.pd_params['maxC'][vx_mask].to_numpy(), \n",
    "                width_l = this_prf_obj.pd_params['width_l'][vx_mask].to_numpy(),)\n",
    "\n",
    "            # this_AUCLSF[vx_mask] = \n",
    "            this_AULCSF[vx_mask] = this_rfs.sum(axis=(1,2)) / (this_rfs.shape[1] * this_rfs.shape[2])\n",
    "            prf_multi[sub].prf_obj[f'{eye}_{ses}_{m}'].pd_params['AULCSF'] = this_AULCSF.copy()"
   ]
  },
  {
   "attachments": {},
   "cell_type": "markdown",
   "metadata": {},
   "source": [
    "# OPEN anything... "
   ]
  },
  {
   "cell_type": "code",
   "execution_count": 34,
   "metadata": {},
   "outputs": [
    {
     "name": "stdout",
     "output_type": "stream",
     "text": [
      "L-1-gauss-size_1 not in dict\n",
      "Checking custom surf dir\n",
      "R-1-gauss-size_1 not in dict\n",
      "Checking custom surf dir\n",
      "L-2-gauss-size_1 not in dict\n",
      "Checking custom surf dir\n",
      "R-2-gauss-size_1 not in dict\n",
      "Checking custom surf dir\n",
      "L-1-gauss-size_1 not in dict\n",
      "Checking custom surf dir\n",
      "R-1-gauss-size_1 not in dict\n",
      "Checking custom surf dir\n",
      "L-2-gauss-size_1 not in dict\n",
      "Checking custom surf dir\n",
      "R-2-gauss-size_1 not in dict\n",
      "Checking custom surf dir\n"
     ]
    }
   ],
   "source": [
    "fs_dir = opj(os.getenv('DIR_DATA_DERIV'), 'freesurfer')\n",
    "\n",
    "fs = FSMaker('sub-02', fs_dir)\n",
    "roi_list = ['V1','V2','V3.','V3a', 'V3b','hV4','VO1','VO2','LO1','LO2','TO1','TO2']\n",
    "roi_list = ['b14_'+i for i in roi_list]\n",
    "# fs.add_sur\n",
    "fs.open_fs_surface([\n",
    "    'L-1-gauss-size_1',\n",
    "    'R-1-gauss-size_1', \n",
    "    'L-2-gauss-size_1',\n",
    "    'R-2-gauss-size_1',     \n",
    "    # 'L-1-gauss-ecc',\n",
    "    # 'R-1-gauss-ecc',     \n",
    "    # 'L-2-csf-rsq',\n",
    "    # 'R-2-csf-rsq', \n",
    "    # 'R-1-csf-rsq',    \n",
    "    # 'R-2-csf-rsq', \n",
    "    ], \n",
    "    # roi_list=roi_list,\n",
    "    )"
   ]
  },
  {
   "cell_type": "code",
   "execution_count": 21,
   "metadata": {},
   "outputs": [
    {
     "ename": "NameError",
     "evalue": "name 'dag_cmap_maker' is not defined",
     "output_type": "error",
     "traceback": [
      "\u001b[0;31m---------------------------------------------------------------------------\u001b[0m",
      "\u001b[0;31mNameError\u001b[0m                                 Traceback (most recent call last)",
      "Cell \u001b[0;32mIn[21], line 1\u001b[0m\n\u001b[0;32m----> 1\u001b[0m dag_cmap_maker\n",
      "\u001b[0;31mNameError\u001b[0m: name 'dag_cmap_maker' is not defined"
     ]
    }
   ],
   "source": [
    "dag_cmap_maker"
   ]
  },
  {
   "cell_type": "code",
   "execution_count": 13,
   "metadata": {},
   "outputs": [
    {
     "data": {
      "image/png": "[encoded data removed]",
      "text/html": [
       "<div style=\"vertical-align: middle;\"><strong>Blues</strong> </div><div class=\"cmap\"><img alt=\"Blues colormap\" title=\"Blues\" style=\"border: 1px solid #555;\" src=\"data:image/png;base64,iVBORw0KGgoAAAANSUhEUgAAAgAAAABACAYAAABsv8+/AAAAFHRFWHRUaXRsZQBCbHVlcyBjb2xvcm1hcIbbCAEAAAAadEVYdERlc2NyaXB0aW9uAEJsdWVzIGNvbG9ybWFweISh5wAAADB0RVh0QXV0aG9yAE1hdHBsb3RsaWIgdjMuNS4xLCBodHRwczovL21hdHBsb3RsaWIub3Jn97fOzwAAADJ0RVh0U29mdHdhcmUATWF0cGxvdGxpYiB2My41LjEsIGh0dHBzOi8vbWF0cGxvdGxpYi5vcmfZEVHoAAAB00lEQVR4nO3WwU7rMAAAQcP//y8HpIQDJQi3Vopa3uHtzCVynDhxCdK+vL3v+xhj7J+HcTmMy+E4P47x7fnjqgfnp8ct57/Xe2z+3v397/Pz77ON+XvYfze/OP81vn/+9ntuV+89z6/2d1l/Hh/X397fdhwX+5zWOV3/5Pz8HqfXLe9fvN/8+yzuv/p7zPNX+zj5Ts6et1pvsY9717v6bk72cz4+2df2rOf87rmPr/vzH281f+91z1rnr5439u3rhp/jbRqvrnv6+F8953P8OgCAHAEAAEECAACCBAAABAkAAAgSAAAQJAAAIEgAAECQAACAIAEAAEECAACCBAAABAkAAAgSAAAQJAAAIEgAAECQAACAIAEAAEECAACCBAAABAkAAAgSAAAQJAAAIEgAAECQAACAIAEAAEECAACCBAAABAkAAAgSAAAQJAAAIEgAAECQAACAIAEAAEECAACCBAAABAkAAAgSAAAQJAAAIEgAAECQAACAIAEAAEECAACCBAAABAkAAAgSAAAQJAAAIEgAAECQAACAIAEAAEECAACCBAAABAkAAAgSAAAQJAAAIEgAAECQAACAIAEAAEECAACCBAAABAkAAAgSAAAQJAAAIOgDfCcYQIPsTRMAAAAASUVORK5CYII=\"></div><div style=\"vertical-align: middle; max-width: 514px; display: flex; justify-content: space-between;\"><div style=\"float: left;\"><div title=\"#f7fbffff\" style=\"display: inline-block; width: 1em; height: 1em; margin: 0; vertical-align: middle; border: 1px solid #555; background-color: #f7fbffff;\"></div> under</div><div style=\"margin: 0 auto; display: inline-block;\">bad <div title=\"#00000000\" style=\"display: inline-block; width: 1em; height: 1em; margin: 0; vertical-align: middle; border: 1px solid #555; background-color: #00000000;\"></div></div><div style=\"float: right;\">over <div title=\"#08306bff\" style=\"display: inline-block; width: 1em; height: 1em; margin: 0; vertical-align: middle; border: 1px solid #555; background-color: #08306bff;\"></div></div>"
      ],
      "text/plain": [
       "<matplotlib.colors.LinearSegmentedColormap at 0x7f34945e2430>"
      ]
     },
     "execution_count": 13,
     "metadata": {},
     "output_type": "execute_result"
    }
   ],
   "source": [
    "dag_get_cmap('Blues')"
   ]
  },
  {
   "cell_type": "code",
   "execution_count": 28,
   "metadata": {},
   "outputs": [
    {
     "name": "stdout",
     "output_type": "stream",
     "text": [
      "Saving L-1-gauss-pol in /data1/projects/dumoulinlab/Lab_members/Marcus/projects/amblyopia_emc/derivatives/freesurfer/sub-02/surf/custom\n",
      "Saving L-1-gauss-ecc in /data1/projects/dumoulinlab/Lab_members/Marcus/projects/amblyopia_emc/derivatives/freesurfer/sub-02/surf/custom\n",
      "Saving L-1-gauss-size_1 in /data1/projects/dumoulinlab/Lab_members/Marcus/projects/amblyopia_emc/derivatives/freesurfer/sub-02/surf/custom\n",
      "Saving L-1-gauss-rsq in /data1/projects/dumoulinlab/Lab_members/Marcus/projects/amblyopia_emc/derivatives/freesurfer/sub-02/surf/custom\n",
      "Saving R-1-gauss-pol in /data1/projects/dumoulinlab/Lab_members/Marcus/projects/amblyopia_emc/derivatives/freesurfer/sub-02/surf/custom\n",
      "Saving R-1-gauss-ecc in /data1/projects/dumoulinlab/Lab_members/Marcus/projects/amblyopia_emc/derivatives/freesurfer/sub-02/surf/custom\n",
      "Saving R-1-gauss-size_1 in /data1/projects/dumoulinlab/Lab_members/Marcus/projects/amblyopia_emc/derivatives/freesurfer/sub-02/surf/custom\n",
      "Saving R-1-gauss-rsq in /data1/projects/dumoulinlab/Lab_members/Marcus/projects/amblyopia_emc/derivatives/freesurfer/sub-02/surf/custom\n",
      "Saving L-2-gauss-pol in /data1/projects/dumoulinlab/Lab_members/Marcus/projects/amblyopia_emc/derivatives/freesurfer/sub-02/surf/custom\n",
      "Saving L-2-gauss-ecc in /data1/projects/dumoulinlab/Lab_members/Marcus/projects/amblyopia_emc/derivatives/freesurfer/sub-02/surf/custom\n",
      "Saving L-2-gauss-size_1 in /data1/projects/dumoulinlab/Lab_members/Marcus/projects/amblyopia_emc/derivatives/freesurfer/sub-02/surf/custom\n",
      "Saving L-2-gauss-rsq in /data1/projects/dumoulinlab/Lab_members/Marcus/projects/amblyopia_emc/derivatives/freesurfer/sub-02/surf/custom\n",
      "Saving R-2-gauss-pol in /data1/projects/dumoulinlab/Lab_members/Marcus/projects/amblyopia_emc/derivatives/freesurfer/sub-02/surf/custom\n",
      "Saving R-2-gauss-ecc in /data1/projects/dumoulinlab/Lab_members/Marcus/projects/amblyopia_emc/derivatives/freesurfer/sub-02/surf/custom\n",
      "Saving R-2-gauss-size_1 in /data1/projects/dumoulinlab/Lab_members/Marcus/projects/amblyopia_emc/derivatives/freesurfer/sub-02/surf/custom\n",
      "Saving R-2-gauss-rsq in /data1/projects/dumoulinlab/Lab_members/Marcus/projects/amblyopia_emc/derivatives/freesurfer/sub-02/surf/custom\n"
     ]
    },
    {
     "data": {
      "image/png": "[encoded data removed]",
      "text/plain": [
       "<Figure size 432x288 with 1 Axes>"
      ]
     },
     "metadata": {
      "needs_background": "light"
     },
     "output_type": "display_data"
    },
    {
     "data": {
      "image/png": "[encoded data removed]",
      "text/plain": [
       "<Figure size 432x288 with 1 Axes>"
      ]
     },
     "metadata": {
      "needs_background": "light"
     },
     "output_type": "display_data"
    },
    {
     "data": {
      "image/png": "[encoded data removed]",
      "text/plain": [
       "<Figure size 432x288 with 1 Axes>"
      ]
     },
     "metadata": {
      "needs_background": "light"
     },
     "output_type": "display_data"
    },
    {
     "data": {
      "image/png": "[encoded data removed]",
      "text/plain": [
       "<Figure size 432x288 with 1 Axes>"
      ]
     },
     "metadata": {
      "needs_background": "light"
     },
     "output_type": "display_data"
    },
    {
     "data": {
      "image/png": "[encoded data removed]",
      "text/plain": [
       "<Figure size 432x288 with 1 Axes>"
      ]
     },
     "metadata": {
      "needs_background": "light"
     },
     "output_type": "display_data"
    },
    {
     "data": {
      "image/png": "[encoded data removed]",
      "text/plain": [
       "<Figure size 432x288 with 1 Axes>"
      ]
     },
     "metadata": {
      "needs_background": "light"
     },
     "output_type": "display_data"
    },
    {
     "data": {
      "image/png": "[encoded data removed]",
      "text/plain": [
       "<Figure size 432x288 with 1 Axes>"
      ]
     },
     "metadata": {
      "needs_background": "light"
     },
     "output_type": "display_data"
    },
    {
     "data": {
      "image/png": "[encoded data removed]",
      "text/plain": [
       "<Figure size 432x288 with 1 Axes>"
      ]
     },
     "metadata": {
      "needs_background": "light"
     },
     "output_type": "display_data"
    },
    {
     "data": {
      "image/png": "[encoded data removed]",
      "text/plain": [
       "<Figure size 432x288 with 1 Axes>"
      ]
     },
     "metadata": {
      "needs_background": "light"
     },
     "output_type": "display_data"
    },
    {
     "data": {
      "image/png": "[encoded data removed]",
      "text/plain": [
       "<Figure size 432x288 with 1 Axes>"
      ]
     },
     "metadata": {
      "needs_background": "light"
     },
     "output_type": "display_data"
    },
    {
     "data": {
      "image/png": "[encoded data removed]",
      "text/plain": [
       "<Figure size 432x288 with 1 Axes>"
      ]
     },
     "metadata": {
      "needs_background": "light"
     },
     "output_type": "display_data"
    },
    {
     "data": {
      "image/png": "[encoded data removed]",
      "text/plain": [
       "<Figure size 432x288 with 1 Axes>"
      ]
     },
     "metadata": {
      "needs_background": "light"
     },
     "output_type": "display_data"
    },
    {
     "data": {
      "image/png": "[encoded data removed]",
      "text/plain": [
       "<Figure size 432x288 with 1 Axes>"
      ]
     },
     "metadata": {
      "needs_background": "light"
     },
     "output_type": "display_data"
    },
    {
     "data": {
      "image/png": "[encoded data removed]",
      "text/plain": [
       "<Figure size 432x288 with 1 Axes>"
      ]
     },
     "metadata": {
      "needs_background": "light"
     },
     "output_type": "display_data"
    },
    {
     "data": {
      "image/png": "[encoded data removed]",
      "text/plain": [
       "<Figure size 432x288 with 1 Axes>"
      ]
     },
     "metadata": {
      "needs_background": "light"
     },
     "output_type": "display_data"
    },
    {
     "data": {
      "image/png": "[encoded data removed]",
      "text/plain": [
       "<Figure size 432x288 with 1 Axes>"
      ]
     },
     "metadata": {
      "needs_background": "light"
     },
     "output_type": "display_data"
    }
   ],
   "source": [
    "p_list = {\n",
    "    'gauss' : ['pol',    'ecc',  'size_1', 'rsq'],\n",
    "    # 'csf' : ['AULCSF',]# 'width_r', 'sf0', 'maxC', 'sfmax', 'rsq']\n",
    "    # 'css' : ['n_exp', 'rsq'],\n",
    "    # 'dog' : ['size_1', 'rsq', 'size_ratio'],\n",
    "    # 'norm' : ['']\n",
    "}\n",
    "sub_el = {\n",
    "    'sub-01': -35,\n",
    "    'sub-02': -20,\n",
    "}\n",
    "cmap_dict = {\n",
    "    'width_r' : 'Reds_r',       \n",
    "    'sf0' : 'Blues', \n",
    "    'sfmax' : 'Blues',\n",
    "    'maxC' : 'Greens',\n",
    "    'pol' : 'twilight',#'marco_pol',   \n",
    "    'ecc' : 'ecc' ,    \n",
    "    'rsq' : 'cool'  ,\n",
    "    'size_1' : 'viridis',\n",
    "    'AULCSF' : 'viridis_r',     \n",
    "}\n",
    "\n",
    "vval_dict = {\n",
    "    'pol': [-3.14, 3.14],\n",
    "    'ecc': [0,5],\n",
    "    'size_1': [0,8],\n",
    "    'rsq': [0,1],\n",
    "    'width_r': [0,3],\n",
    "    'sf0' : [0,6],\n",
    "    'maxC': [0, 200],\n",
    "    'sfmax': [0, 20],\n",
    "    'AULCSF' : [0,1],\n",
    "    }\n",
    "sc_folder = '/data1/projects/dumoulinlab/Lab_members/Marcus/projects/amblyopia_emc/code/amb_code/reports/'\n",
    "for sub in ['sub-02']:#sub_list:\n",
    "    fs = FSMaker(sub, fs_dir)\n",
    "    for ses in ['1', '2']:\n",
    "        for eye in ['L', 'R']:\n",
    "            for m in p_list.keys():\n",
    "                vx_mask = prf_multi[sub].return_vx_mask({\n",
    "                    f'{eye}_{ses}_{m}-min-rsq':.1\n",
    "                })\n",
    "                for p in p_list[m]:\n",
    "                    this_data = prf_multi[sub].prf_obj[f'{eye}_{ses}_{m}'].pd_params[p]\n",
    "                    surf_name = f'{eye}-{ses}-{m}-{p}'\n",
    "                    plt.figure()\n",
    "                    plt.title(surf_name)\n",
    "                    plt.hist(this_data[vx_mask])\n",
    "                    fs.add_surface(\n",
    "                        data = this_data,\n",
    "                        surf_name = surf_name,    \n",
    "                        vmin = vval_dict[p][0], \n",
    "                        vmax = vval_dict[p][1], \n",
    "                        data_mask = vx_mask,\n",
    "                        cmap = cmap_dict[p], \n",
    "                        cmap_nsteps=100\n",
    "                    )\n",
    "                    # fview_cmds = {\n",
    "                    #     'do_scrn_shot' : True,\n",
    "                    #     'azimuth' : 90,\n",
    "                    #     'elevation' : sub_el[sub],\n",
    "                    #     'scr_shot_file' : opj(sc_folder, sub)\n",
    "                    # }\n",
    "                    \n",
    "                    # fs.open_fs_surface(\n",
    "                    #     surf_name=surf_name, \n",
    "                    #     mesh='inflated',\n",
    "                    #     **fview_cmds,\n",
    "                    #     )     \n",
    "\n",
    "                    # bloop"
   ]
  },
  {
   "attachments": {},
   "cell_type": "markdown",
   "metadata": {},
   "source": [
    "# Do best possible polar map"
   ]
  },
  {
   "cell_type": "code",
   "execution_count": 86,
   "metadata": {},
   "outputs": [
    {
     "name": "stdout",
     "output_type": "stream",
     "text": [
      "Saving wpol in /data1/projects/dumoulinlab/Lab_members/Marcus/projects/amblyopia_emc/derivatives/freesurfer/sub-02/surf/custom\n"
     ]
    }
   ],
   "source": [
    "sub = 'sub-02'\n",
    "m = 'gauss'\n",
    "x_list = []\n",
    "y_list = []\n",
    "rsq_list = []\n",
    "\n",
    "for ses in ['1', '2']:\n",
    "    for eye in ['L', 'R']:\n",
    "        \n",
    "        x_list.append(prf_multi[sub].prf_obj[f'{eye}_{ses}_{m}'].pd_params['x'].to_numpy())\n",
    "        y_list.append(prf_multi[sub].prf_obj[f'{eye}_{ses}_{m}'].pd_params['y'].to_numpy())        \n",
    "        this_rsq = prf_multi[sub].prf_obj[f'{eye}_{ses}_{m}'].pd_params['rsq'].to_numpy()\n",
    "        # vx_mask = prf_multi[sub].prf_obj[f'{eye}_{ses}_{m}'].return_vx_mask({'min-rsq':.1, 'max-ecc':5})\n",
    "        # this_rsq[~vx_mask] = 0\n",
    "        rsq_list.append(this_rsq)\n",
    "        this_rsq = []\n",
    "\n",
    "x_list = np.vstack(x_list)\n",
    "y_list = np.vstack(y_list)\n",
    "rsq_list = np.vstack(rsq_list)\n",
    "wx_mean = dag_weighted_mean(rsq_list, x_list, axis=0)\n",
    "wy_mean = dag_weighted_mean(rsq_list, y_list, axis=0)\n",
    "\n",
    "wecc, wpol = dag_coord_convert(wx_mean, wy_mean, 'cart2pol')\n",
    "p = 'pol'\n",
    "fs = FSMaker(sub, fs_dir)\n",
    "fs.add_surface(\n",
    "    data = wpol,\n",
    "    surf_name = 'wpol',    \n",
    "    vmin = vval_dict[p][0], \n",
    "    vmax = vval_dict[p][1], \n",
    "    data_mask = ~np.isnan(wpol),\n",
    "    cmap = cmap_dict[p], \n",
    "    cmap_nsteps=100\n",
    ")"
   ]
  },
  {
   "cell_type": "code",
   "execution_count": 87,
   "metadata": {},
   "outputs": [
    {
     "data": {
      "text/plain": [
       "(array([ 6210.,  5503.,  4825.,  9651., 12453.,  8618.,  5973.,  2537.,\n",
       "         3981.,  6560.]),\n",
       " array([-3.14147104e+00, -2.51317851e+00, -1.88488598e+00, -1.25659344e+00,\n",
       "        -6.28300908e-01, -8.37448797e-06,  6.28284159e-01,  1.25657669e+00,\n",
       "         1.88486923e+00,  2.51316176e+00,  3.14145429e+00]),\n",
       " <BarContainer object of 10 artists>)"
      ]
     },
     "execution_count": 87,
     "metadata": {},
     "output_type": "execute_result"
    },
    {
     "data": {
      "image/png": "[encoded data removed]",
      "text/plain": [
       "<Figure size 432x288 with 1 Axes>"
      ]
     },
     "metadata": {
      "needs_background": "light"
     },
     "output_type": "display_data"
    }
   ],
   "source": [
    "plt.hist(wpol[~np.isnan(wpol)])"
   ]
  },
  {
   "cell_type": "code",
   "execution_count": 88,
   "metadata": {},
   "outputs": [
    {
     "name": "stdout",
     "output_type": "stream",
     "text": [
      "L-1-gauss-pol not in dict\n",
      "Checking custom surf dir\n",
      "L-2-gauss-pol not in dict\n",
      "Checking custom surf dir\n",
      "R-1-gauss-pol not in dict\n",
      "Checking custom surf dir\n",
      "R-2-gauss-pol not in dict\n",
      "Checking custom surf dir\n",
      "L-1-gauss-pol not in dict\n",
      "Checking custom surf dir\n",
      "L-2-gauss-pol not in dict\n",
      "Checking custom surf dir\n",
      "R-1-gauss-pol not in dict\n",
      "Checking custom surf dir\n",
      "R-2-gauss-pol not in dict\n",
      "Checking custom surf dir\n"
     ]
    }
   ],
   "source": [
    "fs.open_fs_surface(['wpol', 'L-1-gauss-pol', 'L-2-gauss-pol', 'R-1-gauss-pol', 'R-2-gauss-pol',])"
   ]
  },
  {
   "cell_type": "code",
   "execution_count": 73,
   "metadata": {},
   "outputs": [
    {
     "data": {
      "text/plain": [
       "0.7853981633974483"
      ]
     },
     "execution_count": 73,
     "metadata": {},
     "output_type": "execute_result"
    }
   ],
   "source": [
    "np.isnan(wpol).sum()\n",
    "np.where(np.sum(rsq_list,axis=0)<0)\n",
    "rsq_list[:,68]\n",
    "# rsq_list.min()\n",
    "# wpol[68]"
   ]
  },
  {
   "cell_type": "code",
   "execution_count": 34,
   "metadata": {},
   "outputs": [
    {
     "name": "stdout",
     "output_type": "stream",
     "text": [
      "3.148898962235913\n",
      "[0.         0.         3.14889896 0.        ]\n",
      "[0.         0.         0.25103109 0.        ]\n"
     ]
    },
    {
     "data": {
      "text/plain": [
       "-1.8501979789056984"
      ]
     },
     "execution_count": 34,
     "metadata": {},
     "output_type": "execute_result"
    }
   ],
   "source": [
    "i = 10\n",
    "print(wx_list[i])\n",
    "print(x_list[:,i])\n",
    "print(rsq_list[:,i])\n",
    "a = (rsq_list[0]<0.1) & (rsq_list[0]>0.01)\n",
    "rsq_list[0][np.where(a)[0]]\n",
    "# rsq_list[rsq_list<0.1] = 0\n",
    "rsq_list.min()"
   ]
  },
  {
   "cell_type": "code",
   "execution_count": null,
   "metadata": {},
   "outputs": [],
   "source": [
    "# tc_ses_1  = amb_load_real_tc_run(sub, ['pRFLE', 'pRFRE', 'CSFLE', 'CSFRE'], ses='ses-1')\n",
    "# tc_ses_2  = amb_load_real_tc_run(sub, ['pRFLE', 'pRFRE', 'CSFLE', 'CSFRE'], ses='ses-2')"
   ]
  },
  {
   "cell_type": "code",
   "execution_count": null,
   "metadata": {},
   "outputs": [],
   "source": [
    "# task_list = ['pRFLE', 'pRFRE', 'CSFLE', 'CSFRE']\n",
    "# inten1 = {}\n",
    "# inten2 = {}\n",
    "# for task in task_list:\n",
    "#     inten1[task] = np.mean(tc_ses_1[task], axis=(0,-1))\n",
    "#     inten2[task] = np.mean(tc_ses_2[task], axis=(0,-1))\n",
    "\n",
    "#     print(inten2[task].shape)\n"
   ]
  },
  {
   "cell_type": "code",
   "execution_count": null,
   "metadata": {},
   "outputs": [],
   "source": [
    "# for task in task_list:\n",
    "#     print(f'{task} - 1')\n",
    "#     print(np.percentile(inten1[task], 99))\n",
    "#     print(np.percentile(inten1[task], 1))\n",
    "\n",
    "#     print('')\n",
    "#     print(f'{task} - 2')\n",
    "#     print(np.percentile(inten2[task], 99))\n",
    "#     print(np.percentile(inten2[task], 1))    "
   ]
  },
  {
   "cell_type": "code",
   "execution_count": null,
   "metadata": {},
   "outputs": [],
   "source": [
    "# fs = FSMaker(sub, fs_dir)\n",
    "\n",
    "# # POLAR \n",
    "# for task in task_list:\n",
    "#     fs.add_surface(\n",
    "#         data = inten1[task],\n",
    "#         surf_name = f'int1-{task}',    \n",
    "#         cmap = 'magma', \n",
    "#         vmin=0, vmax=100000,\n",
    "#     )    \n",
    "#     fs.add_surface(\n",
    "#         data = inten2[task],\n",
    "#         surf_name = f'int2-{task}',    \n",
    "#         cmap = 'magma', \n",
    "#         vmin=0, vmax=100000,\n",
    "#     )        \n",
    "\n",
    "# fs.open_fs_surface(\n",
    "#     fs.surf_list, \n",
    "#     mesh='inflated', \n",
    "#     # roi_list=['v1custom', 'v2custom', 'v3custom', 'LOcustom']\n",
    "#     )    "
   ]
  },
  {
   "cell_type": "code",
   "execution_count": null,
   "metadata": {},
   "outputs": [],
   "source": [
    "# # for task in task_list:\n",
    "# #     plt.figure()\n",
    "# #     plt.hist(inten1[task], color='b', alpha=0.5)\n",
    "# #     plt.hist(inten2[task], color='g', alpha=0.5)\n",
    "\n",
    "# for task in ['pRF', 'CSF']:\n",
    "#     plt.figure()\n",
    "#     # plt.hist(inten1[f'{task}LE'], color='#9ecae1', alpha=0.5)\n",
    "#     plt.hist(inten2[f'{task}LE'], color='#3182bd', alpha=0.5)\n",
    "#     # plt.hist(inten1[f'{task}RE'], color='#a1d99b', alpha=0.5)\n",
    "#     plt.hist(inten2[f'{task}RE'], color='#31a354', alpha=0.5)\n",
    "\n",
    "#     # plt.hist(inten2[task], color='g', alpha=0.5)\n"
   ]
  },
  {
   "cell_type": "code",
   "execution_count": null,
   "metadata": {},
   "outputs": [],
   "source": [
    "# # # all_prf_obj.rapid_hist(ax=plt.gca(), px='pRFLE-hrf_deriv', alpha=0.5)\n",
    "# # # all_prf_obj.rapid_hist(ax=plt.gca(), px='pRFRE-hrf_deriv', alpha=0.5)\n",
    "# # all_prf_obj.rapid_hist(ax=plt.gca(), px='CSFRE-hrf_deriv', alpha=0.5)\n",
    "# # all_prf_obj.rapid_hist(ax=plt.gca(), px='CSFLE-hrf_deriv', alpha=0.5)\n",
    "\n",
    "eye = 'R'\n",
    "prf_multi.rapid_p_corr(\n",
    "    f'{eye}_1_csf-rsq',\n",
    "    f'{eye}_2_csf-rsq', \n",
    "    th={f'{eye}_1_csf-min-rsq':.1, f'{eye}_2_csf-min-rsq':.1}, do_id_line=True,\n",
    "    do_line=True, line_col='r', dot_col='k', dot_alpha=.5)"
   ]
  },
  {
   "cell_type": "code",
   "execution_count": null,
   "metadata": {},
   "outputs": [],
   "source": [
    "# prf_dE = Prf1T1Mx2(prf_obj['pRFLE']['gauss'], prf_obj['pRFRE']['gauss'], id1='prfLE', id2='prfRE')\n",
    "# csf_dE = Prf1T1Mx2(prf_obj['CSFLE']['csf'], prf_obj['CSFRE']['csf'], id1='csfLE', id2='csfRE')\n",
    "# le_dT =  Prf1T1Mx2(prf_obj['pRFLE']['gauss'], prf_obj['CSFLE']['csf'], id1='prfLE', id2='csfLE')\n",
    "# re_dT =  Prf1T1Mx2(prf_obj['pRFRE']['gauss'], prf_obj['CSFRE']['csf'], id1='prfRE', id2='csfRE')"
   ]
  },
  {
   "cell_type": "code",
   "execution_count": null,
   "metadata": {},
   "outputs": [],
   "source": [
    "fs = FSMaker(sub, fs_dir)\n",
    "model = 'gauss'\n",
    "# POLAR \n",
    "for task in ['pRFLE', 'pRFRE']:\n",
    "    # fs.add_surface(\n",
    "    #     data = prf_obj[task][model].pd_params['pol'],\n",
    "    #     surf_name = f'{sub}-{task}-{model}-pol',    \n",
    "    #     vmin = -np.pi, vmax=np.pi , # min and max values of polar anlge \n",
    "    #     data_mask=prf_obj[task][model].return_vx_mask({'min-rsq':.1}),\n",
    "    #     cmap = 'hsv_hsv', # using hsv for polar angle, can use something else...\n",
    "    # )\n",
    "    # POL CLOCK\n",
    "    clock_val = dag_pol_to_clock(prf_obj[task][model].pd_params['pol'])\n",
    "    fs.add_surface(\n",
    "        data = clock_val,\n",
    "        surf_name = f'{sub}-{task}-{model}-pol-clock',    \n",
    "        vmin = 0, vmax=12, # min and max values of polar anlge \n",
    "        data_mask=prf_obj[task][model].return_vx_mask({'min-rsq':.1}),\n",
    "        cmap = 'hsv', # using hsv for polar angle, can use something else...\n",
    "        cmap_nsteps=100\n",
    "    )    \n",
    "# model = 'csf'\n",
    "# for task in ['CSFLE', 'CSFRE']:\n",
    "#     fs.add_surface(\n",
    "#         data = clock_val,\n",
    "#         surf_name = f'{sub}-{task}-{model}-pol-clock',    \n",
    "#         vmin = 0, vmax=12, # min and max values of polar anlge \n",
    "#         data_mask=prf_obj[task][model].return_vx_mask({'min-rsq':.1}),\n",
    "#         cmap = 'twilight', # using hsv for polar angle, can use something else...\n",
    "#         cmap_nsteps=20\n",
    "#     )        \n",
    "\n",
    "\n",
    "# # d_val\n",
    "# model = 'norm'\n",
    "# for task in task_list:\n",
    "#     fs.add_surface(\n",
    "#         data = prf_obj[task][model].pd_params['d_val'],\n",
    "#         surf_name = f'{sub}-{task}-{model}-d_val',    \n",
    "#         vmin = 0, vmax=100, # min and max values of polar anlge \n",
    "#         data_mask=prf_obj[task][model].return_vx_mask({'min-rsq':.1}),\n",
    "#         cmap = 'jet', # using hsv for polar angle, can use something else...\n",
    "#     )\n",
    "\n",
    "\n",
    "# # b_val\n",
    "# model = 'norm'\n",
    "# for task in task_list:\n",
    "#     fs.add_surface(\n",
    "#         data = prf_obj[task][model].pd_params['b_val'],\n",
    "#         surf_name = f'{sub}-{task}-{model}-b_val',    \n",
    "#         vmin = 0, vmax=100, # min and max values of polar anlge \n",
    "#         data_mask=prf_obj[task][model].return_vx_mask({'min-rsq':.1}),\n",
    "#         cmap = 'viridis', # using hsv for polar angle, can use something else...\n",
    "#     )\n",
    "\n",
    "\n",
    "# size_1\n",
    "# model = 'gauss'\n",
    "# for task in task_list:\n",
    "#     fs.add_surface(\n",
    "#         data = prf_obj[task][model].pd_params['size_1'],\n",
    "#         surf_name = f'{sub}-{task}-{model}-size_1',    \n",
    "#         vmin = 0, vmax=10, # min and max values of polar anlge \n",
    "#         data_mask=prf_obj[task][model].return_vx_mask({'min-rsq':.1}),\n",
    "#         cmap = 'ecc', # using hsv for polar angle, can use something else...\n",
    "#     )\n"
   ]
  }
 ],
 "metadata": {
  "kernelspec": {
   "display_name": "ls_dag",
   "language": "python",
   "name": "python3"
  },
  "language_info": {
   "codemirror_mode": {
    "name": "ipython",
    "version": 3
   },
   "file_extension": ".py",
   "mimetype": "text/x-python",
   "name": "python",
   "nbconvert_exporter": "python",
   "pygments_lexer": "ipython3",
   "version": "3.9.10"
  },
  "orig_nbformat": 4
 },
 "nbformat": 4,
 "nbformat_minor": 2
}
