{
 "cells": [
  {
   "cell_type": "code",
   "execution_count": 7,
   "metadata": {},
   "outputs": [
    {
     "name": "stdout",
     "output_type": "stream",
     "text": [
      "The autoreload extension is already loaded. To reload it, use:\n",
      "  %reload_ext autoreload\n"
     ]
    }
   ],
   "source": [
    "%load_ext autoreload\n",
    "%autoreload 2\n",
    "\n",
    "import numpy as np\n",
    "import matplotlib as mpl\n",
    "import matplotlib.pyplot as plt\n",
    "\n",
    "\n",
    "from amb_scripts.load_saved_info import *\n",
    "from amb_scripts.plot_csfv3 import *\n",
    "\n",
    "from dag_prf_utils.prfpy_functions import *\n",
    "from dag_prf_utils.plot_functions import *\n",
    "from dag_prf_utils.utils import *\n",
    "from dag_prf_utils.mesh_maker import *\n",
    "\n",
    "plot_cols = get_plot_cols()"
   ]
  },
  {
   "cell_type": "code",
   "execution_count": 2,
   "metadata": {},
   "outputs": [],
   "source": [
    "sub_list = ['sub-01', 'sub-02']\n",
    "roi_fit = 'all'\n"
   ]
  },
  {
   "cell_type": "code",
   "execution_count": 4,
   "metadata": {},
   "outputs": [
    {
     "name": "stderr",
     "output_type": "stream",
     "text": [
      "/data1/projects/dumoulinlab/Lab_members/Marcus/programs/dag_prf_utils/dag_prf_utils/prfpy_functions.py:281: RuntimeWarning: divide by zero encountered in log10\n",
      "  self.params_dd['log10_sf0'] = np.log10(self.params_dd['sf0'])\n",
      "/data1/projects/dumoulinlab/Lab_members/Marcus/programs/dag_prf_utils/dag_prf_utils/prfpy_functions.py:282: RuntimeWarning: divide by zero encountered in log10\n",
      "  self.params_dd['log10_maxC'] = np.log10(self.params_dd['maxC'])\n",
      "/data1/projects/dumoulinlab/Lab_members/Marcus/programs/dag_prf_utils/dag_prf_utils/prfpy_functions.py:284: RuntimeWarning: divide by zero encountered in true_divide\n",
      "  10**(np.sqrt(self.params_dd['log10_maxC']/(self.params_dd['width_r']**2)) + \\\n",
      "/data1/projects/dumoulinlab/Lab_members/Marcus/programs/dag_prf_utils/dag_prf_utils/prfpy_functions.py:284: RuntimeWarning: invalid value encountered in sqrt\n",
      "  10**(np.sqrt(self.params_dd['log10_maxC']/(self.params_dd['width_r']**2)) + \\\n",
      "/data1/projects/dumoulinlab/Lab_members/Marcus/programs/dag_prf_utils/dag_prf_utils/prfpy_functions.py:284: RuntimeWarning: overflow encountered in power\n",
      "  10**(np.sqrt(self.params_dd['log10_maxC']/(self.params_dd['width_r']**2)) + \\\n",
      "/data1/projects/dumoulinlab/Lab_members/Marcus/programs/dag_prf_utils/dag_prf_utils/prfpy_functions.py:287: RuntimeWarning: divide by zero encountered in log10\n",
      "  self.params_dd['log10_sfmax'] = np.log10(self.params_dd['sfmax'])\n"
     ]
    }
   ],
   "source": [
    "# prf_data = {}\n",
    "# csf_data = {}\n",
    "# real_tc = {}\n",
    "# pred_tc = {}\n",
    "# pred_tc = {}\n",
    "prf_objs = {}\n",
    "all_prf_objs = {}\n",
    "for sub in sub_list:\n",
    "\n",
    "    # LOAD USEFUL INFORMATION\n",
    "    prf_data = amb_load_prf_params(\n",
    "        sub=sub,\n",
    "        task_list=['pRFLE', 'pRFRE'],\n",
    "        model_list='gauss',\n",
    "        roi_fit=roi_fit,            \n",
    "    )\n",
    "\n",
    "    csf_data = amb_load_prf_params(\n",
    "        sub=sub,\n",
    "        task_list=['CSFLE', 'CSFRE'],\n",
    "        model_list='csf',\n",
    "        roi_fit=roi_fit,            \n",
    "    )\n",
    "\n",
    "    # real_tc[sub] = amb_load_real_tc(sub=sub, task_list=['pRFLE', 'pRFRE', 'CSFLE', 'CSFRE'])\n",
    "    # pred_tc[sub] = amb_load_pred_tc(sub=sub, task_list=['pRFLE', 'pRFRE'], model_list='gauss')\n",
    "    # pred_tc[sub] |= amb_load_pred_tc(sub=sub, task_list=['CSFRE', 'CSFLE'], model_list='csf')\n",
    "\n",
    "    # Enter into prf objects:\n",
    "    prf_obj_list = []\n",
    "    prf_id_list = []\n",
    "    prf_obj = {}\n",
    "    model = 'gauss'\n",
    "    for task in ['pRFLE', 'pRFRE']:    \n",
    "        prf_obj[task] = {}    \n",
    "        prf_obj[task][model] = Prf1T1M(prf_data[task][model], model)\n",
    "        prf_obj_list.append(Prf1T1M(prf_data[task][model], model))\n",
    "        prf_id_list.append(task)\n",
    "\n",
    "    model = 'csf'\n",
    "    for task in ['CSFLE', 'CSFRE']:    \n",
    "        prf_obj[task] = {}    \n",
    "        prf_obj[task][model] = Prf1T1M(csf_data[task][model], model)\n",
    "\n",
    "        prf_obj_list.append(Prf1T1M(csf_data[task][model], model, fixed_hrf=True))\n",
    "        prf_id_list.append(task)\n",
    "\n",
    "    prf_objs[sub] = prf_obj\n",
    "    all_prf_objs[sub] = PrfMulti(prf_obj_list, prf_id_list)"
   ]
  },
  {
   "cell_type": "code",
   "execution_count": 19,
   "metadata": {},
   "outputs": [],
   "source": [
    "\n",
    "def mini_show_csf_param(param, min_rsq, bins):\n",
    "    for sub in sub_list:\n",
    "        plt.figure()\n",
    "        all_prf_objs[sub].rapid_hist(\n",
    "            f'CSFLE-{param}', label=f'LE-{param}', color=plot_cols['LE'], bins=bins,ax=plt.gca(),\n",
    "            th={'CSFLE-min-rsq':min_rsq})\n",
    "        all_prf_objs[sub].rapid_hist(\n",
    "            f'CSFRE-{param}', label=f'RE-{param}', color=plot_cols['RE'], bins=bins,ax=plt.gca(),\n",
    "            th={'CSFRE-min-rsq':min_rsq})\n",
    "        plt.title(sub)\n",
    "\n",
    "        plt.figure()\n",
    "        all_prf_objs[sub].rapid_p_corr(\n",
    "            f'CSFLE-{param}', f'CSFRE-{param}', ax=plt.gca(),do_line=True,do_id_line=True,\n",
    "            th={'CSFLE-min-rsq':min_rsq, 'CSFRE-min-rsq':min_rsq})\n",
    "        plt.title(sub)\n"
   ]
  },
  {
   "cell_type": "code",
   "execution_count": 20,
   "metadata": {},
   "outputs": [
    {
     "name": "stderr",
     "output_type": "stream",
     "text": [
      "No artists with labels found to put in legend.  Note that artists whose label start with an underscore are ignored when legend() is called with no argument.\n",
      "No artists with labels found to put in legend.  Note that artists whose label start with an underscore are ignored when legend() is called with no argument.\n",
      "No artists with labels found to put in legend.  Note that artists whose label start with an underscore are ignored when legend() is called with no argument.\n",
      "No artists with labels found to put in legend.  Note that artists whose label start with an underscore are ignored when legend() is called with no argument.\n"
     ]
    },
    {
     "data": {
      "image/png": "[encoded data removed]",
      "text/plain": [
       "<Figure size 432x288 with 1 Axes>"
      ]
     },
     "metadata": {
      "needs_background": "light"
     },
     "output_type": "display_data"
    },
    {
     "data": {
      "image/png": "[encoded data removed]",
      "text/plain": [
       "<Figure size 432x288 with 1 Axes>"
      ]
     },
     "metadata": {
      "needs_background": "light"
     },
     "output_type": "display_data"
    },
    {
     "data": {
      "image/png": "[encoded data removed]",
      "text/plain": [
       "<Figure size 432x288 with 1 Axes>"
      ]
     },
     "metadata": {
      "needs_background": "light"
     },
     "output_type": "display_data"
    },
    {
     "data": {
      "image/png": "[encoded data removed]",
      "text/plain": [
       "<Figure size 432x288 with 1 Axes>"
      ]
     },
     "metadata": {
      "needs_background": "light"
     },
     "output_type": "display_data"
    }
   ],
   "source": [
    "min_rsq = .2\n",
    "bins = np.linspace(0,6,10)\n",
    "param = 'sf0'\n",
    "mini_show_csf_param(param, min_rsq, bins)"
   ]
  },
  {
   "cell_type": "code",
   "execution_count": 27,
   "metadata": {},
   "outputs": [
    {
     "name": "stderr",
     "output_type": "stream",
     "text": [
      "No artists with labels found to put in legend.  Note that artists whose label start with an underscore are ignored when legend() is called with no argument.\n",
      "No artists with labels found to put in legend.  Note that artists whose label start with an underscore are ignored when legend() is called with no argument.\n",
      "No artists with labels found to put in legend.  Note that artists whose label start with an underscore are ignored when legend() is called with no argument.\n",
      "No artists with labels found to put in legend.  Note that artists whose label start with an underscore are ignored when legend() is called with no argument.\n"
     ]
    },
    {
     "data": {
      "image/png": "[encoded data removed]",
      "text/plain": [
       "<Figure size 432x288 with 1 Axes>"
      ]
     },
     "metadata": {
      "needs_background": "light"
     },
     "output_type": "display_data"
    },
    {
     "data": {
      "image/png": "[encoded data removed]",
      "text/plain": [
       "<Figure size 432x288 with 1 Axes>"
      ]
     },
     "metadata": {
      "needs_background": "light"
     },
     "output_type": "display_data"
    },
    {
     "data": {
      "image/png": "[encoded data removed]",
      "text/plain": [
       "<Figure size 432x288 with 1 Axes>"
      ]
     },
     "metadata": {
      "needs_background": "light"
     },
     "output_type": "display_data"
    },
    {
     "data": {
      "image/png": "[encoded data removed]",
      "text/plain": [
       "<Figure size 432x288 with 1 Axes>"
      ]
     },
     "metadata": {
      "needs_background": "light"
     },
     "output_type": "display_data"
    }
   ],
   "source": [
    "min_rsq = .1\n",
    "bins = np.linspace(0,6,20)\n",
    "param = 'width_r'\n",
    "mini_show_csf_param(param, min_rsq, bins)"
   ]
  },
  {
   "cell_type": "code",
   "execution_count": 80,
   "metadata": {},
   "outputs": [
    {
     "data": {
      "image/png": "[encoded data removed]",
      "text/plain": [
       "<Figure size 432x288 with 1 Axes>"
      ]
     },
     "metadata": {
      "needs_background": "light"
     },
     "output_type": "display_data"
    }
   ],
   "source": [
    "# prf_obj['pRFLE']['gauss'].rapid_p_corr('ecc', 'size_1', th={'min-rsq':.1, 'max-ecc':5}, do_line=True)\n",
    "\n",
    "# plt.figure()\n",
    "# prf_obj['pRFRE']['gauss'].rapid_p_corr('ecc', 'size_1', th={'min-rsq':.1, 'max-ecc':5}, do_line=True)\n",
    "\n",
    "# plt.figure()\n",
    "\n",
    "all_prf_obj2.rapid_p_corr(\n",
    "    'pRFLE-ecc', 'pRFLE-size_1', do_line=True, do_scatter=False, line_label='LE',\n",
    "    th={'pRFLE-min-rsq':.1, 'pRFLE-max-ecc':5,})\n",
    "\n",
    "all_prf_obj2.rapid_p_corr(    \n",
    "    'pRFRE-ecc', 'pRFRE-size_1',ax=plt.gca(), do_line=True, do_scatter=False, line_col='b', line_label='RE',\n",
    "    th={'pRFRE-min-rsq':.1, 'pRFRE-max-ecc':5,})"
   ]
  },
  {
   "cell_type": "code",
   "execution_count": 28,
   "metadata": {},
   "outputs": [],
   "source": [
    "# csf_tc_plotter(\n",
    "#     real_tc=real_tc['CSFLE'], \n",
    "#     pred_tc=pred_tc['CSFLE'], \n",
    "#     params=prf_obj['CSFLE']['csf'].prf_params_np, idx=[8,10])\n",
    "from amb_scripts.plot_csfv3 import *\n"
   ]
  },
  {
   "cell_type": "code",
   "execution_count": 30,
   "metadata": {},
   "outputs": [
    {
     "ename": "KeyError",
     "evalue": "'CSFLE'",
     "output_type": "error",
     "traceback": [
      "\u001b[0;31m---------------------------------------------------------------------------\u001b[0m",
      "\u001b[0;31mKeyError\u001b[0m                                  Traceback (most recent call last)",
      "Cell \u001b[0;32mIn[30], line 3\u001b[0m\n\u001b[1;32m      1\u001b[0m amb_plotter \u001b[39m=\u001b[39m AmbPlotter(\n\u001b[1;32m      2\u001b[0m     sub\u001b[39m=\u001b[39msub, \n\u001b[0;32m----> 3\u001b[0m     real_tc\u001b[39m=\u001b[39mreal_tc[\u001b[39m'\u001b[39;49m\u001b[39mCSFLE\u001b[39;49m\u001b[39m'\u001b[39;49m],\n\u001b[1;32m      4\u001b[0m     csf_params \u001b[39m=\u001b[39m csf_data[\u001b[39m'\u001b[39m\u001b[39mCSFLE\u001b[39m\u001b[39m'\u001b[39m][\u001b[39m'\u001b[39m\u001b[39mcsf\u001b[39m\u001b[39m'\u001b[39m],\n\u001b[1;32m      5\u001b[0m     \n\u001b[1;32m      6\u001b[0m     )\n",
      "\u001b[0;31mKeyError\u001b[0m: 'CSFLE'"
     ]
    }
   ],
   "source": [
    "amb_plotter = AmbPlotter(\n",
    "    sub=sub, \n",
    "    real_tc=real_tc['CSFLE'],\n",
    "    csf_params = csf_data['CSFLE']['csf'],\n",
    "    \n",
    "    )"
   ]
  },
  {
   "cell_type": "code",
   "execution_count": 29,
   "metadata": {},
   "outputs": [
    {
     "ename": "NameError",
     "evalue": "name 'amb_plotter' is not defined",
     "output_type": "error",
     "traceback": [
      "\u001b[0;31m---------------------------------------------------------------------------\u001b[0m",
      "\u001b[0;31mNameError\u001b[0m                                 Traceback (most recent call last)",
      "Cell \u001b[0;32mIn[29], line 1\u001b[0m\n\u001b[0;32m----> 1\u001b[0m amb_plotter\u001b[39m.\u001b[39mcsf_tc_plot(idx\u001b[39m=\u001b[39m\u001b[39m8\u001b[39m, time_pt\u001b[39m=\u001b[39m\u001b[39mNone\u001b[39;00m)\n",
      "\u001b[0;31mNameError\u001b[0m: name 'amb_plotter' is not defined"
     ]
    }
   ],
   "source": [
    "amb_plotter.csf_tc_plot(idx=8, time_pt=None)"
   ]
  },
  {
   "cell_type": "code",
   "execution_count": 23,
   "metadata": {},
   "outputs": [
    {
     "data": {
      "text/plain": [
       "(array([     8,      9,     14, ..., 314492, 314493, 314522]),)"
      ]
     },
     "execution_count": 23,
     "metadata": {},
     "output_type": "execute_result"
    }
   ],
   "source": [
    "np.where(prf_obj['CSFLE']['csf'].prf_params_np[:,-1]>0.1)"
   ]
  },
  {
   "cell_type": "code",
   "execution_count": 168,
   "metadata": {},
   "outputs": [],
   "source": [
    "# # # all_prf_obj.rapid_hist(ax=plt.gca(), px='pRFLE-hrf_deriv', alpha=0.5)\n",
    "# # # all_prf_obj.rapid_hist(ax=plt.gca(), px='pRFRE-hrf_deriv', alpha=0.5)\n",
    "# # all_prf_obj.rapid_hist(ax=plt.gca(), px='CSFRE-hrf_deriv', alpha=0.5)\n",
    "# # all_prf_obj.rapid_hist(ax=plt.gca(), px='CSFLE-hrf_deriv', alpha=0.5)\n",
    "\n",
    "# all_prf_obj.rapid_p_corr(\n",
    "#     'CSFLE-rsq',\n",
    "#     'CSFRE-rsq', \n",
    "#     th={'CSFLE-min-rsq':.1, 'CSFRE-min-rsq':.1}, \n",
    "#     do_line=True, line_col='r', dot_col='k', dot_alpha=.5)"
   ]
  },
  {
   "cell_type": "code",
   "execution_count": 169,
   "metadata": {},
   "outputs": [
    {
     "ename": "KeyError",
     "evalue": "'gauss'",
     "output_type": "error",
     "traceback": [
      "\u001b[0;31m---------------------------------------------------------------------------\u001b[0m",
      "\u001b[0;31mKeyError\u001b[0m                                  Traceback (most recent call last)",
      "Cell \u001b[0;32mIn[169], line 1\u001b[0m\n\u001b[0;32m----> 1\u001b[0m prf_dE \u001b[39m=\u001b[39m Prf1T1Mx2(prf_obj[\u001b[39m'\u001b[39;49m\u001b[39mpRFLE\u001b[39;49m\u001b[39m'\u001b[39;49m][\u001b[39m'\u001b[39;49m\u001b[39mgauss\u001b[39;49m\u001b[39m'\u001b[39;49m], prf_obj[\u001b[39m'\u001b[39m\u001b[39mpRFRE\u001b[39m\u001b[39m'\u001b[39m][\u001b[39m'\u001b[39m\u001b[39mgauss\u001b[39m\u001b[39m'\u001b[39m], id1\u001b[39m=\u001b[39m\u001b[39m'\u001b[39m\u001b[39mprfLE\u001b[39m\u001b[39m'\u001b[39m, id2\u001b[39m=\u001b[39m\u001b[39m'\u001b[39m\u001b[39mprfRE\u001b[39m\u001b[39m'\u001b[39m)\n\u001b[1;32m      2\u001b[0m csf_dE \u001b[39m=\u001b[39m Prf1T1Mx2(prf_obj[\u001b[39m'\u001b[39m\u001b[39mCSFLE\u001b[39m\u001b[39m'\u001b[39m][\u001b[39m'\u001b[39m\u001b[39mcsf\u001b[39m\u001b[39m'\u001b[39m], prf_obj[\u001b[39m'\u001b[39m\u001b[39mCSFRE\u001b[39m\u001b[39m'\u001b[39m][\u001b[39m'\u001b[39m\u001b[39mcsf\u001b[39m\u001b[39m'\u001b[39m], id1\u001b[39m=\u001b[39m\u001b[39m'\u001b[39m\u001b[39mcsfLE\u001b[39m\u001b[39m'\u001b[39m, id2\u001b[39m=\u001b[39m\u001b[39m'\u001b[39m\u001b[39mcsfRE\u001b[39m\u001b[39m'\u001b[39m)\n\u001b[1;32m      3\u001b[0m le_dT \u001b[39m=\u001b[39m  Prf1T1Mx2(prf_obj[\u001b[39m'\u001b[39m\u001b[39mpRFLE\u001b[39m\u001b[39m'\u001b[39m][\u001b[39m'\u001b[39m\u001b[39mgauss\u001b[39m\u001b[39m'\u001b[39m], prf_obj[\u001b[39m'\u001b[39m\u001b[39mCSFLE\u001b[39m\u001b[39m'\u001b[39m][\u001b[39m'\u001b[39m\u001b[39mcsf\u001b[39m\u001b[39m'\u001b[39m], id1\u001b[39m=\u001b[39m\u001b[39m'\u001b[39m\u001b[39mprfLE\u001b[39m\u001b[39m'\u001b[39m, id2\u001b[39m=\u001b[39m\u001b[39m'\u001b[39m\u001b[39mcsfLE\u001b[39m\u001b[39m'\u001b[39m)\n",
      "\u001b[0;31mKeyError\u001b[0m: 'gauss'"
     ]
    }
   ],
   "source": [
    "# prf_dE = Prf1T1Mx2(prf_obj['pRFLE']['gauss'], prf_obj['pRFRE']['gauss'], id1='prfLE', id2='prfRE')\n",
    "# csf_dE = Prf1T1Mx2(prf_obj['CSFLE']['csf'], prf_obj['CSFRE']['csf'], id1='csfLE', id2='csfRE')\n",
    "# le_dT =  Prf1T1Mx2(prf_obj['pRFLE']['gauss'], prf_obj['CSFLE']['csf'], id1='prfLE', id2='csfLE')\n",
    "# re_dT =  Prf1T1Mx2(prf_obj['pRFRE']['gauss'], prf_obj['CSFRE']['csf'], id1='prfRE', id2='csfRE')"
   ]
  },
  {
   "cell_type": "code",
   "execution_count": 171,
   "metadata": {},
   "outputs": [],
   "source": [
    "# # prf_dE.rapid_p_corr(\n",
    "# #     'prfLE-hrf_deriv',\n",
    "# #     'prfRE-hrf_deriv'\n",
    "# # )\n",
    "# # plt.figure()\n",
    "# # csf_dE.rapid_p_corr(\n",
    "# #     'csfLE-hrf_deriv',\n",
    "# #     'csfRE-hrf_deriv'\n",
    "# # )\n",
    "\n",
    "# # plt.figure()\n",
    "# # le_dT.rapid_p_corr(\n",
    "# #     'csfLE-hrf_deriv',\n",
    "# #     'prfLE-hrf_deriv'\n",
    "# # )\n",
    "\n",
    "# roi = amb_load_roi(sub, 'demo-5000000')\n",
    "# plt.figure()\n",
    "# re_dT.rapid_p_corr(\n",
    "#     'prfRE-hrf_deriv',\n",
    "#     'csfRE-hrf_deriv',\n",
    "#     th={'all-min-rsq':.3, 'roi':roi},\n",
    "# )"
   ]
  },
  {
   "cell_type": "code",
   "execution_count": 252,
   "metadata": {},
   "outputs": [
    {
     "name": "stdout",
     "output_type": "stream",
     "text": [
      "Saving sub-01-pRFLE-gauss-pol-clock in /data1/projects/dumoulinlab/Lab_members/Marcus/projects/amblyopia_emc/derivatives/freesurfer/sub-01/surf/custom\n",
      "Saving sub-01-pRFRE-gauss-pol-clock in /data1/projects/dumoulinlab/Lab_members/Marcus/projects/amblyopia_emc/derivatives/freesurfer/sub-01/surf/custom\n"
     ]
    }
   ],
   "source": [
    "fs = FSMaker(sub, fs_dir)\n",
    "model = 'gauss'\n",
    "# POLAR \n",
    "for task in task_list:\n",
    "    # fs.add_surface(\n",
    "    #     data = prf_obj[task][model].pd_params['pol'],\n",
    "    #     surf_name = f'{sub}-{task}-{model}-pol',    \n",
    "    #     vmin = -np.pi, vmax=np.pi , # min and max values of polar anlge \n",
    "    #     data_mask=prf_obj[task][model].return_vx_mask({'min-rsq':.1}),\n",
    "    #     cmap = 'hsv_hsv', # using hsv for polar angle, can use something else...\n",
    "    # )\n",
    "    # POL CLOCK\n",
    "    clock_val = dag_pol_to_clock(prf_obj[task][model].pd_params['pol'])\n",
    "    fs.add_surface(\n",
    "        data = clock_val,\n",
    "        surf_name = f'{sub}-{task}-{model}-pol-clock',    \n",
    "        vmin = 0, vmax=12, # min and max values of polar anlge \n",
    "        data_mask=prf_obj[task][model].return_vx_mask({'min-rsq':.1}),\n",
    "        cmap = 'magma_viridis', # using hsv for polar angle, can use something else...\n",
    "        cmap_nsteps=20\n",
    "    )    \n",
    "# model = 'csf'\n",
    "# for task in ['CSFLE', 'CSFRE']:\n",
    "#     fs.add_surface(\n",
    "#         data = clock_val,\n",
    "#         surf_name = f'{sub}-{task}-{model}-pol-clock',    \n",
    "#         vmin = 0, vmax=12, # min and max values of polar anlge \n",
    "#         data_mask=prf_obj[task][model].return_vx_mask({'min-rsq':.1}),\n",
    "#         cmap = 'twilight', # using hsv for polar angle, can use something else...\n",
    "#         cmap_nsteps=20\n",
    "#     )        \n",
    "\n",
    "\n",
    "# # d_val\n",
    "# model = 'norm'\n",
    "# for task in task_list:\n",
    "#     fs.add_surface(\n",
    "#         data = prf_obj[task][model].pd_params['d_val'],\n",
    "#         surf_name = f'{sub}-{task}-{model}-d_val',    \n",
    "#         vmin = 0, vmax=100, # min and max values of polar anlge \n",
    "#         data_mask=prf_obj[task][model].return_vx_mask({'min-rsq':.1}),\n",
    "#         cmap = 'jet', # using hsv for polar angle, can use something else...\n",
    "#     )\n",
    "\n",
    "\n",
    "# # b_val\n",
    "# model = 'norm'\n",
    "# for task in task_list:\n",
    "#     fs.add_surface(\n",
    "#         data = prf_obj[task][model].pd_params['b_val'],\n",
    "#         surf_name = f'{sub}-{task}-{model}-b_val',    \n",
    "#         vmin = 0, vmax=100, # min and max values of polar anlge \n",
    "#         data_mask=prf_obj[task][model].return_vx_mask({'min-rsq':.1}),\n",
    "#         cmap = 'viridis', # using hsv for polar angle, can use something else...\n",
    "#     )\n",
    "\n",
    "\n",
    "# size_1\n",
    "# model = 'gauss'\n",
    "# for task in task_list:\n",
    "#     fs.add_surface(\n",
    "#         data = prf_obj[task][model].pd_params['size_1'],\n",
    "#         surf_name = f'{sub}-{task}-{model}-size_1',    \n",
    "#         vmin = 0, vmax=10, # min and max values of polar anlge \n",
    "#         data_mask=prf_obj[task][model].return_vx_mask({'min-rsq':.1}),\n",
    "#         cmap = 'ecc', # using hsv for polar angle, can use something else...\n",
    "#     )\n"
   ]
  },
  {
   "cell_type": "code",
   "execution_count": 253,
   "metadata": {},
   "outputs": [],
   "source": [
    "fs.open_fs_surface(\n",
    "    fs.surf_list, \n",
    "    mesh='inflated', \n",
    "    # roi_list=['v1custom', 'v2custom', 'v3custom', 'LOcustom']\n",
    "    )"
   ]
  },
  {
   "cell_type": "code",
   "execution_count": 251,
   "metadata": {},
   "outputs": [
    {
     "data": {
      "image/png": "[encoded data removed]",
      "text/html": [
       "<div style=\"vertical-align: middle;\"><strong>magma_viridis</strong> </div><div class=\"cmap\"><img alt=\"magma_viridis colormap\" title=\"magma_viridis\" style=\"border: 1px solid #555;\" src=\"data:image/png;base64,iVBORw0KGgoAAAANSUhEUgAAAgAAAABACAYAAABsv8+/AAAAHHRFWHRUaXRsZQBtYWdtYV92aXJpZGlzIGNvbG9ybWFw0a0zrgAAACJ0RVh0RGVzY3JpcHRpb24AbWFnbWFfdmlyaWRpcyBjb2xvcm1hcEz93esAAAAwdEVYdEF1dGhvcgBNYXRwbG90bGliIHYzLjUuMSwgaHR0cHM6Ly9tYXRwbG90bGliLm9yZ/e3zs8AAAAydEVYdFNvZnR3YXJlAE1hdHBsb3RsaWIgdjMuNS4xLCBodHRwczovL21hdHBsb3RsaWIub3Jn2RFR6AAAAqBJREFUeJzt1jFy2zAQBdAlSPn+10tau3ORFC5jM4UgZgCJkfv/XoPZXQCSJYvzl6p1r6paaquqqmVZ+7qdrNd563VbLte1bY/7vV5br+u6rn2+frPe9n5PXV9/6+93PetXu9ZL6/f1upaxPua3fo11e9zfbnWrYb4d52o6V/89ty77OL9b5/mt3sf7235ybh/qeT3mx/mv8b72Ne37Gu/pdVuneT/fjnrc17Z9rJ/0l/4B9H+rWtaxrtN5/8AvbayPddq3rtN8rJfT+bxuY93P7afzqZ76+92+aT3u34Z9728fVVX19uN3VVW9/vw11G9T/f76Mdx3/L1H3R7P221fG9en/evnv7f2cN/exh/Ofuxfpvnj/tn+vb/8v35N+0/md+t8fpzXs/0n63FueTLvv7On90z7535N9/TH5dGv6dx9v/9O+3y5/d6P/j7Wy9ifnxvr9Nw462/H82qsj/nUv7TPXn8O9eXp/GS9m/8Z6pdev0zz835/HzW9r76+3PWr72+9ntb+Rc7929cIAAQRAAAgkAAAAIEEAAAIJAAAQCABAAACCQAAEEgAAIBAAgAABBIAACCQAAAAgQQAAAgkAABAIAEAAAIJAAAQSAAAgEACAAAEEgAAIJAAAACBBAAACCQAAEAgAQAAAgkAABBIAACAQAIAAAQSAAAgkAAAAIEEAAAIJAAAQCABAAACCQAAEEgAAIBAAgAABBIAACCQAAAAgQQAAAgkAABAIAEAAAIJAAAQSAAAgEACAAAEEgAAIJAAAACBBAAACCQAAEAgAQAAAgkAABBIAACAQAIAAAQSAAAgkAAAAIEEAAAIJAAAQCABAAACCQAAEEgAAIBAAgAABBIAACCQAAAAgQQAAAgkAABAIAEAAAIJAAAQ6C+oJJmH20kcGgAAAABJRU5ErkJggg==\"></div><div style=\"vertical-align: middle; max-width: 514px; display: flex; justify-content: space-between;\"><div style=\"float: left;\"><div title=\"#000004ff\" style=\"display: inline-block; width: 1em; height: 1em; margin: 0; vertical-align: middle; border: 1px solid #555; background-color: #000004ff;\"></div> under</div><div style=\"margin: 0 auto; display: inline-block;\">bad <div title=\"#00000000\" style=\"display: inline-block; width: 1em; height: 1em; margin: 0; vertical-align: middle; border: 1px solid #555; background-color: #00000000;\"></div></div><div style=\"float: right;\">over <div title=\"#fde725ff\" style=\"display: inline-block; width: 1em; height: 1em; margin: 0; vertical-align: middle; border: 1px solid #555; background-color: #fde725ff;\"></div></div>"
      ],
      "text/plain": [
       "<matplotlib.colors.LinearSegmentedColormap at 0x7ff5b23a44c0>"
      ]
     },
     "execution_count": 251,
     "metadata": {},
     "output_type": "execute_result"
    }
   ],
   "source": [
    "dag_stack_cmaps(['magma','viridis'])#, save_cmap=True)#, 'magma_r'])\n",
    "# a = dag_get_cmap('viridis_magmarev')\n",
    "\n",
    "# plt.imshow(\n",
    "#     np.linspace(0,1,1000)*np.ones((100,1000)),\n",
    "#     cmap=a, vmin=0, vmax=1)\n",
    "\n",
    "# dag_make_custom_cmap(\n",
    "#     ['green', 'green'], cmap_name='blah', save_cmap=True\n",
    "# )\n"
   ]
  },
  {
   "cell_type": "code",
   "execution_count": 221,
   "metadata": {},
   "outputs": [
    {
     "data": {
      "image/png": "[encoded data removed]",
      "text/html": [
       "<div style=\"vertical-align: middle;\"><strong>plasmarev</strong> </div><div class=\"cmap\"><img alt=\"plasmarev colormap\" title=\"plasmarev\" style=\"border: 1px solid #555;\" src=\"data:image/png;base64,iVBORw0KGgoAAAANSUhEUgAAAgAAAABACAYAAABsv8+/AAAAGHRFWHRUaXRsZQBwbGFzbWFyZXYgY29sb3JtYXCOvkiCAAAAHnRFWHREZXNjcmlwdGlvbgBwbGFzbWFyZXYgY29sb3JtYXDMJa4JAAAAMHRFWHRBdXRob3IATWF0cGxvdGxpYiB2My41LjEsIGh0dHBzOi8vbWF0cGxvdGxpYi5vcmf3t87PAAAAMnRFWHRTb2Z0d2FyZQBNYXRwbG90bGliIHYzLjUuMSwgaHR0cHM6Ly9tYXRwbG90bGliLm9yZ9kRUegAAAFWSURBVHic7dahDsJAFEXBggfD/38i4BAkpJjapiFNF3FmzBVrntnknOZ5midY81z2fvC+dl/KUNdlbwfvZfelZZ9l177dY+P9133vOZbhzv8+AAAYTwAAQJAAAIAgAQAAQQIAAIIEAAAECQAACBIAABAkAAAgSAAAQJAAAIAgAQAAQQIAAIIEAAAECQAACBIAABAkAAAgSAAAQJAAAIAgAQAAQQIAAIIEAAAECQAACBIAABAkAAAgSAAAQJAAAIAgAQAAQQIAAIIEAAAECQAACBIAABAkAAAgSAAAQJAAAIAgAQAAQQIAAIIEAAAECQAACBIAABAkAAAgSAAAQJAAAIAgAQAAQQIAAIIEAAAECQAACBIAABAkAAAgSAAAQJAAAIAgAQAAQQIAAIIEAAAECQAACBIAABAkAAAgSAAAQJAAAIAgAQAAQQIAAIIEAAAECQAACPoCPE4ffh6lSsoAAAAASUVORK5CYII=\"></div><div style=\"vertical-align: middle; max-width: 514px; display: flex; justify-content: space-between;\"><div style=\"float: left;\"><div title=\"#ffff00ff\" style=\"display: inline-block; width: 1em; height: 1em; margin: 0; vertical-align: middle; border: 1px solid #555; background-color: #ffff00ff;\"></div> under</div><div style=\"margin: 0 auto; display: inline-block;\">bad <div title=\"#00000000\" style=\"display: inline-block; width: 1em; height: 1em; margin: 0; vertical-align: middle; border: 1px solid #555; background-color: #00000000;\"></div></div><div style=\"float: right;\">over <div title=\"#0000ffff\" style=\"display: inline-block; width: 1em; height: 1em; margin: 0; vertical-align: middle; border: 1px solid #555; background-color: #0000ffff;\"></div></div>"
      ],
      "text/plain": [
       "<matplotlib.colors.LinearSegmentedColormap at 0x7ff5b55cae50>"
      ]
     },
     "execution_count": 221,
     "metadata": {},
     "output_type": "execute_result"
    }
   ],
   "source": [
    "# dag_get_cmap('blah')\n",
    "dag_stack_cmaps(['plasma_r'])"
   ]
  },
  {
   "attachments": {},
   "cell_type": "markdown",
   "metadata": {},
   "source": [
    "***"
   ]
  },
  {
   "cell_type": "code",
   "execution_count": null,
   "metadata": {},
   "outputs": [],
   "source": [
    "# LOAD AND SAVE #\n",
    "sub_list = [1,2,3,4,6]\n",
    "dAS = {}\n",
    "sAS = {}\n",
    "for i,v in enumerate(sub_list):\n",
    "    sub = f'sub-{v:02}'\n",
    "    dAS[sub] = {}\n",
    "    sAS[sub] = {}    \n",
    "    print(sub)\n",
    "    for task in ['AS1', 'AS2']:\n",
    "        dAS[sub][task] = ScotShiftPlot(sub=sub, task_list=['AS0', task], model='gauss', sim_or_data='data')\n",
    "        sAS[sub][task] = {}\n",
    "        for model in ['gauss', 'norm']:\n",
    "            sAS[sub][task][model] = ScotShiftPlot(sub=sub, task_list=['AS0', task], model=model, sim_or_data='sim')"
   ]
  },
  {
   "cell_type": "code",
   "execution_count": null,
   "metadata": {},
   "outputs": [],
   "source": [
    "# LOAD AND SAVE #\n",
    "sub_list = [1,2,3,4,6]\n",
    "\n",
    "for i,v in enumerate(sub_list):\n",
    "    sub = f'sub-{v:02}'\n",
    "    for task in ['AS1', 'AS2']:\n",
    "        plt.figure()\n",
    "        dAS[sub][task].\n",
    "        for model in ['gauss', 'norm']:"
   ]
  },
  {
   "cell_type": "code",
   "execution_count": null,
   "metadata": {},
   "outputs": [],
   "source": [
    "sub = 'sub-01'\n",
    "task_list = ['AS0', 'AS1']\n",
    "dAS2g = ScotShiftPlot(sub=sub, task_list=task_list, model='gauss', sim_or_data='data')\n",
    "sAS2g = ScotShiftPlot(sub=sub, task_list=task_list, model='gauss', sim_or_data='sim')\n",
    "sAS2n = ScotShiftPlot(sub=sub, task_list=task_list, model='norm', sim_or_data='sim')\n"
   ]
  },
  {
   "cell_type": "code",
   "execution_count": null,
   "metadata": {},
   "outputs": [],
   "source": [
    "\n",
    "sub_list = [1,2,3,4,6]\n",
    "sub_task_rsq_max = {}\n",
    "dAS = {}\n",
    "sAS = {}\n",
    "for i,v in enumerate(sub_list):\n",
    "    sub = f'sub-{v:02}'\n",
    "    print('sub')\n",
    "    sub_task_rsq_max[sub] = {}\n",
    "    for task in ['AS1', 'AS2']:\n",
    "        dASXg = ScotShiftPlot(sub=sub, task_list=['AS0', task], model='gauss', sim_or_data='data')\n",
    "        # sAS[task] = dASXg\n",
    "        sub_task_rsq_max[sub][task] = {}\n",
    "        for model in ['gauss', 'norm']:\n",
    "            sASXm = ScotShiftPlot(sub=sub, task_list=['AS0', task], model=model, sim_or_data='sim')\n",
    "\n",
    "            sub_task_rsq_max[sub][task][model] = []\n",
    "            for rsq_max in np.r_[.1:1:.01]:\n",
    "                vx_mask = dASXg.return_vx_mask({'all-min-rsq':.1, 'all-max-ecc':5})            \n",
    "                vx_mask&= sASXm.return_vx_mask({'all-bound-rsq':[.1,rsq_max], 'all-max-ecc':5})\n",
    "                if np.sum(vx_mask)<500:\n",
    "                    corr = np.NaN\n",
    "                else:\n",
    "                    corr = dag_get_corr(\n",
    "                        dASXg.pd_params['diff']['d2s_centre'][vx_mask],\n",
    "                        sASXm.pd_params['diff']['d2s_centre'][vx_mask])\n",
    "                sub_task_rsq_max[sub][task][model].append(corr)"
   ]
  },
  {
   "cell_type": "code",
   "execution_count": null,
   "metadata": {},
   "outputs": [],
   "source": [
    "sub_list = [1,2,3,4,6]\n",
    "AS_m = {'AS1':'+', 'AS2':'^'}\n",
    "m_col = {'gauss':'g', 'norm':'r'}\n",
    "\n",
    "for i,v in enumerate(sub_list):\n",
    "    plt.figure()\n",
    "    sub = f'sub-{v:02}'\n",
    "    for task in ['AS1', 'AS2']:\n",
    "        for model in ['gauss', 'norm']:\n",
    "            plt.plot(sub_task_rsq_max[sub][task][model],f'-{AS_m[task]}{m_col[model]}', label=f'{task}-{model}')\n",
    "    plt.legend()\n"
   ]
  },
  {
   "cell_type": "code",
   "execution_count": null,
   "metadata": {},
   "outputs": [],
   "source": [
    "i_corr = []\n",
    "for i in np.r_[.2:1:.01]:\n",
    "    vx_mask = dAS2g.return_vx_mask(th={'all-min-rsq':.1,'all-max-ecc':5})\n",
    "    vx_mask&= sAS2n.return_vx_mask(th={'all-bound-rsq':[.1,i], 'all-max-ecc':5})\n",
    "    corr = dag_get_corr(\n",
    "        dAS2g.pd_params['diff']['d2s_centre'][vx_mask],\n",
    "        sAS2n.pd_params['diff']['d2s_centre'][vx_mask])\n",
    "    i_corr.append(corr)\n",
    "    # print(f'For {vx_mask.sum()} vx, & max rsq={i:.2f}, corr={corr:.3f}')"
   ]
  },
  {
   "cell_type": "code",
   "execution_count": null,
   "metadata": {},
   "outputs": [],
   "source": [
    "plt.plot(i_corr)\n",
    "plt.plot()"
   ]
  },
  {
   "cell_type": "code",
   "execution_count": null,
   "metadata": {},
   "outputs": [],
   "source": [
    "sim_prf_obj = ScotShiftPlot(                                                         \n",
    "    sub='sub-01',task_list=['AS0', 'AS1'],model='norm',\n",
    "    sim_or_data='sim')  "
   ]
  },
  {
   "cell_type": "code",
   "execution_count": null,
   "metadata": {},
   "outputs": [],
   "source": [
    "# Check the correlations: \n",
    "rsq_th = 0.1\n",
    "ecc_th = 5\n",
    "d2_corr = {\n",
    "    'gauss' : np.zeros((6,2)), \n",
    "    'norm' : np.zeros((6,2)),\n",
    "}\n",
    "D_d2s_change = {}\n",
    "S_d2s_change = {}\n",
    "sub_list = [1,2,3,4,6]\n",
    "for i,v in enumerate(sub_list):\n",
    "    print('')\n",
    "    sub = f'sub-{v:02}'\n",
    "    D_d2s_change[sub] = {}\n",
    "    for i_t,task in enumerate(['AS1', 'AS2']):\n",
    "        D_d2s_change[sub][task] = {}\n",
    "        S_d2s_change[sub][task] = {}\n",
    "        for model in ['gauss', 'norm']:\n",
    "            data_prf_obj = ScotShiftPlot( # ALWAYS GAUSS                                                        \n",
    "                sub=sub,task_list=['AS0', task], model='gauss',\n",
    "                sim_or_data='data')\n",
    "            sim_prf_obj = ScotShiftPlot(                                                         \n",
    "                sub=sub,task_list=['AS0', task],model=model,\n",
    "                sim_or_data='sim')\n",
    "            D_d2s_change[sub][task] = {}\n",
    "            S_d2s_change[sub][task] = {}            \n",
    "            this_vx_mask = sim_prf_obj.return_vx_mask({'all-min-rsq':rsq_th, 'all-max-ecc':ecc_th})\n",
    "            this_vx_mask &= data_prf_obj.return_vx_mask({'all-min-rsq':rsq_th, 'all-max-ecc':ecc_th})                                   \n",
    "            \n",
    "            this_corr = np.corrcoef(\n",
    "                data_prf_obj.pd_params['diff']['d2s_centre'][this_vx_mask],\n",
    "                sim_prf_obj.pd_params['diff']['d2s_centre'][this_vx_mask],\n",
    "            )[0,-1]\n",
    "            d2_corr[model][i,i_t] = this_corr\n",
    "            print(f'{sub}-{task}-{model: >5}: corr={this_corr:.3f}')"
   ]
  },
  {
   "cell_type": "code",
   "execution_count": null,
   "metadata": {},
   "outputs": [],
   "source": [
    "# Check the correlations: \n",
    "rsq_th = 0.1\n",
    "ecc_th = 5\n",
    "d2_corr = {\n",
    "    'gauss' : np.zeros((6,2)), \n",
    "    'norm' : np.zeros((6,2)),\n",
    "}\n",
    "D_d2s_change = {}\n",
    "S_d2s_change = {}\n",
    "sub_list = [1,2,3,4,6]\n",
    "for i,v in enumerate(sub_list):\n",
    "    print('')\n",
    "    sub = f'sub-{v:02}'\n",
    "    D_d2s_change[sub] = {}\n",
    "    for i_t,task in enumerate(['AS1', 'AS2']):\n",
    "        D_d2s_change[sub][task] = {}\n",
    "        S_d2s_change[sub][task] = {}\n",
    "        for model in ['gauss', 'norm']:\n",
    "            data_prf_obj = ScotShiftPlot( # ALWAYS GAUSS                                                        \n",
    "                sub=sub,task_list=['AS0', task], model='gauss',\n",
    "                sim_or_data='data')\n",
    "            sim_prf_obj = ScotShiftPlot(                                                         \n",
    "                sub=sub,task_list=['AS0', task],model=model,\n",
    "                sim_or_data='sim')\n",
    "            D_d2s_change[sub][task] = {}\n",
    "            S_d2s_change[sub][task] = {}            \n",
    "            this_vx_mask = sim_prf_obj.return_vx_mask({'all-min-rsq':rsq_th, 'all-max-ecc':ecc_th})\n",
    "            this_vx_mask &= data_prf_obj.return_vx_mask({'all-min-rsq':rsq_th, 'all-max-ecc':ecc_th})                                   \n",
    "            \n",
    "            this_corr = np.corrcoef(\n",
    "                data_prf_obj.pd_params['diff']['d2s_centre'][this_vx_mask],\n",
    "                sim_prf_obj.pd_params['diff']['d2s_centre'][this_vx_mask],\n",
    "            )[0,-1]\n",
    "            d2_corr[model][i,i_t] = this_corr\n",
    "            print(f'{sub}-{task}-{model: >5}: corr={this_corr:.3f}')"
   ]
  },
  {
   "cell_type": "code",
   "execution_count": null,
   "metadata": {},
   "outputs": [],
   "source": [
    "sub = 'sub-01'\n",
    "G0_d = ScotPrf1T1M(sub=sub, task='AS0', model='gauss', sim_or_data='data')\n",
    "G1_d = ScotPrf1T1M(sub=sub, task='AS1', model='gauss', sim_or_data='data')\n",
    "# G2_d = ScotPrf1T1M(sub=sub, task='AS2', model='gauss', sim_or_data='data')\n",
    "# N0_d = ScotPrf1T1M(sub=sub, task='AS0', model='norm' , sim_or_data='data')\n",
    "# N1_d = ScotPrf1T1M(sub=sub, task='AS1', model='norm' , sim_or_data='data')\n",
    "# N2_d = ScotPrf1T1M(sub=sub, task='AS2', model='norm' , sim_or_data='data')\n"
   ]
  },
  {
   "cell_type": "code",
   "execution_count": null,
   "metadata": {},
   "outputs": [],
   "source": [
    "G2_d = ScotPrf1T1M(sub=sub, task='AS2', model='gauss', sim_or_data='data')"
   ]
  },
  {
   "cell_type": "code",
   "execution_count": null,
   "metadata": {},
   "outputs": [],
   "source": [
    "\n",
    "G0_s = ScotPrf1T1M(sub=sub, task='AS0', model='gauss', sim_or_data='sim')\n",
    "G1_s = ScotPrf1T1M(sub=sub, task='AS1', model='gauss', sim_or_data='sim')\n",
    "# G2_s = ScotPrf1T1M(sub=sub, task='AS2', model='gauss', sim_or_data='sim')\n",
    "# N0_s = ScotPrf1T1M(sub=sub, task='AS0', model='norm' , sim_or_data='sim')\n",
    "N1_s = ScotPrf1T1M(sub=sub, task='AS1', model='norm' , sim_or_data='sim')\n",
    "N2_s = ScotPrf1T1M(sub=sub, task='AS2', model='norm' , sim_or_data='sim')\n"
   ]
  },
  {
   "cell_type": "code",
   "execution_count": null,
   "metadata": {},
   "outputs": [],
   "source": [
    "N0_s = ScotPrf1T1M(sub=sub, task='AS0', model='norm' , sim_or_data='sim')"
   ]
  },
  {
   "cell_type": "code",
   "execution_count": null,
   "metadata": {},
   "outputs": [],
   "source": [
    "G0_d.rapid_hist('rsq')\n",
    "G1_d.rapid_hist(ax=plt.gca(), param='rsq', alpha=0.5)"
   ]
  },
  {
   "cell_type": "code",
   "execution_count": null,
   "metadata": {},
   "outputs": [],
   "source": [
    "G0_s.rapid_hist('rsq')\n",
    "G1_s.rapid_hist(ax=plt.gca(), param='rsq', alpha=0.5)\n",
    "N0_s.rapid_hist(ax=plt.gca(), param='rsq', alpha=0.5)\n",
    "N1_s.rapid_hist(ax=plt.gca(), param='rsq', alpha=0.5)"
   ]
  },
  {
   "cell_type": "code",
   "execution_count": null,
   "metadata": {},
   "outputs": [],
   "source": [
    "G1s_comp = Prf1T1Mx2(G0_s, G1_s, id1='G0_s', id2='G1_s')\n",
    "N1s_comp = Prf1T1Mx2(N0_s, N1_s, id1='N0_s', id2='N1_s')\n",
    "G1d_comp = Prf1T1Mx2(G0_d, G1_d, id1='G0_d', id2='G1_d')\n"
   ]
  },
  {
   "cell_type": "code",
   "execution_count": null,
   "metadata": {},
   "outputs": [],
   "source": [
    "G1_s.rapid_scatter({'bound-rsq':[.3,.5]})"
   ]
  },
  {
   "cell_type": "code",
   "execution_count": null,
   "metadata": {},
   "outputs": [],
   "source": [
    "G1s_comp.rapid_p_corr()"
   ]
  },
  {
   "cell_type": "code",
   "execution_count": null,
   "metadata": {},
   "outputs": [],
   "source": [
    "comp = Prf1T1Mx2(\n",
    "    N0_s, N1_s, id1='N0_s', id2='N1_s',\n",
    ")\n",
    "comp.rapid_p_corr('N0_s-ecc', 'N1_s-ecc')"
   ]
  },
  {
   "cell_type": "code",
   "execution_count": null,
   "metadata": {},
   "outputs": [],
   "source": [
    "comp = Prf1T1Mx2(\n",
    "    G0_d, G1_d, id1='G0_d', id2='G1_d',\n",
    ")\n",
    "comp.rapid_p_corr('G0_d-ecc', 'G1_d-ecc')"
   ]
  },
  {
   "cell_type": "code",
   "execution_count": null,
   "metadata": {},
   "outputs": [],
   "source": [
    "vx_mask = "
   ]
  },
  {
   "cell_type": "code",
   "execution_count": null,
   "metadata": {},
   "outputs": [],
   "source": [
    "P_model_dict = {\n",
    "\n",
    "    'G0_d': G0_d,\n",
    "    'G1_d': G1_d,\n",
    "    'G2_d': G2_d,\n",
    "    'N0_d': N0_d,\n",
    "    'N1_d': N1_d,\n",
    "    'N2_d': N2_d,\n",
    "    #\n",
    "    'G0_s': G0_s,\n",
    "    'G1_s': G1_s,\n",
    "    'G2_s': G2_s,\n",
    "    'N0_s': N0_s,\n",
    "    'N1_s': N1_s,\n",
    "    'N2_s': N2_s,    \n",
    "}"
   ]
  },
  {
   "cell_type": "code",
   "execution_count": null,
   "metadata": {},
   "outputs": [],
   "source": [
    "roi_mask = get_roi(sub, 'V1_exvivo')\n",
    "s_id1 = 'N0_s'\n",
    "s_id2 = 'N2_s'\n",
    "d_id1 = 'G0_d'\n",
    "d_id2 = 'G2_d'\n",
    "\n",
    "\n",
    "\n",
    "fig,axs = plt.subplots(1)\n",
    "fig.set_size_inches(10,10)\n",
    "sim2 = Prf1T1Mx2(\n",
    "    P_model_dict[s_id1],\n",
    "    P_model_dict[s_id2],\n",
    "    id1=s_id1, id2=s_id2)\n",
    "\n",
    "sim2.rapid_arrow(th={'all-min-rsq':.1, 'roi':roi_mask, 'all-max-ecc':5}, arrow_col='angle')\n",
    "\n",
    "\n",
    "\n",
    "fig,axs = plt.subplots(1)\n",
    "fig.set_size_inches(10,10)\n",
    "data2 = Prf1T1Mx2(\n",
    "    P_model_dict[d_id1],\n",
    "    P_model_dict[d_id2],\n",
    "    id1=d_id1, id2=d_id2)\n",
    "data2.rapid_arrow(th={'all-min-rsq':.1, 'roi':roi_mask, 'all-max-ecc':5}, arrow_col='angle')\n"
   ]
  },
  {
   "cell_type": "code",
   "execution_count": null,
   "metadata": {},
   "outputs": [],
   "source": [
    "sub = 'sub-01'\n",
    "task_list = ['AS0', 'AS1', 'AS2']\n",
    "model_list = ['gauss', 'norm']\n",
    "data_tc = load_data_tc(sub=sub, task_list=task_list)\n",
    "d_pred_tc = load_data_prf(sub=sub, task_list=task_list, model_list=model_list, var_to_load='preds')\n",
    "sim_tc = load_sim_tc(sub=sub, task_list=task_list, model_list=model_list)\n",
    "s_pred_tc = load_sim_prf(sub=sub, task_list=task_list, model_list=model_list, var_to_load='preds')"
   ]
  },
  {
   "cell_type": "code",
   "execution_count": null,
   "metadata": {},
   "outputs": [],
   "source": [
    "sim_tc = load_sim_tc(sub=sub, task_list=task_list, model_list=model_list)"
   ]
  },
  {
   "cell_type": "code",
   "execution_count": null,
   "metadata": {},
   "outputs": [],
   "source": [
    "fig,ax = plt.subplots(1)\n",
    "fig.set_size_inches(5,11)\n"
   ]
  },
  {
   "cell_type": "code",
   "execution_count": null,
   "metadata": {},
   "outputs": [],
   "source": [
    "# Test whether subject stuff has been done: \n",
    "# -> [1] check for PSC \n",
    "# -> [2] check for \n",
    "source_data_dir = os.getenv(\"DIR_DATA_SOURCE\")\n",
    "derivatives_dir = os.getenv(\"DIR_DATA_DERIV\")\n",
    "default_prf_dir = opj(derivatives_dir, 'prf')\n",
    "default_prf_xpred_dir = opj(derivatives_dir, 'prf_xpred')\n",
    "default_ses = 'ses-1'\n",
    "from dag_prf_utils.utils import *\n",
    "def s0_checker(s, sub, **kwargs):\n",
    "    roi_fit = kwargs.get('roi_fit', 'all')\n",
    "    fit_stage = kwargs.get('fit_stage', 'iter')\n",
    "    task = kwargs.get('task', '')\n",
    "    model = kwargs.get('model', '')\n",
    "    this_prf_dir = opj(default_prf_dir, sub, default_ses)\n",
    "    this_xpred_dir = opj(default_prf_xpred_dir, sub, default_ses)\n",
    "    if s=='s1':\n",
    "        this_path = dag_find_file_in_folder(\n",
    "            [sub, hyphen_parse('task', task), 'hemi-LR', 'desc-avg_bold', '.npy'], \n",
    "            this_prf_dir, return_msg=None)    \n",
    "    elif 's2' in s:\n",
    "        this_path = dag_find_file_in_folder(\n",
    "            [sub, hyphen_parse('task', task), 'gauss', roi_fit, fit_stage, '.pkl'], \n",
    "            this_prf_dir, return_msg=None,)\n",
    "    elif s=='s3':\n",
    "        this_path = dag_find_file_in_folder(\n",
    "            [sub, hyphen_parse('task', task), 'norm', roi_fit, fit_stage, '.pkl'], \n",
    "            this_prf_dir, return_msg=None)    \n",
    "    elif s=='s4':\n",
    "        this_path = dag_find_file_in_folder(\n",
    "            [sub, hyphen_parse('task', task), model, roi_fit, '.npy'], \n",
    "            this_xpred_dir, return_msg=None)    \n",
    "    elif s=='s5':\n",
    "        this_path = dag_find_file_in_folder(\n",
    "            [sub, hyphen_parse('task', task), model, roi_fit, fit_stage, '.pkl'], \n",
    "            this_xpred_dir, return_msg=None)        \n",
    "    if this_path is None:\n",
    "        print(f'{s}, {sub}, {task}, {model}, NOT FOUND')\n",
    "        sN_done = False\n",
    "    else:\n",
    "        sN_done = True\n",
    "    \n",
    "    return sN_done\n",
    "\n",
    "        \n",
    "            \n",
    "for i in np.arange(1, 7):\n",
    "    if i==5:\n",
    "        continue\n",
    "    sub = f'sub-{i:02}'\n",
    "    for task in ['AS0', 'AS1', 'AS2']:\n",
    "        s0_checker('s2', sub, task=task, )#model='gauss')\n",
    "        s0_checker('s3', sub, task=task, )#model='gauss')\n",
    "        # s0_checker('s4', sub, task=task, model='gauss')\n",
    "        # s0_checker('s4', sub, task=task, model='norm')\n",
    "\n",
    "        s0_checker('s5', sub, task=task, model='norm')\n",
    "        s0_checker('s5', sub, task=task, model='gauss')\n",
    "        # s0_checker('s2b', sub, task=task, )#model='gauss')"
   ]
  },
  {
   "cell_type": "code",
   "execution_count": null,
   "metadata": {},
   "outputs": [],
   "source": [
    "for i in np.arange(1, 7):\n",
    "    sub = f'sub-{i:02}'\n",
    "    for task in ['AS0', 'AS1', 'AS2']:\n",
    "        for model in ['gauss', 'norm']:\n",
    "            try:\n",
    "                ScotPrf1T1M(sub, task, model, sim_or_data='sim')\n",
    "                print(f'{sub}, {task}, {model}')\n",
    "            except:\n",
    "                continue\n"
   ]
  },
  {
   "cell_type": "code",
   "execution_count": null,
   "metadata": {},
   "outputs": [],
   "source": [
    "fs_dir = '/data1/projects/dumoulinlab/Lab_members/Marcus/projects/pilot1/derivatives/freesurfer'\n",
    "from dag_prf_utils.mesh_maker import FSMaker\n",
    "from dag_prf_utils.blender_tools import BlendMaker\n",
    "\n"
   ]
  },
  {
   "cell_type": "code",
   "execution_count": null,
   "metadata": {},
   "outputs": [],
   "source": [
    "sub = 'sub-01'\n",
    "prf_obj = ScotPrf1T1M(sub=sub, task='AS0', model='gauss')\n",
    "fs = FSMaker(sub, fs_dir)\n"
   ]
  },
  {
   "cell_type": "code",
   "execution_count": null,
   "metadata": {},
   "outputs": [],
   "source": [
    "sub = 'sub-01'\n",
    "prf_obj = ScotPrf1T1M(sub=sub, task='AS0', model='gauss')\n",
    "fs = FSMaker(sub, fs_dir)\n",
    "\n",
    "fs.add_surface(\n",
    "    data = prf_obj.pd_params['pol'],\n",
    "    surf_name = f'{sub}-as0-gauss-pol',    \n",
    "    vmin = -np.pi, vmax=np.pi , # min and max values of polar anlge \n",
    "    data_mask=prf_obj.return_vx_mask({'min-rsq':.1}),\n",
    "    cmap = 'pol', # using hsv for polar angle, can use something else...\n",
    ")\n",
    "fs.open_fs_surface(f'{sub}-as0-gauss-ecc')"
   ]
  },
  {
   "cell_type": "code",
   "execution_count": null,
   "metadata": {},
   "outputs": [],
   "source": [
    "fs.add_surface(\n",
    "    data = prf_obj.pd_params['ecc'],\n",
    "    surf_name = f'{sub}-as0-gauss-ecc',    \n",
    "    vmin = 0, vmax=5 , # min and max values of polar anlge \n",
    "    data_mask=prf_obj.return_vx_mask({'min-rsq':.1}),\n",
    "    cmap = 'ecc', \n",
    ")\n",
    "fs.open_fs_surface(f'{sub}-as0-gauss-ecc')"
   ]
  },
  {
   "cell_type": "code",
   "execution_count": null,
   "metadata": {},
   "outputs": [],
   "source": []
  },
  {
   "cell_type": "code",
   "execution_count": null,
   "metadata": {},
   "outputs": [],
   "source": [
    "\n",
    "# fs_dir = '/data1/projects/dumoulinlab/Lab_members/Marcus/projects/pilot1/derivatives/freesurfer'\n",
    "# mesh_dir = '/data1/projects/dumoulinlab/Lab_members/Marcus/projects/pilot1/derivatives/mesh_dir/'\n",
    "\n",
    "# model = 'gauss'\n",
    "# sub_list = ['sub-01', 'sub-02', 'sub-03', 'sub-04', 'sub-06']\n",
    "# task_list = ['AS0', 'AS1', 'AS2']\n",
    "# for sub in sub_list:\n",
    "#     out_dir = opj(mesh_dir, f'{sub}')\n",
    "#     bm = BlendMaker(sub=sub, fs_dir=fs_dir,out_dir=out_dir, ow=True)\n",
    "#     pred_tc = load_sim_tc(sub=sub, task_list=task_list, model_list=model)\n",
    "#     notpsc_tc = load_data_not_psc(sub=sub, task_list=task_list, )\n",
    "#     for task in task_list:\n",
    "#         prf_obj = ScotPrf1T1M(sub=sub, task=task, model='gauss')\n",
    "#         this_data_mask = prf_obj.return_vx_mask({'min-rsq':.1, 'max-ecc':5})\n",
    "#         bm.add_cmap(\n",
    "#             data=prf_obj.pd_params['ecc'], \n",
    "#             surf_name=f'G-{task}-ecc', \n",
    "#             vmin=0, vmax=5, \n",
    "#             cmap='ecc', data_mask=this_data_mask, )#ow=True)\n",
    "\n",
    "#         bm.add_cmap(\n",
    "#             data=prf_obj.pd_params['pol'], \n",
    "#             surf_name=f'G-{task}-pol', \n",
    "#             vmin=-np.pi, vmax=np.pi, \n",
    "#             cmap='pol', data_mask=this_data_mask,)# ow=True)\n",
    "\n",
    "#         bm.add_cmap(\n",
    "#             data=prf_obj.pd_params['rsq'], \n",
    "#             surf_name=f'G-{task}-rsq', \n",
    "#             vmin=0, vmax=1, \n",
    "#             cmap='cool', data_mask=this_data_mask,)# ow=True)\n",
    "\n",
    "#         # amp\n",
    "#         bm.add_cmap(\n",
    "#             data=np.median(pred_tc[task][model], axis=-1),\n",
    "#             surf_name=f'G-{task}-data-amp', \n",
    "#             cmap='cool', data_mask=this_data_mask,)# ow=True)        \n",
    "        \n",
    "#         bm.add_cmap(\n",
    "#             data=np.max(notpsc_tc[task], axis=-1),\n",
    "#             surf_name=f'G-{task}-data-max', \n",
    "#             cmap='cool',)# ow=True)                \n",
    "#     bm.launch_blender(load_all_surf=True, save_blender=True, close_blender=True)"
   ]
  },
  {
   "cell_type": "code",
   "execution_count": null,
   "metadata": {},
   "outputs": [],
   "source": [
    "bm.launch_blender(hemi_list='lh', mesh_list='inflated', surf_list='G-AS0-data-amp', save_blender=False, close_blender=False)"
   ]
  },
  {
   "cell_type": "code",
   "execution_count": null,
   "metadata": {},
   "outputs": [],
   "source": [
    "    bm.add_cmap(data=g_prf_obj.pd_params['pol'], surf_name=f'G-{task}-pol', vmin=-3.14, vmax=3.14, cmap='hsv', data_mask=this_data_mask)\n",
    "    bm.add_cmap(data=g_prf_obj.pd_params['rsq'], surf_name=f'G-{task}-rsq', vmin=0, vmax=1, cmap='cool', data_mask=this_data_mask)\n",
    "    "
   ]
  },
  {
   "cell_type": "code",
   "execution_count": null,
   "metadata": {},
   "outputs": [],
   "source": [
    "bm.launch_blender()"
   ]
  },
  {
   "cell_type": "code",
   "execution_count": null,
   "metadata": {},
   "outputs": [],
   "source": [
    "\n",
    "prf_obj = Prf1T1M(g_prf, 'gauss', fixed_hrf=True)\n",
    "# Add polar angle plot\n",
    "fs.add_surface(\n",
    "    data = g_prf.pd_params['pol'],\n",
    "    surf_name = f'{sub}-as0-gauss-pol',    \n",
    "    vmin = -np.pi, vmax=np.pi , # min and max values of polar anlge \n",
    "    data_mask=g_prf.return_vx_mask({'min-rsq':.1}),\n",
    "    cmap = 'hsv', # using hsv for polar angle, can use something else...\n",
    "\n",
    ")\n",
    "\n",
    "# Add eccentricity\n",
    "fs.add_surface(\n",
    "    data = g_prf.pd_params['ecc'],\n",
    "    surf_name = f'{sub}-as0-gauss-ecc',   \n",
    "    vmin = 0, vmax = 5, # min and max values of eccentricity\n",
    "    data_mask=g_prf.return_vx_mask({'min-rsq':.1, 'max-ecc':8}),\n",
    "    cmap = 'jet', # using jet for polar angle, can use something else...\n",
    ")"
   ]
  },
  {
   "cell_type": "code",
   "execution_count": null,
   "metadata": {},
   "outputs": [],
   "source": [
    "# Now we can open one of the surfaces in freeview\n",
    "fs.open_fs_surface(\n",
    "    surf_name=f'{sub}-as0-gauss-pol',\n",
    "    mesh = 'inflated',          # what type of surface? inflated? pial?\n",
    "    )"
   ]
  },
  {
   "cell_type": "code",
   "execution_count": null,
   "metadata": {},
   "outputs": [],
   "source": [
    "from dag_prf_utils.mesh_maker import *\n"
   ]
  },
  {
   "cell_type": "code",
   "execution_count": null,
   "metadata": {},
   "outputs": [],
   "source": [
    "load_data_tc(sub=sub, task_list='AS0', roi_fit='demo' )['AS0'].shape"
   ]
  },
  {
   "cell_type": "code",
   "execution_count": null,
   "metadata": {},
   "outputs": [],
   "source": []
  },
  {
   "cell_type": "code",
   "execution_count": null,
   "metadata": {},
   "outputs": [],
   "source": [
    "sub = 'sub-06'\n",
    "task_list = ['AS0', 'AS1', 'AS2']\n",
    "model_list = ['gauss', 'norm']\n",
    "data_tc = load_data_tc(sub=sub, task_list=task_list)\n",
    "prf_data = load_data_prf(sub=sub, task_list=task_list, model_list=model_list, roi_fit='demo')\n",
    "sim_tc = load_sim_tc(sub=sub, task_list=task_list, model_list=model_list, roi_fit='demo')\n",
    "prf_sim = load_sim_prf(sub=sub, task_list=task_list, model_list=model_list, roi_fit='demo')"
   ]
  }
 ],
 "metadata": {
  "kernelspec": {
   "display_name": "ls_dag",
   "language": "python",
   "name": "python3"
  },
  "language_info": {
   "codemirror_mode": {
    "name": "ipython",
    "version": 3
   },
   "file_extension": ".py",
   "mimetype": "text/x-python",
   "name": "python",
   "nbconvert_exporter": "python",
   "pygments_lexer": "ipython3",
   "version": "3.9.10"
  },
  "orig_nbformat": 4
 },
 "nbformat": 4,
 "nbformat_minor": 2
}
