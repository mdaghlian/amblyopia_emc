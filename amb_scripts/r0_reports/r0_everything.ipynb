{
 "cells": [
  {
   "cell_type": "code",
   "execution_count": 1,
   "metadata": {},
   "outputs": [
    {
     "name": "stdout",
     "output_type": "stream",
     "text": [
      "The autoreload extension is already loaded. To reload it, use:\n",
      "  %reload_ext autoreload\n"
     ]
    },
    {
     "name": "stderr",
     "output_type": "stream",
     "text": [
      "/home/daghlian/.conda/envs/ls_dag/lib/python3.9/site-packages/nilearn/glm/__init__.py:55: FutureWarning: The nilearn.glm module is experimental. It may change in any future release of Nilearn.\n",
      "  warn('The nilearn.glm module is experimental. '\n"
     ]
    }
   ],
   "source": [
    "%load_ext autoreload\n",
    "%autoreload 2\n",
    "\n",
    "import numpy as np\n",
    "import matplotlib as mpl\n",
    "import matplotlib.pyplot as plt\n",
    "import seaborn as sns\n",
    "\n",
    "from amb_scripts.load_saved_info import *\n",
    "from amb_scripts.plot_csfv3 import *\n",
    "\n",
    "from dag_prf_utils.prfpy_functions import *\n",
    "from dag_prf_utils.plot_functions import *\n",
    "from dag_prf_utils.utils import *\n",
    "from dag_prf_utils.mesh_maker import *\n",
    "\n",
    "plot_cols = get_plot_cols()"
   ]
  },
  {
   "cell_type": "code",
   "execution_count": 2,
   "metadata": {},
   "outputs": [],
   "source": [
    "sub = 'sub-02'\n",
    "ses_list = ['ses-1', 'ses-2']\n",
    "qCSF_info = {}\n",
    "for ses in ses_list:\n",
    "    qCSF_info[ses] = amb_load_qcsf(sub, eye_list=['L', 'R'], ses=ses)\n",
    "\n",
    "roi_fit = 'all'\n",
    "fit_stage='iter'\n",
    "csf_data = {}\n",
    "prf_data = {}\n",
    "for ses in ses_list:\n",
    "    csf_data[ses] = amb_load_prf_params(\n",
    "        sub=sub,\n",
    "        task_list=['CSFLE', 'CSFRE'],\n",
    "        model_list='csf',\n",
    "        roi_fit=roi_fit, \n",
    "        fit_stage=fit_stage,\n",
    "        ses=ses\n",
    "    )\n",
    "    prf_data[ses] = amb_load_prf_params(\n",
    "        sub=sub,\n",
    "        task_list=['pRFLE', 'pRFRE'],\n",
    "        model_list='gauss',\n",
    "        roi_fit=roi_fit, \n",
    "        fit_stage=fit_stage,\n",
    "        ses=ses\n",
    "    )\n"
   ]
  },
  {
   "cell_type": "code",
   "execution_count": 3,
   "metadata": {},
   "outputs": [],
   "source": [
    "\n",
    "csf_obj = {}\n",
    "prf_obj = {}\n",
    "prf_obj_list = [] \n",
    "prf_id_list = []\n",
    "for i_ses,ses in enumerate(ses_list):\n",
    "    csf_obj[ses] = {}\n",
    "    prf_obj[ses] = {}    \n",
    "    \n",
    "    for eye in ['L', 'R']:    \n",
    "        csf_obj[ses][eye] = Prf1T1M(csf_data[ses][f'CSF{eye}E']['csf'], 'csf')\n",
    "        \n",
    "        prf_obj_list.append(csf_obj[ses][eye])\n",
    "        prf_id_list.append(f'{eye}_{i_ses+1}_csf')\n",
    "        \n",
    "        prf_obj[ses][eye] = Prf1T1M(prf_data[ses][f'pRF{eye}E']['gauss'], 'gauss')\n",
    "        \n",
    "        prf_obj_list.append(prf_obj[ses][eye])\n",
    "        prf_id_list.append(f'{eye}_{i_ses+1}_prf')   \n",
    "        \n",
    "prf_multi = PrfMulti(prf_obj_list, prf_id_list)"
   ]
  },
  {
   "cell_type": "code",
   "execution_count": null,
   "metadata": {},
   "outputs": [],
   "source": [
    "# Ses vs eye ...\n",
    "model = 'csf'\n",
    "param = f'sf0'\n",
    "prf_cols = {\n",
    "    'L_1':'#9ecae1',\n",
    "    'R_1':'#a1d99b',\n",
    "    'L_2':'#3182bd',\n",
    "    'R_2':'#31a354',\n",
    "}\n",
    "fig, ax = plt.subplots(4,1)\n",
    "fig.set_size_inches(7,12)\n",
    "fig.set_tight_layout('tight')\n",
    "for i,ses in enumerate(['1', '2']):\n",
    "    \n",
    "    for eye in ['L', 'R']:\n",
    "        eye_ses = f'{eye}_{ses}'\n",
    "        vx_mask = prf_multi.return_vx_mask(\n",
    "            {f'{eye_ses}_{model}-min-rsq':.1}\n",
    "        )\n",
    "        x = prf_multi.prf_obj[f'{eye_ses}_{model}'].pd_params[param][vx_mask]\n",
    "        ax[i].hist(x, color=prf_cols[eye_ses], label=eye_ses, alpha=0.9)\n",
    "    ax[i].legend()\n",
    "    ax[i].set_xlabel(param)\n",
    "\n",
    "\n",
    "for i,eye in enumerate(['L', 'R']):\n",
    "    for _,ses in enumerate(['1', '2']):\n",
    "    \n",
    "        eye_ses = f'{eye}_{ses}'\n",
    "        vx_mask = prf_multi.return_vx_mask(\n",
    "            {f'{eye_ses}_{model}-min-rsq':.1}\n",
    "        )\n",
    "        x = prf_multi.prf_obj[f'{eye_ses}_{model}'].pd_params[param][vx_mask]\n",
    "        ax[i+2].hist(x, color=prf_cols[eye_ses], label=eye_ses, alpha=0.9)\n",
    "    ax[i+2].legend()\n",
    "    ax[i+2].set_xlabel(param)\n",
    "\n"
   ]
  },
  {
   "cell_type": "code",
   "execution_count": null,
   "metadata": {},
   "outputs": [],
   "source": [
    "prf_multi.id_list"
   ]
  },
  {
   "cell_type": "code",
   "execution_count": 83,
   "metadata": {},
   "outputs": [
    {
     "ename": "PatsyError",
     "evalue": "Error evaluating factor: NameError: name 'rsq' is not defined\n    rsq ~ C(eye) + C(ses) + C(eye):C(ses)\n    ^^^",
     "output_type": "error",
     "traceback": [
      "\u001b[0;31m---------------------------------------------------------------------------\u001b[0m",
      "\u001b[0;31mNameError\u001b[0m                                 Traceback (most recent call last)",
      "File \u001b[0;32m~/.conda/envs/ls_dag/lib/python3.9/site-packages/patsy/compat.py:36\u001b[0m, in \u001b[0;36mcall_and_wrap_exc\u001b[0;34m(msg, origin, f, *args, **kwargs)\u001b[0m\n\u001b[1;32m     35\u001b[0m \u001b[39mtry\u001b[39;00m:\n\u001b[0;32m---> 36\u001b[0m     \u001b[39mreturn\u001b[39;00m f(\u001b[39m*\u001b[39;49margs, \u001b[39m*\u001b[39;49m\u001b[39m*\u001b[39;49mkwargs)\n\u001b[1;32m     37\u001b[0m \u001b[39mexcept\u001b[39;00m \u001b[39mException\u001b[39;00m \u001b[39mas\u001b[39;00m e:\n",
      "File \u001b[0;32m~/.conda/envs/ls_dag/lib/python3.9/site-packages/patsy/eval.py:165\u001b[0m, in \u001b[0;36mEvalEnvironment.eval\u001b[0;34m(self, expr, source_name, inner_namespace)\u001b[0m\n\u001b[1;32m    164\u001b[0m code \u001b[39m=\u001b[39m \u001b[39mcompile\u001b[39m(expr, source_name, \u001b[39m\"\u001b[39m\u001b[39meval\u001b[39m\u001b[39m\"\u001b[39m, \u001b[39mself\u001b[39m\u001b[39m.\u001b[39mflags, \u001b[39mFalse\u001b[39;00m)\n\u001b[0;32m--> 165\u001b[0m \u001b[39mreturn\u001b[39;00m \u001b[39meval\u001b[39;49m(code, {}, VarLookupDict([inner_namespace]\n\u001b[1;32m    166\u001b[0m                                     \u001b[39m+\u001b[39;49m \u001b[39mself\u001b[39;49m\u001b[39m.\u001b[39;49m_namespaces))\n",
      "File \u001b[0;32m<string>:1\u001b[0m\n",
      "\u001b[0;31mNameError\u001b[0m: name 'rsq' is not defined",
      "\nThe above exception was the direct cause of the following exception:\n",
      "\u001b[0;31mPatsyError\u001b[0m                                Traceback (most recent call last)",
      "Cell \u001b[0;32mIn[83], line 59\u001b[0m\n\u001b[1;32m     48\u001b[0m         \u001b[39m# # plt.legend('off')                                         \u001b[39;00m\n\u001b[1;32m     49\u001b[0m         \u001b[39m# plt.gca().set_ylim(0,5)                                                               \u001b[39;00m\n\u001b[1;32m     50\u001b[0m         \u001b[39m# plt.gca().set_title(title)                                                               \u001b[39;00m\n\u001b[0;32m   (...)\u001b[0m\n\u001b[1;32m     55\u001b[0m         \u001b[39m#     plt.gca().text(i,y_max*.8,p,  color='red', fontsize=40)\u001b[39;00m\n\u001b[1;32m     56\u001b[0m         \u001b[39m# # plt.gca().set_title(f'Rsq for {sub} (fit on AS0, test on AS1,AS2, including scotoma)') \u001b[39;00m\n\u001b[1;32m     58\u001b[0m     \u001b[39mreturn\u001b[39;00m p_PD\n\u001b[0;32m---> 59\u001b[0m this_PD \u001b[39m=\u001b[39m LE_RE_ses_violin(\n\u001b[1;32m     60\u001b[0m     prf_multi\u001b[39m=\u001b[39;49mprf_multi, \n\u001b[1;32m     61\u001b[0m     model\u001b[39m=\u001b[39;49m\u001b[39m'\u001b[39;49m\u001b[39mcsf\u001b[39;49m\u001b[39m'\u001b[39;49m, \n\u001b[1;32m     62\u001b[0m     param\u001b[39m=\u001b[39;49m\u001b[39m'\u001b[39;49m\u001b[39mrsq\u001b[39;49m\u001b[39m'\u001b[39;49m, th\u001b[39m=\u001b[39;49m{\u001b[39m'\u001b[39;49m\u001b[39mall-min-rsq\u001b[39;49m\u001b[39m'\u001b[39;49m:\u001b[39m.3\u001b[39;49m})\n\u001b[1;32m     63\u001b[0m plt\u001b[39m.\u001b[39mfigure()\n\u001b[1;32m     64\u001b[0m this_PD \u001b[39m=\u001b[39m LE_RE_ses_violin(\n\u001b[1;32m     65\u001b[0m     prf_multi\u001b[39m=\u001b[39mprf_multi, \n\u001b[1;32m     66\u001b[0m     model\u001b[39m=\u001b[39m\u001b[39m'\u001b[39m\u001b[39mcsf\u001b[39m\u001b[39m'\u001b[39m, \n\u001b[1;32m     67\u001b[0m     param\u001b[39m=\u001b[39m\u001b[39m'\u001b[39m\u001b[39msf0\u001b[39m\u001b[39m'\u001b[39m, th\u001b[39m=\u001b[39m{\u001b[39m'\u001b[39m\u001b[39mall-min-rsq\u001b[39m\u001b[39m'\u001b[39m:\u001b[39m.1\u001b[39m})\n",
      "Cell \u001b[0;32mIn[83], line 44\u001b[0m, in \u001b[0;36mLE_RE_ses_violin\u001b[0;34m(prf_multi, model, param, th, do_plot)\u001b[0m\n\u001b[1;32m     42\u001b[0m \u001b[39m#\u001b[39;00m\n\u001b[1;32m     43\u001b[0m formula \u001b[39m=\u001b[39m \u001b[39mf\u001b[39m\u001b[39m'\u001b[39m\u001b[39m{\u001b[39;00mparam\u001b[39m}\u001b[39;00m\u001b[39m ~ C(eye) + C(ses) + C(eye):C(ses)\u001b[39m\u001b[39m'\u001b[39m\n\u001b[0;32m---> 44\u001b[0m model \u001b[39m=\u001b[39m ols(formula, data\u001b[39m=\u001b[39;49mthis_PD)\u001b[39m.\u001b[39mfit()\n\u001b[1;32m     45\u001b[0m anova_table \u001b[39m=\u001b[39m sm\u001b[39m.\u001b[39mstats\u001b[39m.\u001b[39manova_lm(model, typ\u001b[39m=\u001b[39m\u001b[39m2\u001b[39m)\n\u001b[1;32m     46\u001b[0m \u001b[39mprint\u001b[39m(anova_table)\n",
      "File \u001b[0;32m~/.conda/envs/ls_dag/lib/python3.9/site-packages/statsmodels/base/model.py:200\u001b[0m, in \u001b[0;36mModel.from_formula\u001b[0;34m(cls, formula, data, subset, drop_cols, *args, **kwargs)\u001b[0m\n\u001b[1;32m    197\u001b[0m \u001b[39mif\u001b[39;00m missing \u001b[39m==\u001b[39m \u001b[39m'\u001b[39m\u001b[39mnone\u001b[39m\u001b[39m'\u001b[39m:  \u001b[39m# with patsy it's drop or raise. let's raise.\u001b[39;00m\n\u001b[1;32m    198\u001b[0m     missing \u001b[39m=\u001b[39m \u001b[39m'\u001b[39m\u001b[39mraise\u001b[39m\u001b[39m'\u001b[39m\n\u001b[0;32m--> 200\u001b[0m tmp \u001b[39m=\u001b[39m handle_formula_data(data, \u001b[39mNone\u001b[39;49;00m, formula, depth\u001b[39m=\u001b[39;49meval_env,\n\u001b[1;32m    201\u001b[0m                           missing\u001b[39m=\u001b[39;49mmissing)\n\u001b[1;32m    202\u001b[0m ((endog, exog), missing_idx, design_info) \u001b[39m=\u001b[39m tmp\n\u001b[1;32m    203\u001b[0m max_endog \u001b[39m=\u001b[39m \u001b[39mcls\u001b[39m\u001b[39m.\u001b[39m_formula_max_endog\n",
      "File \u001b[0;32m~/.conda/envs/ls_dag/lib/python3.9/site-packages/statsmodels/formula/formulatools.py:63\u001b[0m, in \u001b[0;36mhandle_formula_data\u001b[0;34m(Y, X, formula, depth, missing)\u001b[0m\n\u001b[1;32m     61\u001b[0m \u001b[39melse\u001b[39;00m:\n\u001b[1;32m     62\u001b[0m     \u001b[39mif\u001b[39;00m data_util\u001b[39m.\u001b[39m_is_using_pandas(Y, \u001b[39mNone\u001b[39;00m):\n\u001b[0;32m---> 63\u001b[0m         result \u001b[39m=\u001b[39m dmatrices(formula, Y, depth, return_type\u001b[39m=\u001b[39;49m\u001b[39m'\u001b[39;49m\u001b[39mdataframe\u001b[39;49m\u001b[39m'\u001b[39;49m,\n\u001b[1;32m     64\u001b[0m                            NA_action\u001b[39m=\u001b[39;49mna_action)\n\u001b[1;32m     65\u001b[0m     \u001b[39melse\u001b[39;00m:\n\u001b[1;32m     66\u001b[0m         result \u001b[39m=\u001b[39m dmatrices(formula, Y, depth, return_type\u001b[39m=\u001b[39m\u001b[39m'\u001b[39m\u001b[39mdataframe\u001b[39m\u001b[39m'\u001b[39m,\n\u001b[1;32m     67\u001b[0m                            NA_action\u001b[39m=\u001b[39mna_action)\n",
      "File \u001b[0;32m~/.conda/envs/ls_dag/lib/python3.9/site-packages/patsy/highlevel.py:309\u001b[0m, in \u001b[0;36mdmatrices\u001b[0;34m(formula_like, data, eval_env, NA_action, return_type)\u001b[0m\n\u001b[1;32m    299\u001b[0m \u001b[39m\"\"\"Construct two design matrices given a formula_like and data.\u001b[39;00m\n\u001b[1;32m    300\u001b[0m \n\u001b[1;32m    301\u001b[0m \u001b[39mThis function is identical to :func:`dmatrix`, except that it requires\u001b[39;00m\n\u001b[0;32m   (...)\u001b[0m\n\u001b[1;32m    306\u001b[0m \u001b[39mSee :func:`dmatrix` for details.\u001b[39;00m\n\u001b[1;32m    307\u001b[0m \u001b[39m\"\"\"\u001b[39;00m\n\u001b[1;32m    308\u001b[0m eval_env \u001b[39m=\u001b[39m EvalEnvironment\u001b[39m.\u001b[39mcapture(eval_env, reference\u001b[39m=\u001b[39m\u001b[39m1\u001b[39m)\n\u001b[0;32m--> 309\u001b[0m (lhs, rhs) \u001b[39m=\u001b[39m _do_highlevel_design(formula_like, data, eval_env,\n\u001b[1;32m    310\u001b[0m                                   NA_action, return_type)\n\u001b[1;32m    311\u001b[0m \u001b[39mif\u001b[39;00m lhs\u001b[39m.\u001b[39mshape[\u001b[39m1\u001b[39m] \u001b[39m==\u001b[39m \u001b[39m0\u001b[39m:\n\u001b[1;32m    312\u001b[0m     \u001b[39mraise\u001b[39;00m PatsyError(\u001b[39m\"\u001b[39m\u001b[39mmodel is missing required outcome variables\u001b[39m\u001b[39m\"\u001b[39m)\n",
      "File \u001b[0;32m~/.conda/envs/ls_dag/lib/python3.9/site-packages/patsy/highlevel.py:164\u001b[0m, in \u001b[0;36m_do_highlevel_design\u001b[0;34m(formula_like, data, eval_env, NA_action, return_type)\u001b[0m\n\u001b[1;32m    162\u001b[0m \u001b[39mdef\u001b[39;00m \u001b[39mdata_iter_maker\u001b[39m():\n\u001b[1;32m    163\u001b[0m     \u001b[39mreturn\u001b[39;00m \u001b[39miter\u001b[39m([data])\n\u001b[0;32m--> 164\u001b[0m design_infos \u001b[39m=\u001b[39m _try_incr_builders(formula_like, data_iter_maker, eval_env,\n\u001b[1;32m    165\u001b[0m                                   NA_action)\n\u001b[1;32m    166\u001b[0m \u001b[39mif\u001b[39;00m design_infos \u001b[39mis\u001b[39;00m \u001b[39mnot\u001b[39;00m \u001b[39mNone\u001b[39;00m:\n\u001b[1;32m    167\u001b[0m     \u001b[39mreturn\u001b[39;00m build_design_matrices(design_infos, data,\n\u001b[1;32m    168\u001b[0m                                  NA_action\u001b[39m=\u001b[39mNA_action,\n\u001b[1;32m    169\u001b[0m                                  return_type\u001b[39m=\u001b[39mreturn_type)\n",
      "File \u001b[0;32m~/.conda/envs/ls_dag/lib/python3.9/site-packages/patsy/highlevel.py:66\u001b[0m, in \u001b[0;36m_try_incr_builders\u001b[0;34m(formula_like, data_iter_maker, eval_env, NA_action)\u001b[0m\n\u001b[1;32m     64\u001b[0m \u001b[39mif\u001b[39;00m \u001b[39misinstance\u001b[39m(formula_like, ModelDesc):\n\u001b[1;32m     65\u001b[0m     \u001b[39massert\u001b[39;00m \u001b[39misinstance\u001b[39m(eval_env, EvalEnvironment)\n\u001b[0;32m---> 66\u001b[0m     \u001b[39mreturn\u001b[39;00m design_matrix_builders([formula_like\u001b[39m.\u001b[39;49mlhs_termlist,\n\u001b[1;32m     67\u001b[0m                                    formula_like\u001b[39m.\u001b[39;49mrhs_termlist],\n\u001b[1;32m     68\u001b[0m                                   data_iter_maker,\n\u001b[1;32m     69\u001b[0m                                   eval_env,\n\u001b[1;32m     70\u001b[0m                                   NA_action)\n\u001b[1;32m     71\u001b[0m \u001b[39melse\u001b[39;00m:\n\u001b[1;32m     72\u001b[0m     \u001b[39mreturn\u001b[39;00m \u001b[39mNone\u001b[39;00m\n",
      "File \u001b[0;32m~/.conda/envs/ls_dag/lib/python3.9/site-packages/patsy/build.py:693\u001b[0m, in \u001b[0;36mdesign_matrix_builders\u001b[0;34m(termlists, data_iter_maker, eval_env, NA_action)\u001b[0m\n\u001b[1;32m    689\u001b[0m factor_states \u001b[39m=\u001b[39m _factors_memorize(all_factors, data_iter_maker, eval_env)\n\u001b[1;32m    690\u001b[0m \u001b[39m# Now all the factors have working eval methods, so we can evaluate them\u001b[39;00m\n\u001b[1;32m    691\u001b[0m \u001b[39m# on some data to find out what type of data they return.\u001b[39;00m\n\u001b[1;32m    692\u001b[0m (num_column_counts,\n\u001b[0;32m--> 693\u001b[0m  cat_levels_contrasts) \u001b[39m=\u001b[39m _examine_factor_types(all_factors,\n\u001b[1;32m    694\u001b[0m                                                factor_states,\n\u001b[1;32m    695\u001b[0m                                                data_iter_maker,\n\u001b[1;32m    696\u001b[0m                                                NA_action)\n\u001b[1;32m    697\u001b[0m \u001b[39m# Now we need the factor infos, which encapsulate the knowledge of\u001b[39;00m\n\u001b[1;32m    698\u001b[0m \u001b[39m# how to turn any given factor into a chunk of data:\u001b[39;00m\n\u001b[1;32m    699\u001b[0m factor_infos \u001b[39m=\u001b[39m {}\n",
      "File \u001b[0;32m~/.conda/envs/ls_dag/lib/python3.9/site-packages/patsy/build.py:443\u001b[0m, in \u001b[0;36m_examine_factor_types\u001b[0;34m(factors, factor_states, data_iter_maker, NA_action)\u001b[0m\n\u001b[1;32m    441\u001b[0m \u001b[39mfor\u001b[39;00m data \u001b[39min\u001b[39;00m data_iter_maker():\n\u001b[1;32m    442\u001b[0m     \u001b[39mfor\u001b[39;00m factor \u001b[39min\u001b[39;00m \u001b[39mlist\u001b[39m(examine_needed):\n\u001b[0;32m--> 443\u001b[0m         value \u001b[39m=\u001b[39m factor\u001b[39m.\u001b[39;49meval(factor_states[factor], data)\n\u001b[1;32m    444\u001b[0m         \u001b[39mif\u001b[39;00m factor \u001b[39min\u001b[39;00m cat_sniffers \u001b[39mor\u001b[39;00m guess_categorical(value):\n\u001b[1;32m    445\u001b[0m             \u001b[39mif\u001b[39;00m factor \u001b[39mnot\u001b[39;00m \u001b[39min\u001b[39;00m cat_sniffers:\n",
      "File \u001b[0;32m~/.conda/envs/ls_dag/lib/python3.9/site-packages/patsy/eval.py:564\u001b[0m, in \u001b[0;36mEvalFactor.eval\u001b[0;34m(self, memorize_state, data)\u001b[0m\n\u001b[1;32m    563\u001b[0m \u001b[39mdef\u001b[39;00m \u001b[39meval\u001b[39m(\u001b[39mself\u001b[39m, memorize_state, data):\n\u001b[0;32m--> 564\u001b[0m     \u001b[39mreturn\u001b[39;00m \u001b[39mself\u001b[39;49m\u001b[39m.\u001b[39;49m_eval(memorize_state[\u001b[39m\"\u001b[39;49m\u001b[39meval_code\u001b[39;49m\u001b[39m\"\u001b[39;49m],\n\u001b[1;32m    565\u001b[0m                       memorize_state,\n\u001b[1;32m    566\u001b[0m                       data)\n",
      "File \u001b[0;32m~/.conda/envs/ls_dag/lib/python3.9/site-packages/patsy/eval.py:547\u001b[0m, in \u001b[0;36mEvalFactor._eval\u001b[0;34m(self, code, memorize_state, data)\u001b[0m\n\u001b[1;32m    545\u001b[0m \u001b[39mdef\u001b[39;00m \u001b[39m_eval\u001b[39m(\u001b[39mself\u001b[39m, code, memorize_state, data):\n\u001b[1;32m    546\u001b[0m     inner_namespace \u001b[39m=\u001b[39m VarLookupDict([data, memorize_state[\u001b[39m\"\u001b[39m\u001b[39mtransforms\u001b[39m\u001b[39m\"\u001b[39m]])\n\u001b[0;32m--> 547\u001b[0m     \u001b[39mreturn\u001b[39;00m call_and_wrap_exc(\u001b[39m\"\u001b[39;49m\u001b[39mError evaluating factor\u001b[39;49m\u001b[39m\"\u001b[39;49m,\n\u001b[1;32m    548\u001b[0m                              \u001b[39mself\u001b[39;49m,\n\u001b[1;32m    549\u001b[0m                              memorize_state[\u001b[39m\"\u001b[39;49m\u001b[39meval_env\u001b[39;49m\u001b[39m\"\u001b[39;49m]\u001b[39m.\u001b[39;49meval,\n\u001b[1;32m    550\u001b[0m                              code,\n\u001b[1;32m    551\u001b[0m                              inner_namespace\u001b[39m=\u001b[39;49minner_namespace)\n",
      "File \u001b[0;32m~/.conda/envs/ls_dag/lib/python3.9/site-packages/patsy/compat.py:43\u001b[0m, in \u001b[0;36mcall_and_wrap_exc\u001b[0;34m(msg, origin, f, *args, **kwargs)\u001b[0m\n\u001b[1;32m     39\u001b[0m     new_exc \u001b[39m=\u001b[39m PatsyError(\u001b[39m\"\u001b[39m\u001b[39m%s\u001b[39;00m\u001b[39m: \u001b[39m\u001b[39m%s\u001b[39;00m\u001b[39m: \u001b[39m\u001b[39m%s\u001b[39;00m\u001b[39m\"\u001b[39m\n\u001b[1;32m     40\u001b[0m                          \u001b[39m%\u001b[39m (msg, e\u001b[39m.\u001b[39m\u001b[39m__class__\u001b[39m\u001b[39m.\u001b[39m\u001b[39m__name__\u001b[39m, e),\n\u001b[1;32m     41\u001b[0m                          origin)\n\u001b[1;32m     42\u001b[0m     \u001b[39m# Use 'exec' to hide this syntax from the Python 2 parser:\u001b[39;00m\n\u001b[0;32m---> 43\u001b[0m     exec(\u001b[39m\"\u001b[39;49m\u001b[39mraise new_exc from e\u001b[39;49m\u001b[39m\"\u001b[39;49m)\n\u001b[1;32m     44\u001b[0m \u001b[39melse\u001b[39;00m:\n\u001b[1;32m     45\u001b[0m     \u001b[39m# In python 2, we just let the original exception escape -- better\u001b[39;00m\n\u001b[1;32m     46\u001b[0m     \u001b[39m# than destroying the traceback. But if it's a PatsyError, we can\u001b[39;00m\n\u001b[1;32m     47\u001b[0m     \u001b[39m# at least set the origin properly.\u001b[39;00m\n\u001b[1;32m     48\u001b[0m     \u001b[39mif\u001b[39;00m \u001b[39misinstance\u001b[39m(e, PatsyError):\n",
      "File \u001b[0;32m<string>:1\u001b[0m\n",
      "\u001b[0;31mPatsyError\u001b[0m: Error evaluating factor: NameError: name 'rsq' is not defined\n    rsq ~ C(eye) + C(ses) + C(eye):C(ses)\n    ^^^"
     ]
    },
    {
     "data": {
      "image/png": "[encoded data removed]",
      "text/plain": [
       "<Figure size 432x288 with 1 Axes>"
      ]
     },
     "metadata": {
      "needs_background": "light"
     },
     "output_type": "display_data"
    }
   ],
   "source": [
    "\n",
    "# Importing libraries\n",
    "import statsmodels.api as sm\n",
    "from statsmodels.formula.api import ols\n",
    "\n",
    "def LE_RE_ses_violin(prf_multi, model, param, th=None, do_plot=True,):        \n",
    "    if th is None:\n",
    "        th = {'min-rsq':.1, 'max-ecc':5}\n",
    "    # prfx = Prf1T1Mx2(prf_obj1=prfL, prf_obj2=prfR, id1='L', id2='R')\n",
    "    vx_mask = prf_multi.return_vx_mask(th)\n",
    "    p_dict = {}\n",
    "    p_dict[param] = []\n",
    "    p_dict['eye'] = []\n",
    "    p_dict['ses'] = []\n",
    "    # p_dict['model'] = []\n",
    "    for eye in ['L', 'R']:\n",
    "        for ses in ['1', '2']:\n",
    "            # vx_mask = prf_multi.prf_obj[f'{eye}_{ses}_{model}'].return_vx_mask(th)\n",
    "            this_p = prf_multi.prf_obj[f'{eye}_{ses}_{model}'].pd_params[param][vx_mask]\n",
    "            p_dict[param].append(this_p)\n",
    "            p_dict['eye'].append([eye]*len(this_p))\n",
    "            p_dict['ses'].append([ses]*len(this_p))\n",
    "\n",
    "    for key in p_dict.keys():                                                              \n",
    "        p_dict[key] = np.concatenate(p_dict[key])                                          \n",
    "    p_PD = pd.DataFrame(p_dict)    \n",
    "    if do_plot:                                                        \n",
    "        sns.violinplot(                                                                        \n",
    "            x=\"ses\", y=param, hue=\"eye\",                                \n",
    "            data=p_PD, palette=[plot_cols[\"LE\"], plot_cols[\"RE\"]],                     \n",
    "            width=1, linewidth=0, split=True, inner=None,)                                     \n",
    "        sns.boxplot(x=\"ses\", y=param,                                            \n",
    "                    hue=\"eye\", palette=[plot_cols[\"LE\"], plot_cols[\"RE\"]],        \n",
    "                    data=p_PD, showfliers = False, width=.5)\n",
    "        sns.pointplot(\n",
    "            x=\"ses\", y=param, \n",
    "            hue=\"eye\", palette=[plot_cols[\"LE\"], plot_cols[\"RE\"]],        \n",
    "            data=p_PD)                               \n",
    "        # # sns.despine(offset=10, trim=True)                                                    \n",
    "        plt.gca().grid(True, which='both', axis=\"y\")  \n",
    "        plt.gca().get_legend().remove()\n",
    "\n",
    "        #\n",
    "        formula = f'{param} ~ C(eye) + C(ses) + C(eye):C(ses)'\n",
    "        model = ols(formula, data=this_PD).fit()\n",
    "        anova_table = sm.stats.anova_lm(model, typ=2)\n",
    "        print(anova_table)\n",
    "\n",
    "        # # plt.legend('off')                                         \n",
    "        # plt.gca().set_ylim(0,5)                                                               \n",
    "        # plt.gca().set_title(title)                                                               \n",
    "        # y_max = plt.gca().get_ylim()[-1]\n",
    "        # plt.gcf().set_size_inches(10,4)\n",
    "        # dag_update_ax_fontsize(plt.gca(), 15)\n",
    "        # for i,p in enumerate(roi_pval):\n",
    "        #     plt.gca().text(i,y_max*.8,p,  color='red', fontsize=40)\n",
    "        # # plt.gca().set_title(f'Rsq for {sub} (fit on AS0, test on AS1,AS2, including scotoma)') \n",
    "        \n",
    "    return p_PD\n",
    "this_PD = LE_RE_ses_violin(\n",
    "    prf_multi=prf_multi, \n",
    "    model='csf', \n",
    "    param='rsq', th={'all-min-rsq':.3})\n",
    "plt.figure()\n",
    "this_PD = LE_RE_ses_violin(\n",
    "    prf_multi=prf_multi, \n",
    "    model='csf', \n",
    "    param='sf0', th={'all-min-rsq':.1})"
   ]
  },
  {
   "cell_type": "code",
   "execution_count": 29,
   "metadata": {},
   "outputs": [],
   "source": [
    "\n",
    "\n",
    "def LE_RE_ses_pd(prf_multi, model, param, th=None, do_plot=True, matched=True):        \n",
    "    if th is None:\n",
    "        th = {'all-min-rsq':.1}\n",
    "    vx_mask = prf_multi.return_vx_mask(th)\n",
    "    \n",
    "    p_dict = {}\n",
    "    p_dict[param] = []\n",
    "    p_dict['eye'] = []\n",
    "    p_dict['ses'] = []\n",
    "    p_dict['vx_id'] = []\n",
    "\n",
    "    # p_dict['model'] = []\n",
    "    for eye in ['L', 'R']:\n",
    "        for ses in ['1', '2']:\n",
    "            # vx_mask = prf_multi.prf_obj[f'{eye}_{ses}_{model}'].return_vx_mask(th)\n",
    "            this_p = prf_multi.prf_obj[f'{eye}_{ses}_{model}'].pd_params[param][vx_mask]\n",
    "            # this_p = np.random.rand(len(this_p))\n",
    "            p_dict[param].append(this_p)\n",
    "            # this_\n",
    "            p_dict['eye'].append([eye]*len(this_p))\n",
    "            p_dict['ses'].append([ses]*len(this_p))\n",
    "            p_dict['vx_id'].append(np.arange(len(this_p)))\n",
    "\n",
    "    for key in p_dict.keys():                                                              \n",
    "        p_dict[key] = np.concatenate(p_dict[key])                                          \n",
    "    p_PD = pd.DataFrame(p_dict)    \n",
    "    p_PD['eye'] = pd.Categorical(p_PD['eye'])\n",
    "    p_PD['ses'] = pd.Categorical(p_PD['ses'])\n",
    "\n",
    "    return p_PD\n",
    "\n"
   ]
  },
  {
   "cell_type": "code",
   "execution_count": 71,
   "metadata": {},
   "outputs": [
    {
     "data": {
      "text/plain": [
       "['L_1_csf',\n",
       " 'L_1_prf',\n",
       " 'R_1_csf',\n",
       " 'R_1_prf',\n",
       " 'L_2_csf',\n",
       " 'L_2_prf',\n",
       " 'R_2_csf',\n",
       " 'R_2_prf']"
      ]
     },
     "execution_count": 71,
     "metadata": {},
     "output_type": "execute_result"
    }
   ],
   "source": [
    "prf_multi.id_list"
   ]
  },
  {
   "cell_type": "code",
   "execution_count": 68,
   "metadata": {},
   "outputs": [
    {
     "name": "stdout",
     "output_type": "stream",
     "text": [
      "sf0\n",
      "[ 2.2683401  -1.24570022  0.0310666  -0.22764948]\n",
      "                     sum_sq       df            F        PR(>F)\n",
      "C(eye)         15017.503397      1.0  6313.691282  0.000000e+00\n",
      "C(ses)            55.647392      1.0    23.395397  1.324970e-06\n",
      "C(eye):C(ses)    105.268082      1.0    44.257035  2.925329e-11\n",
      "Residual       77293.736513  32496.0          NaN           NaN\n",
      "\n"
     ]
    },
    {
     "data": {
      "image/png": "[encoded data removed]",
      "text/plain": [
       "<Figure size 432x288 with 1 Axes>"
      ]
     },
     "metadata": {
      "needs_background": "light"
     },
     "output_type": "display_data"
    },
    {
     "name": "stdout",
     "output_type": "stream",
     "text": [
      "maxC\n",
      "[35.37665524 19.42701262 -9.84608967  0.98564512]\n",
      "                     sum_sq       df            F         PR(>F)\n",
      "C(eye)         3.223999e+06      1.0  1492.457674  2.905600e-319\n",
      "C(ses)         7.108043e+05      1.0   329.046455   3.564370e-73\n",
      "C(eye):C(ses)  1.973352e+03      1.0     0.913507   3.391928e-01\n",
      "Residual       7.019768e+07  32496.0          NaN            NaN\n",
      "\n"
     ]
    },
    {
     "data": {
      "image/png": "[encoded data removed]",
      "text/plain": [
       "<Figure size 432x288 with 1 Axes>"
      ]
     },
     "metadata": {
      "needs_background": "light"
     },
     "output_type": "display_data"
    },
    {
     "name": "stdout",
     "output_type": "stream",
     "text": [
      "width_r\n",
      "[ 1.49648696  0.53395908  0.08798212 -0.01715702]\n",
      "                     sum_sq       df            F        PR(>F)\n",
      "C(eye)          2242.701027      1.0  3143.691410  0.000000e+00\n",
      "C(ses)            51.227582      1.0    71.807926  2.470526e-17\n",
      "C(eye):C(ses)      0.597925      1.0     0.838138  3.599367e-01\n",
      "Residual       23182.559311  32496.0          NaN           NaN\n",
      "\n"
     ]
    },
    {
     "data": {
      "image/png": "[encoded data removed]",
      "text/plain": [
       "<Figure size 432x288 with 1 Axes>"
      ]
     },
     "metadata": {
      "needs_background": "light"
     },
     "output_type": "display_data"
    },
    {
     "name": "stdout",
     "output_type": "stream",
     "text": [
      "rsq\n",
      "[ 0.24393959  0.06450206  0.11323787 -0.13184488]\n",
      "                   sum_sq       df            F         PR(>F)\n",
      "C(eye)           0.016392      1.0     1.235147   2.664166e-01\n",
      "C(ses)          18.189843      1.0  1370.613850  6.647100e-294\n",
      "C(eye):C(ses)   35.309365      1.0  2660.578542   0.000000e+00\n",
      "Residual       431.264522  32496.0          NaN            NaN\n",
      "\n"
     ]
    },
    {
     "data": {
      "image/png": "[encoded data removed]",
      "text/plain": [
       "<Figure size 432x288 with 1 Axes>"
      ]
     },
     "metadata": {
      "needs_background": "light"
     },
     "output_type": "display_data"
    }
   ],
   "source": [
    "roi = 'all'\n",
    "roi_mask = amb_load_roi(sub, roi)\n",
    "model = 'csf'\n",
    "for param in ['sf0', 'maxC', 'width_r', 'sfmax', 'rsq']:\n",
    "    formula = f'{param} ~ C(eye) + C(ses) + C(eye):C(ses)'\n",
    "    # param = 'sfmax'\n",
    "    this_PD = LE_RE_ses_pd(\n",
    "        prf_multi=prf_multi, \n",
    "        model='csf', \n",
    "        param=param, th={'all-min-rsq':.1, 'roi':roi_mask})\n",
    "    model = ols(formula, data=this_PD).fit()\n",
    "    anova_table = sm.stats.anova_lm(model, typ=2)\n",
    "    print(param)\n",
    "    print(model._results.params)\n",
    "    print(anova_table)\n",
    "    print('')\n",
    "    plt.figure()\n",
    "    # # Plotting box plots\n",
    "    # sns.boxplot(x='eye', y=param, hue='ses', data=this_PD)\n",
    "    # plt.title(f'{param} by Eye and Treatment')\n",
    "    # plt.xlabel('Eye')\n",
    "    # plt.ylabel(param)\n",
    "    # plt.show()\n",
    "\n",
    "    # Plotting interaction plots\n",
    "    sns.pointplot(x='eye', y=param, hue='ses', data=this_PD)\n",
    "    plt.title('Interaction Plot: Visual Acuity by Eye and Treatment')\n",
    "    plt.xlabel('Eye')\n",
    "    plt.ylabel(param)\n",
    "    plt.show()    \n"
   ]
  },
  {
   "cell_type": "code",
   "execution_count": 70,
   "metadata": {},
   "outputs": [
    {
     "name": "stdout",
     "output_type": "stream",
     "text": [
      "ecc\n",
      "[1.965343   0.32315158 0.15498946 0.13650215]\n",
      "                     sum_sq       df           F         PR(>F)\n",
      "C(eye)           613.243735      1.0  475.943188  5.314305e-104\n",
      "C(ses)           199.494859      1.0  154.829497   2.223756e-35\n",
      "C(eye):C(ses)     18.646812      1.0   14.471934   1.427923e-04\n",
      "Residual       20626.003175  16008.0         NaN            NaN\n",
      "\n"
     ]
    },
    {
     "data": {
      "image/png": "[encoded data removed]",
      "text/plain": [
       "<Figure size 432x288 with 1 Axes>"
      ]
     },
     "metadata": {
      "needs_background": "light"
     },
     "output_type": "display_data"
    },
    {
     "ename": "KeyError",
     "evalue": "'L_1_<statsmodels.regression.linear_model.RegressionResultsWrapper object at 0x7fa8d3e7a9a0>'",
     "output_type": "error",
     "traceback": [
      "\u001b[0;31m---------------------------------------------------------------------------\u001b[0m",
      "\u001b[0;31mKeyError\u001b[0m                                  Traceback (most recent call last)",
      "Cell \u001b[0;32mIn[70], line 7\u001b[0m\n\u001b[1;32m      5\u001b[0m formula \u001b[39m=\u001b[39m \u001b[39mf\u001b[39m\u001b[39m'\u001b[39m\u001b[39m{\u001b[39;00mparam\u001b[39m}\u001b[39;00m\u001b[39m ~ C(eye) + C(ses) + C(eye):C(ses)\u001b[39m\u001b[39m'\u001b[39m\n\u001b[1;32m      6\u001b[0m \u001b[39m# param = 'sfmax'\u001b[39;00m\n\u001b[0;32m----> 7\u001b[0m this_PD \u001b[39m=\u001b[39m LE_RE_ses_pd(\n\u001b[1;32m      8\u001b[0m     prf_multi\u001b[39m=\u001b[39;49mprf_multi, \n\u001b[1;32m      9\u001b[0m     model\u001b[39m=\u001b[39;49mmodel, \n\u001b[1;32m     10\u001b[0m     param\u001b[39m=\u001b[39;49mparam, th\u001b[39m=\u001b[39;49m{\u001b[39m'\u001b[39;49m\u001b[39mall-min-rsq\u001b[39;49m\u001b[39m'\u001b[39;49m:\u001b[39m.1\u001b[39;49m,\u001b[39m'\u001b[39;49m\u001b[39mall-max-ecc\u001b[39;49m\u001b[39m'\u001b[39;49m:\u001b[39m5\u001b[39;49m, \u001b[39m'\u001b[39;49m\u001b[39mroi\u001b[39;49m\u001b[39m'\u001b[39;49m:roi_mask})\n\u001b[1;32m     11\u001b[0m model \u001b[39m=\u001b[39m ols(formula, data\u001b[39m=\u001b[39mthis_PD)\u001b[39m.\u001b[39mfit()\n\u001b[1;32m     12\u001b[0m anova_table \u001b[39m=\u001b[39m sm\u001b[39m.\u001b[39mstats\u001b[39m.\u001b[39manova_lm(model, typ\u001b[39m=\u001b[39m\u001b[39m2\u001b[39m)\n",
      "Cell \u001b[0;32mIn[29], line 16\u001b[0m, in \u001b[0;36mLE_RE_ses_pd\u001b[0;34m(prf_multi, model, param, th, do_plot, matched)\u001b[0m\n\u001b[1;32m     13\u001b[0m \u001b[39mfor\u001b[39;00m eye \u001b[39min\u001b[39;00m [\u001b[39m'\u001b[39m\u001b[39mL\u001b[39m\u001b[39m'\u001b[39m, \u001b[39m'\u001b[39m\u001b[39mR\u001b[39m\u001b[39m'\u001b[39m]:\n\u001b[1;32m     14\u001b[0m     \u001b[39mfor\u001b[39;00m ses \u001b[39min\u001b[39;00m [\u001b[39m'\u001b[39m\u001b[39m1\u001b[39m\u001b[39m'\u001b[39m, \u001b[39m'\u001b[39m\u001b[39m2\u001b[39m\u001b[39m'\u001b[39m]:\n\u001b[1;32m     15\u001b[0m         \u001b[39m# vx_mask = prf_multi.prf_obj[f'{eye}_{ses}_{model}'].return_vx_mask(th)\u001b[39;00m\n\u001b[0;32m---> 16\u001b[0m         this_p \u001b[39m=\u001b[39m prf_multi\u001b[39m.\u001b[39;49mprf_obj[\u001b[39mf\u001b[39;49m\u001b[39m'\u001b[39;49m\u001b[39m{\u001b[39;49;00meye\u001b[39m}\u001b[39;49;00m\u001b[39m_\u001b[39;49m\u001b[39m{\u001b[39;49;00mses\u001b[39m}\u001b[39;49;00m\u001b[39m_\u001b[39;49m\u001b[39m{\u001b[39;49;00mmodel\u001b[39m}\u001b[39;49;00m\u001b[39m'\u001b[39;49m]\u001b[39m.\u001b[39mpd_params[param][vx_mask]\n\u001b[1;32m     17\u001b[0m         \u001b[39m# this_p = np.random.rand(len(this_p))\u001b[39;00m\n\u001b[1;32m     18\u001b[0m         p_dict[param]\u001b[39m.\u001b[39mappend(this_p)\n",
      "\u001b[0;31mKeyError\u001b[0m: 'L_1_<statsmodels.regression.linear_model.RegressionResultsWrapper object at 0x7fa8d3e7a9a0>'"
     ]
    }
   ],
   "source": [
    "roi = 'all'\n",
    "roi_mask = amb_load_roi(sub, roi)\n",
    "model = 'prf'\n",
    "for param in ['ecc', 'rsq', 'rsq']:\n",
    "    formula = f'{param} ~ C(eye) + C(ses) + C(eye):C(ses)'\n",
    "    # param = 'sfmax'\n",
    "    this_PD = LE_RE_ses_pd(\n",
    "        prf_multi=prf_multi, \n",
    "        model=model, \n",
    "        param=param, th={'all-min-rsq':.1,'all-max-ecc':5, 'roi':roi_mask})\n",
    "    model = ols(formula, data=this_PD).fit()\n",
    "    anova_table = sm.stats.anova_lm(model, typ=2)\n",
    "    print(param)\n",
    "    print(model._results.params)\n",
    "    print(anova_table)\n",
    "    print('')\n",
    "    plt.figure()\n",
    "    # # Plotting box plots\n",
    "    # sns.boxplot(x='eye', y=param, hue='ses', data=this_PD)\n",
    "    # plt.title(f'{param} by Eye and Treatment')\n",
    "    # plt.xlabel('Eye')\n",
    "    # plt.ylabel(param)\n",
    "    # plt.show()\n",
    "\n",
    "    # Plotting interaction plots\n",
    "    sns.pointplot(x='eye', y=param, hue='ses', data=this_PD)\n",
    "    plt.title('Interaction Plot: Visual Acuity by Eye and Treatment')\n",
    "    plt.xlabel('Eye')\n",
    "    plt.ylabel(param)\n",
    "    plt.show()    \n"
   ]
  },
  {
   "cell_type": "code",
   "execution_count": 59,
   "metadata": {},
   "outputs": [
    {
     "data": {
      "text/html": [
       "<div>\n",
       "<style scoped>\n",
       "    .dataframe tbody tr th:only-of-type {\n",
       "        vertical-align: middle;\n",
       "    }\n",
       "\n",
       "    .dataframe tbody tr th {\n",
       "        vertical-align: top;\n",
       "    }\n",
       "\n",
       "    .dataframe thead th {\n",
       "        text-align: right;\n",
       "    }\n",
       "</style>\n",
       "<table border=\"1\" class=\"dataframe\">\n",
       "  <thead>\n",
       "    <tr style=\"text-align: right;\">\n",
       "      <th></th>\n",
       "      <th>sum_sq</th>\n",
       "      <th>df</th>\n",
       "      <th>F</th>\n",
       "      <th>PR(&gt;F)</th>\n",
       "    </tr>\n",
       "  </thead>\n",
       "  <tbody>\n",
       "    <tr>\n",
       "      <th>C(eye)</th>\n",
       "      <td>2242.701027</td>\n",
       "      <td>1.0</td>\n",
       "      <td>3143.691410</td>\n",
       "      <td>0.000000e+00</td>\n",
       "    </tr>\n",
       "    <tr>\n",
       "      <th>C(ses)</th>\n",
       "      <td>51.227582</td>\n",
       "      <td>1.0</td>\n",
       "      <td>71.807926</td>\n",
       "      <td>2.470526e-17</td>\n",
       "    </tr>\n",
       "    <tr>\n",
       "      <th>C(eye):C(ses)</th>\n",
       "      <td>0.597925</td>\n",
       "      <td>1.0</td>\n",
       "      <td>0.838138</td>\n",
       "      <td>3.599367e-01</td>\n",
       "    </tr>\n",
       "    <tr>\n",
       "      <th>Residual</th>\n",
       "      <td>23182.559311</td>\n",
       "      <td>32496.0</td>\n",
       "      <td>NaN</td>\n",
       "      <td>NaN</td>\n",
       "    </tr>\n",
       "  </tbody>\n",
       "</table>\n",
       "</div>"
      ],
      "text/plain": [
       "                     sum_sq       df            F        PR(>F)\n",
       "C(eye)          2242.701027      1.0  3143.691410  0.000000e+00\n",
       "C(ses)            51.227582      1.0    71.807926  2.470526e-17\n",
       "C(eye):C(ses)      0.597925      1.0     0.838138  3.599367e-01\n",
       "Residual       23182.559311  32496.0          NaN           NaN"
      ]
     },
     "execution_count": 59,
     "metadata": {},
     "output_type": "execute_result"
    }
   ],
   "source": []
  },
  {
   "cell_type": "code",
   "execution_count": 55,
   "metadata": {},
   "outputs": [
    {
     "data": {
      "text/plain": [
       "dict_keys(['params', 'model', 'k_constant', '_data_attr', '_data_in_cache', 'normalized_cov_params', '_use_t', '_cache', '_wexog_singular_values', 'df_model', 'df_resid', 'cov_type', 'cov_kwds'])"
      ]
     },
     "execution_count": 55,
     "metadata": {},
     "output_type": "execute_result"
    }
   ],
   "source": [
    "# model._results.__dict__.keys()\n"
   ]
  },
  {
   "cell_type": "code",
   "execution_count": 26,
   "metadata": {},
   "outputs": [],
   "source": [
    "\n",
    "\n",
    "\n",
    "\n",
    "# this_PD = LE_RE_ses_violin(\n",
    "#     prf_multi=prf_multi, \n",
    "#     model='csf', \n",
    "#     param='sfmax', th={'min-rsq':.1}, do_plot = False)\n",
    "# # Performing two-way ANOVA\n",
    "# model = ols(\n",
    "#     'height ~ C(Fertilizer) + C(Watering) +\\\n",
    "#     C(Fertilizer):C(Watering)', data=df).fit()\n",
    "# sm.stats.anova_lm(model, typ=2)"
   ]
  },
  {
   "cell_type": "code",
   "execution_count": 27,
   "metadata": {},
   "outputs": [
    {
     "name": "stdout",
     "output_type": "stream",
     "text": [
      "                   sum_sq      df         F    PR(>F)\n",
      "C(eye)           0.064714     1.0  0.781748  0.376674\n",
      "C(ses)           0.146757     1.0  1.772830  0.183128\n",
      "C(eye):C(ses)    0.397431     1.0  4.801000  0.028516\n",
      "Residual       262.581284  3172.0       NaN       NaN\n"
     ]
    }
   ],
   "source": [
    "# Perform the ANOVA\n",
    "anova_table = sm.stats.anova_lm(model, typ=2)\n",
    "print(anova_table)\n",
    "\n",
    "\n",
    "\n",
    "\n"
   ]
  },
  {
   "cell_type": "code",
   "execution_count": null,
   "metadata": {},
   "outputs": [],
   "source": [
    "prf_multi.id_list"
   ]
  },
  {
   "cell_type": "code",
   "execution_count": null,
   "metadata": {},
   "outputs": [],
   "source": [
    "sub_list = ['sub-01', 'sub-02']\n",
    "roi_fit = 'all'\n"
   ]
  },
  {
   "cell_type": "code",
   "execution_count": null,
   "metadata": {},
   "outputs": [],
   "source": [
    "# prf_data = {}\n",
    "# csf_data = {}\n",
    "# real_tc = {}\n",
    "# pred_tc = {}\n",
    "# pred_tc = {}\n",
    "prf_objs = {}\n",
    "all_prf_objs = {}\n",
    "for sub in sub_list:\n",
    "\n",
    "    # LOAD USEFUL INFORMATION\n",
    "    prf_data = amb_load_prf_params(\n",
    "        sub=sub,\n",
    "        task_list=['pRFLE', 'pRFRE'],\n",
    "        model_list='gauss',\n",
    "        roi_fit=roi_fit,            \n",
    "    )\n",
    "\n",
    "    csf_data = amb_load_prf_params(\n",
    "        sub=sub,\n",
    "        task_list=['CSFLE', 'CSFRE'],\n",
    "        model_list='csf',\n",
    "        roi_fit=roi_fit,            \n",
    "    )\n",
    "\n",
    "    # real_tc[sub] = amb_load_real_tc(sub=sub, task_list=['pRFLE', 'pRFRE', 'CSFLE', 'CSFRE'])\n",
    "    # pred_tc[sub] = amb_load_pred_tc(sub=sub, task_list=['pRFLE', 'pRFRE'], model_list='gauss')\n",
    "    # pred_tc[sub] |= amb_load_pred_tc(sub=sub, task_list=['CSFRE', 'CSFLE'], model_list='csf')\n",
    "\n",
    "    # Enter into prf objects:\n",
    "    prf_obj_list = []\n",
    "    prf_id_list = []\n",
    "    prf_obj = {}\n",
    "    model = 'gauss'\n",
    "    for task in ['pRFLE', 'pRFRE']:    \n",
    "        prf_obj[task] = {}    \n",
    "        prf_obj[task][model] = Prf1T1M(prf_data[task][model], model)\n",
    "        prf_obj_list.append(Prf1T1M(prf_data[task][model], model))\n",
    "        prf_id_list.append(task)\n",
    "\n",
    "    model = 'csf'\n",
    "    for task in ['CSFLE', 'CSFRE']:    \n",
    "        prf_obj[task] = {}    \n",
    "        prf_obj[task][model] = Prf1T1M(csf_data[task][model], model)\n",
    "\n",
    "        prf_obj_list.append(Prf1T1M(csf_data[task][model], model, fixed_hrf=True))\n",
    "        prf_id_list.append(task)\n",
    "\n",
    "    prf_objs[sub] = prf_obj\n",
    "    all_prf_objs[sub] = PrfMulti(prf_obj_list, prf_id_list)"
   ]
  },
  {
   "cell_type": "code",
   "execution_count": null,
   "metadata": {},
   "outputs": [],
   "source": [
    "\n",
    "def mini_show_csf_param(param, min_rsq, bins):\n",
    "    for sub in sub_list:\n",
    "        plt.figure()\n",
    "        all_prf_objs[sub].rapid_hist(\n",
    "            f'CSFLE-{param}', label=f'LE-{param}', color=plot_cols['LE'], bins=bins,ax=plt.gca(),\n",
    "            th={'CSFLE-min-rsq':min_rsq})\n",
    "        all_prf_objs[sub].rapid_hist(\n",
    "            f'CSFRE-{param}', label=f'RE-{param}', color=plot_cols['RE'], bins=bins,ax=plt.gca(),\n",
    "            th={'CSFRE-min-rsq':min_rsq})\n",
    "        plt.title(sub)\n",
    "\n",
    "        plt.figure()\n",
    "        all_prf_objs[sub].rapid_p_corr(\n",
    "            f'CSFLE-{param}', f'CSFRE-{param}', ax=plt.gca(),do_line=True,do_id_line=True,\n",
    "            th={'CSFLE-min-rsq':min_rsq, 'CSFRE-min-rsq':min_rsq})\n",
    "        plt.title(sub)\n"
   ]
  },
  {
   "cell_type": "code",
   "execution_count": null,
   "metadata": {},
   "outputs": [],
   "source": [
    "min_rsq = .2\n",
    "bins = np.linspace(0,6,10)\n",
    "param = 'sf0'\n",
    "mini_show_csf_param(param, min_rsq, bins)"
   ]
  },
  {
   "cell_type": "code",
   "execution_count": null,
   "metadata": {},
   "outputs": [],
   "source": [
    "min_rsq = .1\n",
    "bins = np.linspace(0,6,20)\n",
    "param = 'width_r'\n",
    "mini_show_csf_param(param, min_rsq, bins)"
   ]
  },
  {
   "cell_type": "code",
   "execution_count": null,
   "metadata": {},
   "outputs": [],
   "source": [
    "# prf_obj['pRFLE']['gauss'].rapid_p_corr('ecc', 'size_1', th={'min-rsq':.1, 'max-ecc':5}, do_line=True)\n",
    "\n",
    "# plt.figure()\n",
    "# prf_obj['pRFRE']['gauss'].rapid_p_corr('ecc', 'size_1', th={'min-rsq':.1, 'max-ecc':5}, do_line=True)\n",
    "\n",
    "# plt.figure()\n",
    "\n",
    "all_prf_obj2.rapid_p_corr(\n",
    "    'pRFLE-ecc', 'pRFLE-size_1', do_line=True, do_scatter=False, line_label='LE',\n",
    "    th={'pRFLE-min-rsq':.1, 'pRFLE-max-ecc':5,})\n",
    "\n",
    "all_prf_obj2.rapid_p_corr(    \n",
    "    'pRFRE-ecc', 'pRFRE-size_1',ax=plt.gca(), do_line=True, do_scatter=False, line_col='b', line_label='RE',\n",
    "    th={'pRFRE-min-rsq':.1, 'pRFRE-max-ecc':5,})"
   ]
  },
  {
   "cell_type": "code",
   "execution_count": null,
   "metadata": {},
   "outputs": [],
   "source": [
    "# csf_tc_plotter(\n",
    "#     real_tc=real_tc['CSFLE'], \n",
    "#     pred_tc=pred_tc['CSFLE'], \n",
    "#     params=prf_obj['CSFLE']['csf'].prf_params_np, idx=[8,10])\n",
    "from amb_scripts.plot_csfv3 import *\n"
   ]
  },
  {
   "cell_type": "code",
   "execution_count": null,
   "metadata": {},
   "outputs": [],
   "source": [
    "amb_plotter = AmbPlotter(\n",
    "    sub=sub, \n",
    "    real_tc=real_tc['CSFLE'],\n",
    "    csf_params = csf_data['CSFLE']['csf'],\n",
    "    \n",
    "    )"
   ]
  },
  {
   "cell_type": "code",
   "execution_count": null,
   "metadata": {},
   "outputs": [],
   "source": [
    "amb_plotter.csf_tc_plot(idx=8, time_pt=None)"
   ]
  },
  {
   "cell_type": "code",
   "execution_count": null,
   "metadata": {},
   "outputs": [],
   "source": [
    "np.where(prf_obj['CSFLE']['csf'].prf_params_np[:,-1]>0.1)"
   ]
  },
  {
   "cell_type": "code",
   "execution_count": null,
   "metadata": {},
   "outputs": [],
   "source": [
    "# # # all_prf_obj.rapid_hist(ax=plt.gca(), px='pRFLE-hrf_deriv', alpha=0.5)\n",
    "# # # all_prf_obj.rapid_hist(ax=plt.gca(), px='pRFRE-hrf_deriv', alpha=0.5)\n",
    "# # all_prf_obj.rapid_hist(ax=plt.gca(), px='CSFRE-hrf_deriv', alpha=0.5)\n",
    "# # all_prf_obj.rapid_hist(ax=plt.gca(), px='CSFLE-hrf_deriv', alpha=0.5)\n",
    "\n",
    "# all_prf_obj.rapid_p_corr(\n",
    "#     'CSFLE-rsq',\n",
    "#     'CSFRE-rsq', \n",
    "#     th={'CSFLE-min-rsq':.1, 'CSFRE-min-rsq':.1}, \n",
    "#     do_line=True, line_col='r', dot_col='k', dot_alpha=.5)"
   ]
  },
  {
   "cell_type": "code",
   "execution_count": null,
   "metadata": {},
   "outputs": [],
   "source": [
    "# prf_dE = Prf1T1Mx2(prf_obj['pRFLE']['gauss'], prf_obj['pRFRE']['gauss'], id1='prfLE', id2='prfRE')\n",
    "# csf_dE = Prf1T1Mx2(prf_obj['CSFLE']['csf'], prf_obj['CSFRE']['csf'], id1='csfLE', id2='csfRE')\n",
    "# le_dT =  Prf1T1Mx2(prf_obj['pRFLE']['gauss'], prf_obj['CSFLE']['csf'], id1='prfLE', id2='csfLE')\n",
    "# re_dT =  Prf1T1Mx2(prf_obj['pRFRE']['gauss'], prf_obj['CSFRE']['csf'], id1='prfRE', id2='csfRE')"
   ]
  },
  {
   "cell_type": "code",
   "execution_count": null,
   "metadata": {},
   "outputs": [],
   "source": [
    "# # prf_dE.rapid_p_corr(\n",
    "# #     'prfLE-hrf_deriv',\n",
    "# #     'prfRE-hrf_deriv'\n",
    "# # )\n",
    "# # plt.figure()\n",
    "# # csf_dE.rapid_p_corr(\n",
    "# #     'csfLE-hrf_deriv',\n",
    "# #     'csfRE-hrf_deriv'\n",
    "# # )\n",
    "\n",
    "# # plt.figure()\n",
    "# # le_dT.rapid_p_corr(\n",
    "# #     'csfLE-hrf_deriv',\n",
    "# #     'prfLE-hrf_deriv'\n",
    "# # )\n",
    "\n",
    "# roi = amb_load_roi(sub, 'demo-5000000')\n",
    "# plt.figure()\n",
    "# re_dT.rapid_p_corr(\n",
    "#     'prfRE-hrf_deriv',\n",
    "#     'csfRE-hrf_deriv',\n",
    "#     th={'all-min-rsq':.3, 'roi':roi},\n",
    "# )"
   ]
  },
  {
   "cell_type": "code",
   "execution_count": null,
   "metadata": {},
   "outputs": [],
   "source": [
    "fs = FSMaker(sub, fs_dir)\n",
    "model = 'gauss'\n",
    "# POLAR \n",
    "for task in task_list:\n",
    "    # fs.add_surface(\n",
    "    #     data = prf_obj[task][model].pd_params['pol'],\n",
    "    #     surf_name = f'{sub}-{task}-{model}-pol',    \n",
    "    #     vmin = -np.pi, vmax=np.pi , # min and max values of polar anlge \n",
    "    #     data_mask=prf_obj[task][model].return_vx_mask({'min-rsq':.1}),\n",
    "    #     cmap = 'hsv_hsv', # using hsv for polar angle, can use something else...\n",
    "    # )\n",
    "    # POL CLOCK\n",
    "    clock_val = dag_pol_to_clock(prf_obj[task][model].pd_params['pol'])\n",
    "    fs.add_surface(\n",
    "        data = clock_val,\n",
    "        surf_name = f'{sub}-{task}-{model}-pol-clock',    \n",
    "        vmin = 0, vmax=12, # min and max values of polar anlge \n",
    "        data_mask=prf_obj[task][model].return_vx_mask({'min-rsq':.1}),\n",
    "        cmap = 'magma_viridis', # using hsv for polar angle, can use something else...\n",
    "        cmap_nsteps=20\n",
    "    )    \n",
    "# model = 'csf'\n",
    "# for task in ['CSFLE', 'CSFRE']:\n",
    "#     fs.add_surface(\n",
    "#         data = clock_val,\n",
    "#         surf_name = f'{sub}-{task}-{model}-pol-clock',    \n",
    "#         vmin = 0, vmax=12, # min and max values of polar anlge \n",
    "#         data_mask=prf_obj[task][model].return_vx_mask({'min-rsq':.1}),\n",
    "#         cmap = 'twilight', # using hsv for polar angle, can use something else...\n",
    "#         cmap_nsteps=20\n",
    "#     )        \n",
    "\n",
    "\n",
    "# # d_val\n",
    "# model = 'norm'\n",
    "# for task in task_list:\n",
    "#     fs.add_surface(\n",
    "#         data = prf_obj[task][model].pd_params['d_val'],\n",
    "#         surf_name = f'{sub}-{task}-{model}-d_val',    \n",
    "#         vmin = 0, vmax=100, # min and max values of polar anlge \n",
    "#         data_mask=prf_obj[task][model].return_vx_mask({'min-rsq':.1}),\n",
    "#         cmap = 'jet', # using hsv for polar angle, can use something else...\n",
    "#     )\n",
    "\n",
    "\n",
    "# # b_val\n",
    "# model = 'norm'\n",
    "# for task in task_list:\n",
    "#     fs.add_surface(\n",
    "#         data = prf_obj[task][model].pd_params['b_val'],\n",
    "#         surf_name = f'{sub}-{task}-{model}-b_val',    \n",
    "#         vmin = 0, vmax=100, # min and max values of polar anlge \n",
    "#         data_mask=prf_obj[task][model].return_vx_mask({'min-rsq':.1}),\n",
    "#         cmap = 'viridis', # using hsv for polar angle, can use something else...\n",
    "#     )\n",
    "\n",
    "\n",
    "# size_1\n",
    "# model = 'gauss'\n",
    "# for task in task_list:\n",
    "#     fs.add_surface(\n",
    "#         data = prf_obj[task][model].pd_params['size_1'],\n",
    "#         surf_name = f'{sub}-{task}-{model}-size_1',    \n",
    "#         vmin = 0, vmax=10, # min and max values of polar anlge \n",
    "#         data_mask=prf_obj[task][model].return_vx_mask({'min-rsq':.1}),\n",
    "#         cmap = 'ecc', # using hsv for polar angle, can use something else...\n",
    "#     )\n"
   ]
  },
  {
   "cell_type": "code",
   "execution_count": null,
   "metadata": {},
   "outputs": [],
   "source": [
    "fs.open_fs_surface(\n",
    "    fs.surf_list, \n",
    "    mesh='inflated', \n",
    "    # roi_list=['v1custom', 'v2custom', 'v3custom', 'LOcustom']\n",
    "    )"
   ]
  },
  {
   "cell_type": "code",
   "execution_count": null,
   "metadata": {},
   "outputs": [],
   "source": [
    "dag_stack_cmaps(['magma','viridis'])#, save_cmap=True)#, 'magma_r'])\n",
    "# a = dag_get_cmap('viridis_magmarev')\n",
    "\n",
    "# plt.imshow(\n",
    "#     np.linspace(0,1,1000)*np.ones((100,1000)),\n",
    "#     cmap=a, vmin=0, vmax=1)\n",
    "\n",
    "# dag_make_custom_cmap(\n",
    "#     ['green', 'green'], cmap_name='blah', save_cmap=True\n",
    "# )\n"
   ]
  },
  {
   "cell_type": "code",
   "execution_count": null,
   "metadata": {},
   "outputs": [],
   "source": [
    "# dag_get_cmap('blah')\n",
    "dag_stack_cmaps(['plasma_r'])"
   ]
  },
  {
   "attachments": {},
   "cell_type": "markdown",
   "metadata": {},
   "source": [
    "***"
   ]
  },
  {
   "cell_type": "code",
   "execution_count": null,
   "metadata": {},
   "outputs": [],
   "source": [
    "# LOAD AND SAVE #\n",
    "sub_list = [1,2,3,4,6]\n",
    "dAS = {}\n",
    "sAS = {}\n",
    "for i,v in enumerate(sub_list):\n",
    "    sub = f'sub-{v:02}'\n",
    "    dAS[sub] = {}\n",
    "    sAS[sub] = {}    \n",
    "    print(sub)\n",
    "    for task in ['AS1', 'AS2']:\n",
    "        dAS[sub][task] = ScotShiftPlot(sub=sub, task_list=['AS0', task], model='gauss', sim_or_data='data')\n",
    "        sAS[sub][task] = {}\n",
    "        for model in ['gauss', 'norm']:\n",
    "            sAS[sub][task][model] = ScotShiftPlot(sub=sub, task_list=['AS0', task], model=model, sim_or_data='sim')"
   ]
  },
  {
   "cell_type": "code",
   "execution_count": null,
   "metadata": {},
   "outputs": [],
   "source": [
    "# LOAD AND SAVE #\n",
    "sub_list = [1,2,3,4,6]\n",
    "\n",
    "for i,v in enumerate(sub_list):\n",
    "    sub = f'sub-{v:02}'\n",
    "    for task in ['AS1', 'AS2']:\n",
    "        plt.figure()\n",
    "        dAS[sub][task].\n",
    "        for model in ['gauss', 'norm']:"
   ]
  },
  {
   "cell_type": "code",
   "execution_count": null,
   "metadata": {},
   "outputs": [],
   "source": [
    "sub = 'sub-01'\n",
    "task_list = ['AS0', 'AS1']\n",
    "dAS2g = ScotShiftPlot(sub=sub, task_list=task_list, model='gauss', sim_or_data='data')\n",
    "sAS2g = ScotShiftPlot(sub=sub, task_list=task_list, model='gauss', sim_or_data='sim')\n",
    "sAS2n = ScotShiftPlot(sub=sub, task_list=task_list, model='norm', sim_or_data='sim')\n"
   ]
  },
  {
   "cell_type": "code",
   "execution_count": null,
   "metadata": {},
   "outputs": [],
   "source": [
    "\n",
    "sub_list = [1,2,3,4,6]\n",
    "sub_task_rsq_max = {}\n",
    "dAS = {}\n",
    "sAS = {}\n",
    "for i,v in enumerate(sub_list):\n",
    "    sub = f'sub-{v:02}'\n",
    "    print('sub')\n",
    "    sub_task_rsq_max[sub] = {}\n",
    "    for task in ['AS1', 'AS2']:\n",
    "        dASXg = ScotShiftPlot(sub=sub, task_list=['AS0', task], model='gauss', sim_or_data='data')\n",
    "        # sAS[task] = dASXg\n",
    "        sub_task_rsq_max[sub][task] = {}\n",
    "        for model in ['gauss', 'norm']:\n",
    "            sASXm = ScotShiftPlot(sub=sub, task_list=['AS0', task], model=model, sim_or_data='sim')\n",
    "\n",
    "            sub_task_rsq_max[sub][task][model] = []\n",
    "            for rsq_max in np.r_[.1:1:.01]:\n",
    "                vx_mask = dASXg.return_vx_mask({'all-min-rsq':.1, 'all-max-ecc':5})            \n",
    "                vx_mask&= sASXm.return_vx_mask({'all-bound-rsq':[.1,rsq_max], 'all-max-ecc':5})\n",
    "                if np.sum(vx_mask)<500:\n",
    "                    corr = np.NaN\n",
    "                else:\n",
    "                    corr = dag_get_corr(\n",
    "                        dASXg.pd_params['diff']['d2s_centre'][vx_mask],\n",
    "                        sASXm.pd_params['diff']['d2s_centre'][vx_mask])\n",
    "                sub_task_rsq_max[sub][task][model].append(corr)"
   ]
  },
  {
   "cell_type": "code",
   "execution_count": null,
   "metadata": {},
   "outputs": [],
   "source": [
    "sub_list = [1,2,3,4,6]\n",
    "AS_m = {'AS1':'+', 'AS2':'^'}\n",
    "m_col = {'gauss':'g', 'norm':'r'}\n",
    "\n",
    "for i,v in enumerate(sub_list):\n",
    "    plt.figure()\n",
    "    sub = f'sub-{v:02}'\n",
    "    for task in ['AS1', 'AS2']:\n",
    "        for model in ['gauss', 'norm']:\n",
    "            plt.plot(sub_task_rsq_max[sub][task][model],f'-{AS_m[task]}{m_col[model]}', label=f'{task}-{model}')\n",
    "    plt.legend()\n"
   ]
  },
  {
   "cell_type": "code",
   "execution_count": null,
   "metadata": {},
   "outputs": [],
   "source": [
    "i_corr = []\n",
    "for i in np.r_[.2:1:.01]:\n",
    "    vx_mask = dAS2g.return_vx_mask(th={'all-min-rsq':.1,'all-max-ecc':5})\n",
    "    vx_mask&= sAS2n.return_vx_mask(th={'all-bound-rsq':[.1,i], 'all-max-ecc':5})\n",
    "    corr = dag_get_corr(\n",
    "        dAS2g.pd_params['diff']['d2s_centre'][vx_mask],\n",
    "        sAS2n.pd_params['diff']['d2s_centre'][vx_mask])\n",
    "    i_corr.append(corr)\n",
    "    # print(f'For {vx_mask.sum()} vx, & max rsq={i:.2f}, corr={corr:.3f}')"
   ]
  },
  {
   "cell_type": "code",
   "execution_count": null,
   "metadata": {},
   "outputs": [],
   "source": [
    "plt.plot(i_corr)\n",
    "plt.plot()"
   ]
  },
  {
   "cell_type": "code",
   "execution_count": null,
   "metadata": {},
   "outputs": [],
   "source": [
    "sim_prf_obj = ScotShiftPlot(                                                         \n",
    "    sub='sub-01',task_list=['AS0', 'AS1'],model='norm',\n",
    "    sim_or_data='sim')  "
   ]
  },
  {
   "cell_type": "code",
   "execution_count": null,
   "metadata": {},
   "outputs": [],
   "source": [
    "# Check the correlations: \n",
    "rsq_th = 0.1\n",
    "ecc_th = 5\n",
    "d2_corr = {\n",
    "    'gauss' : np.zeros((6,2)), \n",
    "    'norm' : np.zeros((6,2)),\n",
    "}\n",
    "D_d2s_change = {}\n",
    "S_d2s_change = {}\n",
    "sub_list = [1,2,3,4,6]\n",
    "for i,v in enumerate(sub_list):\n",
    "    print('')\n",
    "    sub = f'sub-{v:02}'\n",
    "    D_d2s_change[sub] = {}\n",
    "    for i_t,task in enumerate(['AS1', 'AS2']):\n",
    "        D_d2s_change[sub][task] = {}\n",
    "        S_d2s_change[sub][task] = {}\n",
    "        for model in ['gauss', 'norm']:\n",
    "            data_prf_obj = ScotShiftPlot( # ALWAYS GAUSS                                                        \n",
    "                sub=sub,task_list=['AS0', task], model='gauss',\n",
    "                sim_or_data='data')\n",
    "            sim_prf_obj = ScotShiftPlot(                                                         \n",
    "                sub=sub,task_list=['AS0', task],model=model,\n",
    "                sim_or_data='sim')\n",
    "            D_d2s_change[sub][task] = {}\n",
    "            S_d2s_change[sub][task] = {}            \n",
    "            this_vx_mask = sim_prf_obj.return_vx_mask({'all-min-rsq':rsq_th, 'all-max-ecc':ecc_th})\n",
    "            this_vx_mask &= data_prf_obj.return_vx_mask({'all-min-rsq':rsq_th, 'all-max-ecc':ecc_th})                                   \n",
    "            \n",
    "            this_corr = np.corrcoef(\n",
    "                data_prf_obj.pd_params['diff']['d2s_centre'][this_vx_mask],\n",
    "                sim_prf_obj.pd_params['diff']['d2s_centre'][this_vx_mask],\n",
    "            )[0,-1]\n",
    "            d2_corr[model][i,i_t] = this_corr\n",
    "            print(f'{sub}-{task}-{model: >5}: corr={this_corr:.3f}')"
   ]
  },
  {
   "cell_type": "code",
   "execution_count": null,
   "metadata": {},
   "outputs": [],
   "source": [
    "# Check the correlations: \n",
    "rsq_th = 0.1\n",
    "ecc_th = 5\n",
    "d2_corr = {\n",
    "    'gauss' : np.zeros((6,2)), \n",
    "    'norm' : np.zeros((6,2)),\n",
    "}\n",
    "D_d2s_change = {}\n",
    "S_d2s_change = {}\n",
    "sub_list = [1,2,3,4,6]\n",
    "for i,v in enumerate(sub_list):\n",
    "    print('')\n",
    "    sub = f'sub-{v:02}'\n",
    "    D_d2s_change[sub] = {}\n",
    "    for i_t,task in enumerate(['AS1', 'AS2']):\n",
    "        D_d2s_change[sub][task] = {}\n",
    "        S_d2s_change[sub][task] = {}\n",
    "        for model in ['gauss', 'norm']:\n",
    "            data_prf_obj = ScotShiftPlot( # ALWAYS GAUSS                                                        \n",
    "                sub=sub,task_list=['AS0', task], model='gauss',\n",
    "                sim_or_data='data')\n",
    "            sim_prf_obj = ScotShiftPlot(                                                         \n",
    "                sub=sub,task_list=['AS0', task],model=model,\n",
    "                sim_or_data='sim')\n",
    "            D_d2s_change[sub][task] = {}\n",
    "            S_d2s_change[sub][task] = {}            \n",
    "            this_vx_mask = sim_prf_obj.return_vx_mask({'all-min-rsq':rsq_th, 'all-max-ecc':ecc_th})\n",
    "            this_vx_mask &= data_prf_obj.return_vx_mask({'all-min-rsq':rsq_th, 'all-max-ecc':ecc_th})                                   \n",
    "            \n",
    "            this_corr = np.corrcoef(\n",
    "                data_prf_obj.pd_params['diff']['d2s_centre'][this_vx_mask],\n",
    "                sim_prf_obj.pd_params['diff']['d2s_centre'][this_vx_mask],\n",
    "            )[0,-1]\n",
    "            d2_corr[model][i,i_t] = this_corr\n",
    "            print(f'{sub}-{task}-{model: >5}: corr={this_corr:.3f}')"
   ]
  },
  {
   "cell_type": "code",
   "execution_count": null,
   "metadata": {},
   "outputs": [],
   "source": [
    "sub = 'sub-01'\n",
    "G0_d = ScotPrf1T1M(sub=sub, task='AS0', model='gauss', sim_or_data='data')\n",
    "G1_d = ScotPrf1T1M(sub=sub, task='AS1', model='gauss', sim_or_data='data')\n",
    "# G2_d = ScotPrf1T1M(sub=sub, task='AS2', model='gauss', sim_or_data='data')\n",
    "# N0_d = ScotPrf1T1M(sub=sub, task='AS0', model='norm' , sim_or_data='data')\n",
    "# N1_d = ScotPrf1T1M(sub=sub, task='AS1', model='norm' , sim_or_data='data')\n",
    "# N2_d = ScotPrf1T1M(sub=sub, task='AS2', model='norm' , sim_or_data='data')\n"
   ]
  },
  {
   "cell_type": "code",
   "execution_count": null,
   "metadata": {},
   "outputs": [],
   "source": [
    "G2_d = ScotPrf1T1M(sub=sub, task='AS2', model='gauss', sim_or_data='data')"
   ]
  },
  {
   "cell_type": "code",
   "execution_count": null,
   "metadata": {},
   "outputs": [],
   "source": [
    "\n",
    "G0_s = ScotPrf1T1M(sub=sub, task='AS0', model='gauss', sim_or_data='sim')\n",
    "G1_s = ScotPrf1T1M(sub=sub, task='AS1', model='gauss', sim_or_data='sim')\n",
    "# G2_s = ScotPrf1T1M(sub=sub, task='AS2', model='gauss', sim_or_data='sim')\n",
    "# N0_s = ScotPrf1T1M(sub=sub, task='AS0', model='norm' , sim_or_data='sim')\n",
    "N1_s = ScotPrf1T1M(sub=sub, task='AS1', model='norm' , sim_or_data='sim')\n",
    "N2_s = ScotPrf1T1M(sub=sub, task='AS2', model='norm' , sim_or_data='sim')\n"
   ]
  },
  {
   "cell_type": "code",
   "execution_count": null,
   "metadata": {},
   "outputs": [],
   "source": [
    "N0_s = ScotPrf1T1M(sub=sub, task='AS0', model='norm' , sim_or_data='sim')"
   ]
  },
  {
   "cell_type": "code",
   "execution_count": null,
   "metadata": {},
   "outputs": [],
   "source": [
    "G0_d.rapid_hist('rsq')\n",
    "G1_d.rapid_hist(ax=plt.gca(), param='rsq', alpha=0.5)"
   ]
  },
  {
   "cell_type": "code",
   "execution_count": null,
   "metadata": {},
   "outputs": [],
   "source": [
    "G0_s.rapid_hist('rsq')\n",
    "G1_s.rapid_hist(ax=plt.gca(), param='rsq', alpha=0.5)\n",
    "N0_s.rapid_hist(ax=plt.gca(), param='rsq', alpha=0.5)\n",
    "N1_s.rapid_hist(ax=plt.gca(), param='rsq', alpha=0.5)"
   ]
  },
  {
   "cell_type": "code",
   "execution_count": null,
   "metadata": {},
   "outputs": [],
   "source": [
    "G1s_comp = Prf1T1Mx2(G0_s, G1_s, id1='G0_s', id2='G1_s')\n",
    "N1s_comp = Prf1T1Mx2(N0_s, N1_s, id1='N0_s', id2='N1_s')\n",
    "G1d_comp = Prf1T1Mx2(G0_d, G1_d, id1='G0_d', id2='G1_d')\n"
   ]
  },
  {
   "cell_type": "code",
   "execution_count": null,
   "metadata": {},
   "outputs": [],
   "source": [
    "G1_s.rapid_scatter({'bound-rsq':[.3,.5]})"
   ]
  },
  {
   "cell_type": "code",
   "execution_count": null,
   "metadata": {},
   "outputs": [],
   "source": [
    "G1s_comp.rapid_p_corr()"
   ]
  },
  {
   "cell_type": "code",
   "execution_count": null,
   "metadata": {},
   "outputs": [],
   "source": [
    "comp = Prf1T1Mx2(\n",
    "    N0_s, N1_s, id1='N0_s', id2='N1_s',\n",
    ")\n",
    "comp.rapid_p_corr('N0_s-ecc', 'N1_s-ecc')"
   ]
  },
  {
   "cell_type": "code",
   "execution_count": null,
   "metadata": {},
   "outputs": [],
   "source": [
    "comp = Prf1T1Mx2(\n",
    "    G0_d, G1_d, id1='G0_d', id2='G1_d',\n",
    ")\n",
    "comp.rapid_p_corr('G0_d-ecc', 'G1_d-ecc')"
   ]
  },
  {
   "cell_type": "code",
   "execution_count": null,
   "metadata": {},
   "outputs": [],
   "source": [
    "vx_mask = "
   ]
  },
  {
   "cell_type": "code",
   "execution_count": null,
   "metadata": {},
   "outputs": [],
   "source": [
    "P_model_dict = {\n",
    "\n",
    "    'G0_d': G0_d,\n",
    "    'G1_d': G1_d,\n",
    "    'G2_d': G2_d,\n",
    "    'N0_d': N0_d,\n",
    "    'N1_d': N1_d,\n",
    "    'N2_d': N2_d,\n",
    "    #\n",
    "    'G0_s': G0_s,\n",
    "    'G1_s': G1_s,\n",
    "    'G2_s': G2_s,\n",
    "    'N0_s': N0_s,\n",
    "    'N1_s': N1_s,\n",
    "    'N2_s': N2_s,    \n",
    "}"
   ]
  },
  {
   "cell_type": "code",
   "execution_count": null,
   "metadata": {},
   "outputs": [],
   "source": [
    "roi_mask = get_roi(sub, 'V1_exvivo')\n",
    "s_id1 = 'N0_s'\n",
    "s_id2 = 'N2_s'\n",
    "d_id1 = 'G0_d'\n",
    "d_id2 = 'G2_d'\n",
    "\n",
    "\n",
    "\n",
    "fig,axs = plt.subplots(1)\n",
    "fig.set_size_inches(10,10)\n",
    "sim2 = Prf1T1Mx2(\n",
    "    P_model_dict[s_id1],\n",
    "    P_model_dict[s_id2],\n",
    "    id1=s_id1, id2=s_id2)\n",
    "\n",
    "sim2.rapid_arrow(th={'all-min-rsq':.1, 'roi':roi_mask, 'all-max-ecc':5}, arrow_col='angle')\n",
    "\n",
    "\n",
    "\n",
    "fig,axs = plt.subplots(1)\n",
    "fig.set_size_inches(10,10)\n",
    "data2 = Prf1T1Mx2(\n",
    "    P_model_dict[d_id1],\n",
    "    P_model_dict[d_id2],\n",
    "    id1=d_id1, id2=d_id2)\n",
    "data2.rapid_arrow(th={'all-min-rsq':.1, 'roi':roi_mask, 'all-max-ecc':5}, arrow_col='angle')\n"
   ]
  },
  {
   "cell_type": "code",
   "execution_count": null,
   "metadata": {},
   "outputs": [],
   "source": [
    "sub = 'sub-01'\n",
    "task_list = ['AS0', 'AS1', 'AS2']\n",
    "model_list = ['gauss', 'norm']\n",
    "data_tc = load_data_tc(sub=sub, task_list=task_list)\n",
    "d_pred_tc = load_data_prf(sub=sub, task_list=task_list, model_list=model_list, var_to_load='preds')\n",
    "sim_tc = load_sim_tc(sub=sub, task_list=task_list, model_list=model_list)\n",
    "s_pred_tc = load_sim_prf(sub=sub, task_list=task_list, model_list=model_list, var_to_load='preds')"
   ]
  },
  {
   "cell_type": "code",
   "execution_count": null,
   "metadata": {},
   "outputs": [],
   "source": [
    "sim_tc = load_sim_tc(sub=sub, task_list=task_list, model_list=model_list)"
   ]
  },
  {
   "cell_type": "code",
   "execution_count": null,
   "metadata": {},
   "outputs": [],
   "source": [
    "fig,ax = plt.subplots(1)\n",
    "fig.set_size_inches(5,11)\n"
   ]
  },
  {
   "cell_type": "code",
   "execution_count": null,
   "metadata": {},
   "outputs": [],
   "source": [
    "# Test whether subject stuff has been done: \n",
    "# -> [1] check for PSC \n",
    "# -> [2] check for \n",
    "source_data_dir = os.getenv(\"DIR_DATA_SOURCE\")\n",
    "derivatives_dir = os.getenv(\"DIR_DATA_DERIV\")\n",
    "default_prf_dir = opj(derivatives_dir, 'prf')\n",
    "default_prf_xpred_dir = opj(derivatives_dir, 'prf_xpred')\n",
    "default_ses = 'ses-1'\n",
    "from dag_prf_utils.utils import *\n",
    "def s0_checker(s, sub, **kwargs):\n",
    "    roi_fit = kwargs.get('roi_fit', 'all')\n",
    "    fit_stage = kwargs.get('fit_stage', 'iter')\n",
    "    task = kwargs.get('task', '')\n",
    "    model = kwargs.get('model', '')\n",
    "    this_prf_dir = opj(default_prf_dir, sub, default_ses)\n",
    "    this_xpred_dir = opj(default_prf_xpred_dir, sub, default_ses)\n",
    "    if s=='s1':\n",
    "        this_path = dag_find_file_in_folder(\n",
    "            [sub, hyphen_parse('task', task), 'hemi-LR', 'desc-avg_bold', '.npy'], \n",
    "            this_prf_dir, return_msg=None)    \n",
    "    elif 's2' in s:\n",
    "        this_path = dag_find_file_in_folder(\n",
    "            [sub, hyphen_parse('task', task), 'gauss', roi_fit, fit_stage, '.pkl'], \n",
    "            this_prf_dir, return_msg=None,)\n",
    "    elif s=='s3':\n",
    "        this_path = dag_find_file_in_folder(\n",
    "            [sub, hyphen_parse('task', task), 'norm', roi_fit, fit_stage, '.pkl'], \n",
    "            this_prf_dir, return_msg=None)    \n",
    "    elif s=='s4':\n",
    "        this_path = dag_find_file_in_folder(\n",
    "            [sub, hyphen_parse('task', task), model, roi_fit, '.npy'], \n",
    "            this_xpred_dir, return_msg=None)    \n",
    "    elif s=='s5':\n",
    "        this_path = dag_find_file_in_folder(\n",
    "            [sub, hyphen_parse('task', task), model, roi_fit, fit_stage, '.pkl'], \n",
    "            this_xpred_dir, return_msg=None)        \n",
    "    if this_path is None:\n",
    "        print(f'{s}, {sub}, {task}, {model}, NOT FOUND')\n",
    "        sN_done = False\n",
    "    else:\n",
    "        sN_done = True\n",
    "    \n",
    "    return sN_done\n",
    "\n",
    "        \n",
    "            \n",
    "for i in np.arange(1, 7):\n",
    "    if i==5:\n",
    "        continue\n",
    "    sub = f'sub-{i:02}'\n",
    "    for task in ['AS0', 'AS1', 'AS2']:\n",
    "        s0_checker('s2', sub, task=task, )#model='gauss')\n",
    "        s0_checker('s3', sub, task=task, )#model='gauss')\n",
    "        # s0_checker('s4', sub, task=task, model='gauss')\n",
    "        # s0_checker('s4', sub, task=task, model='norm')\n",
    "\n",
    "        s0_checker('s5', sub, task=task, model='norm')\n",
    "        s0_checker('s5', sub, task=task, model='gauss')\n",
    "        # s0_checker('s2b', sub, task=task, )#model='gauss')"
   ]
  },
  {
   "cell_type": "code",
   "execution_count": null,
   "metadata": {},
   "outputs": [],
   "source": [
    "for i in np.arange(1, 7):\n",
    "    sub = f'sub-{i:02}'\n",
    "    for task in ['AS0', 'AS1', 'AS2']:\n",
    "        for model in ['gauss', 'norm']:\n",
    "            try:\n",
    "                ScotPrf1T1M(sub, task, model, sim_or_data='sim')\n",
    "                print(f'{sub}, {task}, {model}')\n",
    "            except:\n",
    "                continue\n"
   ]
  },
  {
   "cell_type": "code",
   "execution_count": null,
   "metadata": {},
   "outputs": [],
   "source": [
    "fs_dir = '/data1/projects/dumoulinlab/Lab_members/Marcus/projects/pilot1/derivatives/freesurfer'\n",
    "from dag_prf_utils.mesh_maker import FSMaker\n",
    "from dag_prf_utils.blender_tools import BlendMaker\n",
    "\n"
   ]
  },
  {
   "cell_type": "code",
   "execution_count": null,
   "metadata": {},
   "outputs": [],
   "source": [
    "sub = 'sub-01'\n",
    "prf_obj = ScotPrf1T1M(sub=sub, task='AS0', model='gauss')\n",
    "fs = FSMaker(sub, fs_dir)\n"
   ]
  },
  {
   "cell_type": "code",
   "execution_count": null,
   "metadata": {},
   "outputs": [],
   "source": [
    "sub = 'sub-01'\n",
    "prf_obj = ScotPrf1T1M(sub=sub, task='AS0', model='gauss')\n",
    "fs = FSMaker(sub, fs_dir)\n",
    "\n",
    "fs.add_surface(\n",
    "    data = prf_obj.pd_params['pol'],\n",
    "    surf_name = f'{sub}-as0-gauss-pol',    \n",
    "    vmin = -np.pi, vmax=np.pi , # min and max values of polar anlge \n",
    "    data_mask=prf_obj.return_vx_mask({'min-rsq':.1}),\n",
    "    cmap = 'pol', # using hsv for polar angle, can use something else...\n",
    ")\n",
    "fs.open_fs_surface(f'{sub}-as0-gauss-ecc')"
   ]
  },
  {
   "cell_type": "code",
   "execution_count": null,
   "metadata": {},
   "outputs": [],
   "source": [
    "fs.add_surface(\n",
    "    data = prf_obj.pd_params['ecc'],\n",
    "    surf_name = f'{sub}-as0-gauss-ecc',    \n",
    "    vmin = 0, vmax=5 , # min and max values of polar anlge \n",
    "    data_mask=prf_obj.return_vx_mask({'min-rsq':.1}),\n",
    "    cmap = 'ecc', \n",
    ")\n",
    "fs.open_fs_surface(f'{sub}-as0-gauss-ecc')"
   ]
  },
  {
   "cell_type": "code",
   "execution_count": null,
   "metadata": {},
   "outputs": [],
   "source": []
  },
  {
   "cell_type": "code",
   "execution_count": null,
   "metadata": {},
   "outputs": [],
   "source": [
    "\n",
    "# fs_dir = '/data1/projects/dumoulinlab/Lab_members/Marcus/projects/pilot1/derivatives/freesurfer'\n",
    "# mesh_dir = '/data1/projects/dumoulinlab/Lab_members/Marcus/projects/pilot1/derivatives/mesh_dir/'\n",
    "\n",
    "# model = 'gauss'\n",
    "# sub_list = ['sub-01', 'sub-02', 'sub-03', 'sub-04', 'sub-06']\n",
    "# task_list = ['AS0', 'AS1', 'AS2']\n",
    "# for sub in sub_list:\n",
    "#     out_dir = opj(mesh_dir, f'{sub}')\n",
    "#     bm = BlendMaker(sub=sub, fs_dir=fs_dir,out_dir=out_dir, ow=True)\n",
    "#     pred_tc = load_sim_tc(sub=sub, task_list=task_list, model_list=model)\n",
    "#     notpsc_tc = load_data_not_psc(sub=sub, task_list=task_list, )\n",
    "#     for task in task_list:\n",
    "#         prf_obj = ScotPrf1T1M(sub=sub, task=task, model='gauss')\n",
    "#         this_data_mask = prf_obj.return_vx_mask({'min-rsq':.1, 'max-ecc':5})\n",
    "#         bm.add_cmap(\n",
    "#             data=prf_obj.pd_params['ecc'], \n",
    "#             surf_name=f'G-{task}-ecc', \n",
    "#             vmin=0, vmax=5, \n",
    "#             cmap='ecc', data_mask=this_data_mask, )#ow=True)\n",
    "\n",
    "#         bm.add_cmap(\n",
    "#             data=prf_obj.pd_params['pol'], \n",
    "#             surf_name=f'G-{task}-pol', \n",
    "#             vmin=-np.pi, vmax=np.pi, \n",
    "#             cmap='pol', data_mask=this_data_mask,)# ow=True)\n",
    "\n",
    "#         bm.add_cmap(\n",
    "#             data=prf_obj.pd_params['rsq'], \n",
    "#             surf_name=f'G-{task}-rsq', \n",
    "#             vmin=0, vmax=1, \n",
    "#             cmap='cool', data_mask=this_data_mask,)# ow=True)\n",
    "\n",
    "#         # amp\n",
    "#         bm.add_cmap(\n",
    "#             data=np.median(pred_tc[task][model], axis=-1),\n",
    "#             surf_name=f'G-{task}-data-amp', \n",
    "#             cmap='cool', data_mask=this_data_mask,)# ow=True)        \n",
    "        \n",
    "#         bm.add_cmap(\n",
    "#             data=np.max(notpsc_tc[task], axis=-1),\n",
    "#             surf_name=f'G-{task}-data-max', \n",
    "#             cmap='cool',)# ow=True)                \n",
    "#     bm.launch_blender(load_all_surf=True, save_blender=True, close_blender=True)"
   ]
  },
  {
   "cell_type": "code",
   "execution_count": null,
   "metadata": {},
   "outputs": [],
   "source": [
    "bm.launch_blender(hemi_list='lh', mesh_list='inflated', surf_list='G-AS0-data-amp', save_blender=False, close_blender=False)"
   ]
  },
  {
   "cell_type": "code",
   "execution_count": null,
   "metadata": {},
   "outputs": [],
   "source": [
    "    bm.add_cmap(data=g_prf_obj.pd_params['pol'], surf_name=f'G-{task}-pol', vmin=-3.14, vmax=3.14, cmap='hsv', data_mask=this_data_mask)\n",
    "    bm.add_cmap(data=g_prf_obj.pd_params['rsq'], surf_name=f'G-{task}-rsq', vmin=0, vmax=1, cmap='cool', data_mask=this_data_mask)\n",
    "    "
   ]
  },
  {
   "cell_type": "code",
   "execution_count": null,
   "metadata": {},
   "outputs": [],
   "source": [
    "bm.launch_blender()"
   ]
  },
  {
   "cell_type": "code",
   "execution_count": null,
   "metadata": {},
   "outputs": [],
   "source": [
    "\n",
    "prf_obj = Prf1T1M(g_prf, 'gauss', fixed_hrf=True)\n",
    "# Add polar angle plot\n",
    "fs.add_surface(\n",
    "    data = g_prf.pd_params['pol'],\n",
    "    surf_name = f'{sub}-as0-gauss-pol',    \n",
    "    vmin = -np.pi, vmax=np.pi , # min and max values of polar anlge \n",
    "    data_mask=g_prf.return_vx_mask({'min-rsq':.1}),\n",
    "    cmap = 'hsv', # using hsv for polar angle, can use something else...\n",
    "\n",
    ")\n",
    "\n",
    "# Add eccentricity\n",
    "fs.add_surface(\n",
    "    data = g_prf.pd_params['ecc'],\n",
    "    surf_name = f'{sub}-as0-gauss-ecc',   \n",
    "    vmin = 0, vmax = 5, # min and max values of eccentricity\n",
    "    data_mask=g_prf.return_vx_mask({'min-rsq':.1, 'max-ecc':8}),\n",
    "    cmap = 'jet', # using jet for polar angle, can use something else...\n",
    ")"
   ]
  },
  {
   "cell_type": "code",
   "execution_count": null,
   "metadata": {},
   "outputs": [],
   "source": [
    "# Now we can open one of the surfaces in freeview\n",
    "fs.open_fs_surface(\n",
    "    surf_name=f'{sub}-as0-gauss-pol',\n",
    "    mesh = 'inflated',          # what type of surface? inflated? pial?\n",
    "    )"
   ]
  },
  {
   "cell_type": "code",
   "execution_count": null,
   "metadata": {},
   "outputs": [],
   "source": [
    "from dag_prf_utils.mesh_maker import *\n"
   ]
  },
  {
   "cell_type": "code",
   "execution_count": null,
   "metadata": {},
   "outputs": [],
   "source": [
    "load_data_tc(sub=sub, task_list='AS0', roi_fit='demo' )['AS0'].shape"
   ]
  },
  {
   "cell_type": "code",
   "execution_count": null,
   "metadata": {},
   "outputs": [],
   "source": []
  },
  {
   "cell_type": "code",
   "execution_count": null,
   "metadata": {},
   "outputs": [],
   "source": [
    "sub = 'sub-06'\n",
    "task_list = ['AS0', 'AS1', 'AS2']\n",
    "model_list = ['gauss', 'norm']\n",
    "data_tc = load_data_tc(sub=sub, task_list=task_list)\n",
    "prf_data = load_data_prf(sub=sub, task_list=task_list, model_list=model_list, roi_fit='demo')\n",
    "sim_tc = load_sim_tc(sub=sub, task_list=task_list, model_list=model_list, roi_fit='demo')\n",
    "prf_sim = load_sim_prf(sub=sub, task_list=task_list, model_list=model_list, roi_fit='demo')"
   ]
  }
 ],
 "metadata": {
  "kernelspec": {
   "display_name": "ls_dag",
   "language": "python",
   "name": "python3"
  },
  "language_info": {
   "codemirror_mode": {
    "name": "ipython",
    "version": 3
   },
   "file_extension": ".py",
   "mimetype": "text/x-python",
   "name": "python",
   "nbconvert_exporter": "python",
   "pygments_lexer": "ipython3",
   "version": "3.9.10"
  },
  "orig_nbformat": 4
 },
 "nbformat": 4,
 "nbformat_minor": 2
}
