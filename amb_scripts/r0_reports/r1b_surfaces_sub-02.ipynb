{
 "cells": [
  {
   "cell_type": "code",
   "execution_count": 34,
   "metadata": {},
   "outputs": [
    {
     "name": "stdout",
     "output_type": "stream",
     "text": [
      "The autoreload extension is already loaded. To reload it, use:\n",
      "  %reload_ext autoreload\n"
     ]
    }
   ],
   "source": [
    "%load_ext autoreload\n",
    "%autoreload 2\n",
    "\n",
    "import numpy as np\n",
    "import matplotlib as mpl\n",
    "import matplotlib.pyplot as plt\n",
    "import seaborn as sns\n",
    "\n",
    "from amb_scripts.load_saved_info import *\n",
    "from amb_scripts.plot_csfv3 import *\n",
    "\n",
    "from dag_prf_utils.prfpy_functions import *\n",
    "from dag_prf_utils.plot_functions import *\n",
    "from dag_prf_utils.utils import *\n",
    "from dag_prf_utils.mesh_maker import *\n",
    "from dag_prf_utils.blender_tools import *\n",
    "plot_cols = get_plot_cols()\n",
    "\n",
    "fs_dir = '/data1/projects/dumoulinlab/Lab_members/Marcus/projects/amblyopia_emc/derivatives/freesurfer'"
   ]
  },
  {
   "attachments": {},
   "cell_type": "markdown",
   "metadata": {},
   "source": [
    "# LOAD PRF MULTI OBJECTS"
   ]
  },
  {
   "cell_type": "code",
   "execution_count": 35,
   "metadata": {},
   "outputs": [
    {
     "ename": "KeyboardInterrupt",
     "evalue": "",
     "output_type": "error",
     "traceback": [
      "\u001b[0;31m---------------------------------------------------------------------------\u001b[0m",
      "\u001b[0;31mKeyboardInterrupt\u001b[0m                         Traceback (most recent call last)",
      "Cell \u001b[0;32mIn[35], line 18\u001b[0m\n\u001b[1;32m     15\u001b[0m \u001b[39melse\u001b[39;00m:\n\u001b[1;32m     16\u001b[0m     task \u001b[39m=\u001b[39m \u001b[39mf\u001b[39m\u001b[39m'\u001b[39m\u001b[39mpRF\u001b[39m\u001b[39m{\u001b[39;00meye\u001b[39m}\u001b[39;00m\u001b[39mE\u001b[39m\u001b[39m'\u001b[39m\n\u001b[0;32m---> 18\u001b[0m this_prf_data \u001b[39m=\u001b[39m amb_load_prf_params(\n\u001b[1;32m     19\u001b[0m     sub\u001b[39m=\u001b[39;49msub,\n\u001b[1;32m     20\u001b[0m     task_list\u001b[39m=\u001b[39;49mtask,\n\u001b[1;32m     21\u001b[0m     model_list\u001b[39m=\u001b[39;49mmodel,\n\u001b[1;32m     22\u001b[0m     roi_fit\u001b[39m=\u001b[39;49mroi_fit, \n\u001b[1;32m     23\u001b[0m     fit_stage\u001b[39m=\u001b[39;49mfit_stage,\n\u001b[1;32m     24\u001b[0m     ses\u001b[39m=\u001b[39;49mses\n\u001b[1;32m     25\u001b[0m )[task][model]\n\u001b[1;32m     27\u001b[0m prf_obj_list\u001b[39m.\u001b[39mappend(Prf1T1M(this_prf_data, model))\n\u001b[1;32m     28\u001b[0m prf_id_list\u001b[39m.\u001b[39mappend(\u001b[39mf\u001b[39m\u001b[39m'\u001b[39m\u001b[39m{\u001b[39;00meye\u001b[39m}\u001b[39;00m\u001b[39m_\u001b[39m\u001b[39m{\u001b[39;00mi_ses\u001b[39m+\u001b[39m\u001b[39m1\u001b[39m\u001b[39m}\u001b[39;00m\u001b[39m_\u001b[39m\u001b[39m{\u001b[39;00mmodel\u001b[39m}\u001b[39;00m\u001b[39m'\u001b[39m)   \n",
      "File \u001b[0;32m/data1/projects/dumoulinlab/Lab_members/Marcus/projects/amblyopia_emc/code/amb_code/amb_scripts/load_saved_info.py:44\u001b[0m, in \u001b[0;36mamb_load_prf_params\u001b[0;34m(sub, task_list, model_list, ses, **kwargs)\u001b[0m\n\u001b[1;32m     43\u001b[0m \u001b[39mdef\u001b[39;00m \u001b[39mamb_load_prf_params\u001b[39m(sub, task_list, model_list, ses, \u001b[39m*\u001b[39m\u001b[39m*\u001b[39mkwargs):\n\u001b[0;32m---> 44\u001b[0m     prf_params \u001b[39m=\u001b[39m amb_load_pkl_key(\n\u001b[1;32m     45\u001b[0m         sub\u001b[39m=\u001b[39;49msub, task_list\u001b[39m=\u001b[39;49mtask_list, model_list\u001b[39m=\u001b[39;49mmodel_list, ses\u001b[39m=\u001b[39;49mses, key\u001b[39m=\u001b[39;49m\u001b[39m'\u001b[39;49m\u001b[39mpars\u001b[39;49m\u001b[39m'\u001b[39;49m, \u001b[39m*\u001b[39;49m\u001b[39m*\u001b[39;49mkwargs)\n\u001b[1;32m     46\u001b[0m     \u001b[39mreturn\u001b[39;00m prf_params\n",
      "File \u001b[0;32m/data1/projects/dumoulinlab/Lab_members/Marcus/projects/amblyopia_emc/code/amb_code/amb_scripts/load_saved_info.py:66\u001b[0m, in \u001b[0;36mamb_load_pkl_key\u001b[0;34m(sub, task_list, model_list, ses, key, **kwargs)\u001b[0m\n\u001b[1;32m     64\u001b[0m     prf_dict[task] \u001b[39m=\u001b[39m {}\n\u001b[1;32m     65\u001b[0m     \u001b[39mfor\u001b[39;00m model \u001b[39min\u001b[39;00m model_list:\n\u001b[0;32m---> 66\u001b[0m         this_pkl \u001b[39m=\u001b[39m amb_load_pkl(sub\u001b[39m=\u001b[39;49msub, task\u001b[39m=\u001b[39;49mtask, model\u001b[39m=\u001b[39;49mmodel, ses\u001b[39m=\u001b[39;49mses, \u001b[39m*\u001b[39;49m\u001b[39m*\u001b[39;49mkwargs)\n\u001b[1;32m     67\u001b[0m         prf_dict[task][model] \u001b[39m=\u001b[39m this_pkl[key]\n\u001b[1;32m     68\u001b[0m \u001b[39mreturn\u001b[39;00m prf_dict\n",
      "File \u001b[0;32m/data1/projects/dumoulinlab/Lab_members/Marcus/projects/amblyopia_emc/code/amb_code/amb_scripts/load_saved_info.py:113\u001b[0m, in \u001b[0;36mamb_load_pkl\u001b[0;34m(sub, task, model, ses, **kwargs)\u001b[0m\n\u001b[1;32m    110\u001b[0m     sys\u001b[39m.\u001b[39mexit()\n\u001b[1;32m    112\u001b[0m pkl_file \u001b[39m=\u001b[39m \u001b[39mopen\u001b[39m(data_path,\u001b[39m'\u001b[39m\u001b[39mrb\u001b[39m\u001b[39m'\u001b[39m)\n\u001b[0;32m--> 113\u001b[0m data \u001b[39m=\u001b[39m pickle\u001b[39m.\u001b[39;49mload(pkl_file)\n\u001b[1;32m    114\u001b[0m pkl_file\u001b[39m.\u001b[39mclose()     \n\u001b[1;32m    116\u001b[0m \u001b[39mreturn\u001b[39;00m data\n",
      "\u001b[0;31mKeyboardInterrupt\u001b[0m: "
     ]
    }
   ],
   "source": [
    "sub = 'sub-02'\n",
    "ses_list = ['ses-1', 'ses-2']\n",
    "roi_fit = 'all'\n",
    "fit_stage='iter'\n",
    "\n",
    "model_list = ['gauss', 'csf']\n",
    "\n",
    "prf_obj_list = [] \n",
    "prf_id_list = []\n",
    "for i_ses,ses in enumerate(ses_list):        \n",
    "    for eye in ['L', 'R']:    \n",
    "        for model in model_list:\n",
    "            if 'csf' in model:\n",
    "                task = f'CSF{eye}E'\n",
    "            else:\n",
    "                task = f'pRF{eye}E'\n",
    "\n",
    "            this_prf_data = amb_load_prf_params(\n",
    "                sub=sub,\n",
    "                task_list=task,\n",
    "                model_list=model,\n",
    "                roi_fit=roi_fit, \n",
    "                fit_stage=fit_stage,\n",
    "                ses=ses\n",
    "            )[task][model]\n",
    "                                                    \n",
    "            prf_obj_list.append(Prf1T1M(this_prf_data, model))\n",
    "            prf_id_list.append(f'{eye}_{i_ses+1}_{model}')   \n",
    "        \n",
    "prf_multi = PrfMulti(prf_obj_list, prf_id_list)"
   ]
  },
  {
   "cell_type": "code",
   "execution_count": null,
   "metadata": {},
   "outputs": [],
   "source": [
    "rep_path = '/data1/projects/dumoulinlab/Lab_members/Marcus/projects/amblyopia_emc/code/sub-02_rep'"
   ]
  },
  {
   "cell_type": "code",
   "execution_count": 36,
   "metadata": {},
   "outputs": [
    {
     "name": "stdout",
     "output_type": "stream",
     "text": [
      "File to be named: sub-02_L1-angle_inflated\n",
      "Writing: sub-02_L1-angle_inflated for sub-02\n",
      "Saving /data1/projects/dumoulinlab/Lab_members/Marcus/projects/amblyopia_emc/code/sub-02_rep/lh.sub-02_L1-angle_inflated.asc as a surface\n",
      "Saving /data1/projects/dumoulinlab/Lab_members/Marcus/projects/amblyopia_emc/code/sub-02_rep/rh.sub-02_L1-angle_inflated.asc as a surface\n",
      "Using OpenGL 4.5\n"
     ]
    },
    {
     "name": "stderr",
     "output_type": "stream",
     "text": [
      "LOG: 0 Opened mesh /data1/projects/dumoulinlab/Lab_members/Marcus/projects/amblyopia_emc/code/sub-02_rep/lh.sub-02_L1-angle_inflated.ply in 912 msec\n",
      "LOG: 0 All files opened in 918 msec\n",
      "LOG: 0 Opened mesh /data1/projects/dumoulinlab/Lab_members/Marcus/projects/amblyopia_emc/code/sub-02_rep/rh.sub-02_L1-angle_inflated.ply in 739 msec\n",
      "LOG: 0 All files opened in 748 msec\n",
      "libpng warning: iCCP: known incorrect sRGB profile\n"
     ]
    },
    {
     "name": "stdout",
     "output_type": "stream",
     "text": [
      "File to be named: sub-02_L1-ecc_inflated\n",
      "Writing: sub-02_L1-ecc_inflated for sub-02\n",
      "Saving /data1/projects/dumoulinlab/Lab_members/Marcus/projects/amblyopia_emc/code/sub-02_rep/lh.sub-02_L1-ecc_inflated.asc as a surface\n",
      "Saving /data1/projects/dumoulinlab/Lab_members/Marcus/projects/amblyopia_emc/code/sub-02_rep/rh.sub-02_L1-ecc_inflated.asc as a surface\n",
      "Using OpenGL 4.5\n"
     ]
    },
    {
     "name": "stderr",
     "output_type": "stream",
     "text": [
      "LOG: 0 Opened mesh /data1/projects/dumoulinlab/Lab_members/Marcus/projects/amblyopia_emc/code/sub-02_rep/lh.sub-02_L1-ecc_inflated.ply in 852 msec\n",
      "LOG: 0 All files opened in 859 msec\n",
      "LOG: 0 Opened mesh /data1/projects/dumoulinlab/Lab_members/Marcus/projects/amblyopia_emc/code/sub-02_rep/rh.sub-02_L1-ecc_inflated.ply in 743 msec\n",
      "LOG: 0 All files opened in 753 msec\n",
      "libpng warning: iCCP: known incorrect sRGB profile\n"
     ]
    },
    {
     "name": "stdout",
     "output_type": "stream",
     "text": [
      "File to be named: sub-02_L2-angle_inflated\n",
      "Writing: sub-02_L2-angle_inflated for sub-02\n",
      "Saving /data1/projects/dumoulinlab/Lab_members/Marcus/projects/amblyopia_emc/code/sub-02_rep/lh.sub-02_L2-angle_inflated.asc as a surface\n",
      "Saving /data1/projects/dumoulinlab/Lab_members/Marcus/projects/amblyopia_emc/code/sub-02_rep/rh.sub-02_L2-angle_inflated.asc as a surface\n",
      "Using OpenGL 4.5\n"
     ]
    },
    {
     "name": "stderr",
     "output_type": "stream",
     "text": [
      "LOG: 0 Opened mesh /data1/projects/dumoulinlab/Lab_members/Marcus/projects/amblyopia_emc/code/sub-02_rep/lh.sub-02_L2-angle_inflated.ply in 822 msec\n",
      "LOG: 0 All files opened in 829 msec\n",
      "LOG: 0 Opened mesh /data1/projects/dumoulinlab/Lab_members/Marcus/projects/amblyopia_emc/code/sub-02_rep/rh.sub-02_L2-angle_inflated.ply in 740 msec\n",
      "LOG: 0 All files opened in 749 msec\n"
     ]
    },
    {
     "name": "stdout",
     "output_type": "stream",
     "text": [
      "File to be named: sub-02_L2-ecc_inflated\n",
      "Writing: sub-02_L2-ecc_inflated for sub-02\n",
      "Saving /data1/projects/dumoulinlab/Lab_members/Marcus/projects/amblyopia_emc/code/sub-02_rep/lh.sub-02_L2-ecc_inflated.asc as a surface\n",
      "Saving /data1/projects/dumoulinlab/Lab_members/Marcus/projects/amblyopia_emc/code/sub-02_rep/rh.sub-02_L2-ecc_inflated.asc as a surface\n",
      "Using OpenGL 4.5\n"
     ]
    },
    {
     "name": "stderr",
     "output_type": "stream",
     "text": [
      "LOG: 0 Opened mesh /data1/projects/dumoulinlab/Lab_members/Marcus/projects/amblyopia_emc/code/sub-02_rep/lh.sub-02_L2-ecc_inflated.ply in 889 msec\n",
      "LOG: 0 All files opened in 895 msec\n",
      "LOG: 0 Opened mesh /data1/projects/dumoulinlab/Lab_members/Marcus/projects/amblyopia_emc/code/sub-02_rep/rh.sub-02_L2-ecc_inflated.ply in 738 msec\n",
      "LOG: 0 All files opened in 746 msec\n",
      "libpng warning: iCCP: known incorrect sRGB profile\n"
     ]
    },
    {
     "name": "stdout",
     "output_type": "stream",
     "text": [
      "File to be named: sub-02_R1-angle_inflated\n",
      "Writing: sub-02_R1-angle_inflated for sub-02\n",
      "Saving /data1/projects/dumoulinlab/Lab_members/Marcus/projects/amblyopia_emc/code/sub-02_rep/lh.sub-02_R1-angle_inflated.asc as a surface\n",
      "Saving /data1/projects/dumoulinlab/Lab_members/Marcus/projects/amblyopia_emc/code/sub-02_rep/rh.sub-02_R1-angle_inflated.asc as a surface\n",
      "Using OpenGL 4.5\n"
     ]
    },
    {
     "name": "stderr",
     "output_type": "stream",
     "text": [
      "LOG: 0 Opened mesh /data1/projects/dumoulinlab/Lab_members/Marcus/projects/amblyopia_emc/code/sub-02_rep/lh.sub-02_R1-angle_inflated.ply in 835 msec\n",
      "LOG: 0 All files opened in 842 msec\n",
      "LOG: 0 Opened mesh /data1/projects/dumoulinlab/Lab_members/Marcus/projects/amblyopia_emc/code/sub-02_rep/rh.sub-02_R1-angle_inflated.ply in 721 msec\n",
      "LOG: 0 All files opened in 733 msec\n",
      "libpng warning: iCCP: known incorrect sRGB profile\n"
     ]
    },
    {
     "name": "stdout",
     "output_type": "stream",
     "text": [
      "File to be named: sub-02_R1-ecc_inflated\n",
      "Writing: sub-02_R1-ecc_inflated for sub-02\n",
      "Saving /data1/projects/dumoulinlab/Lab_members/Marcus/projects/amblyopia_emc/code/sub-02_rep/lh.sub-02_R1-ecc_inflated.asc as a surface\n",
      "Saving /data1/projects/dumoulinlab/Lab_members/Marcus/projects/amblyopia_emc/code/sub-02_rep/rh.sub-02_R1-ecc_inflated.asc as a surface\n",
      "Using OpenGL 4.5\n"
     ]
    },
    {
     "name": "stderr",
     "output_type": "stream",
     "text": [
      "LOG: 0 Opened mesh /data1/projects/dumoulinlab/Lab_members/Marcus/projects/amblyopia_emc/code/sub-02_rep/lh.sub-02_R1-ecc_inflated.ply in 886 msec\n",
      "LOG: 0 All files opened in 892 msec\n",
      "LOG: 0 Opened mesh /data1/projects/dumoulinlab/Lab_members/Marcus/projects/amblyopia_emc/code/sub-02_rep/rh.sub-02_R1-ecc_inflated.ply in 858 msec\n",
      "LOG: 0 All files opened in 867 msec\n",
      "libpng warning: iCCP: known incorrect sRGB profile\n"
     ]
    },
    {
     "name": "stdout",
     "output_type": "stream",
     "text": [
      "File to be named: sub-02_R2-angle_inflated\n",
      "Writing: sub-02_R2-angle_inflated for sub-02\n",
      "Saving /data1/projects/dumoulinlab/Lab_members/Marcus/projects/amblyopia_emc/code/sub-02_rep/lh.sub-02_R2-angle_inflated.asc as a surface\n",
      "Saving /data1/projects/dumoulinlab/Lab_members/Marcus/projects/amblyopia_emc/code/sub-02_rep/rh.sub-02_R2-angle_inflated.asc as a surface\n",
      "Using OpenGL 4.5\n"
     ]
    },
    {
     "name": "stderr",
     "output_type": "stream",
     "text": [
      "LOG: 0 Opened mesh /data1/projects/dumoulinlab/Lab_members/Marcus/projects/amblyopia_emc/code/sub-02_rep/lh.sub-02_R2-angle_inflated.ply in 798 msec\n",
      "LOG: 0 All files opened in 805 msec\n",
      "LOG: 0 Opened mesh /data1/projects/dumoulinlab/Lab_members/Marcus/projects/amblyopia_emc/code/sub-02_rep/rh.sub-02_R2-angle_inflated.ply in 721 msec\n",
      "LOG: 0 All files opened in 729 msec\n",
      "libpng warning: iCCP: known incorrect sRGB profile\n"
     ]
    },
    {
     "name": "stdout",
     "output_type": "stream",
     "text": [
      "File to be named: sub-02_R2-ecc_inflated\n",
      "Writing: sub-02_R2-ecc_inflated for sub-02\n",
      "Saving /data1/projects/dumoulinlab/Lab_members/Marcus/projects/amblyopia_emc/code/sub-02_rep/lh.sub-02_R2-ecc_inflated.asc as a surface\n",
      "Saving /data1/projects/dumoulinlab/Lab_members/Marcus/projects/amblyopia_emc/code/sub-02_rep/rh.sub-02_R2-ecc_inflated.asc as a surface\n",
      "Using OpenGL 4.5\n"
     ]
    },
    {
     "name": "stderr",
     "output_type": "stream",
     "text": [
      "LOG: 0 Opened mesh /data1/projects/dumoulinlab/Lab_members/Marcus/projects/amblyopia_emc/code/sub-02_rep/lh.sub-02_R2-ecc_inflated.ply in 803 msec\n",
      "LOG: 0 All files opened in 809 msec\n",
      "LOG: 0 Opened mesh /data1/projects/dumoulinlab/Lab_members/Marcus/projects/amblyopia_emc/code/sub-02_rep/rh.sub-02_R2-ecc_inflated.ply in 711 msec\n",
      "LOG: 0 All files opened in 723 msec\n",
      "libpng warning: iCCP: known incorrect sRGB profile\n"
     ]
    }
   ],
   "source": [
    "for eye in ['L', 'R']:\n",
    "    for ses in ['1', '2']:\n",
    "        this_mask = prf_multi.prf_obj[f'{eye}_{ses}_gauss'].return_vx_mask({'min-rsq':.1})\n",
    "        this_pol = prf_multi.prf_obj[f'{eye}_{ses}_gauss'].pd_params['pol'].to_numpy()\n",
    "        this_ecc = prf_multi.prf_obj[f'{eye}_{ses}_gauss'].pd_params['ecc'].to_numpy()\n",
    "        \n",
    "        ply_file = dag_fs_to_ply(\n",
    "            sub=sub, \n",
    "            data=this_pol, \n",
    "            fs_dir=fs_dir, \n",
    "            mesh_name='inflated',                   # Could be pial\n",
    "            out_dir=rep_path,                       # Output (multiple .ply files)\n",
    "            under_surf='curv',                      # What is going underneath the data (e.g., curvature)\n",
    "            # *** OPTIONAL ***\n",
    "            data_mask = this_mask,\n",
    "            # data_alpha = data_alpha, \n",
    "            surf_name = f'{eye}{ses}-angle',\n",
    "            cmap = 'twilight',\n",
    "            vmin = -3.14, vmax=3.14,\n",
    "            return_ply_file=True,\n",
    "            )\n",
    "        mlab_cmd = 'meshlab '\n",
    "        for i in ply_file:\n",
    "            mlab_cmd += i+' '\n",
    "        os.system(mlab_cmd)\n",
    "\n",
    "        ply_file = dag_fs_to_ply(\n",
    "            sub=sub, \n",
    "            data=this_ecc, \n",
    "            fs_dir=fs_dir, \n",
    "            mesh_name='inflated',                   # Could be pial\n",
    "            out_dir=rep_path,                       # Output (multiple .ply files)\n",
    "            under_surf='curv',                      # What is going underneath the data (e.g., curvature)\n",
    "            # *** OPTIONAL ***\n",
    "            data_mask = this_mask,\n",
    "            # data_alpha = data_alpha, \n",
    "            surf_name = f'{eye}{ses}-ecc',\n",
    "            cmap = 'ecc',\n",
    "            vmin = 0, vmax=5,\n",
    "            return_ply_file=True,\n",
    "            )\n",
    "        mlab_cmd = 'meshlab '\n",
    "        for i in ply_file:\n",
    "            mlab_cmd += i+' '\n",
    "        os.system(mlab_cmd)        \n"
   ]
  },
  {
   "cell_type": "code",
   "execution_count": null,
   "metadata": {},
   "outputs": [
    {
     "data": {
      "image/png": "[encoded data removed]",
      "text/plain": [
       "<Figure size 432x288 with 1 Axes>"
      ]
     },
     "metadata": {
      "needs_background": "light"
     },
     "output_type": "display_data"
    }
   ],
   "source": [
    "x,y = np.meshgrid(\n",
    "    np.linspace(-5,5,100),np.linspace(-5,5,100))\n",
    "ecc,pol = dag_coord_convert(x,y,'cart2pol')\n",
    "plt.imshow(\n",
    "    np.flipud(pol), cmap='twilight',\n",
    ")\n",
    "plt.savefig(\n",
    "    opj(rep_path, 'angle_colors.png')\n",
    ")\n",
    "\n",
    "\n",
    "\n",
    "cmap = dag_get_cmap('ecc')\n",
    "plt.imshow(\n",
    "    np.flipud(ecc), cmap=cmap,\n",
    ")\n",
    "plt.savefig(\n",
    "    opj(rep_path, 'eccentricity_colors.png')\n",
    ")\n"
   ]
  },
  {
   "cell_type": "code",
   "execution_count": null,
   "metadata": {},
   "outputs": [
    {
     "name": "stdout",
     "output_type": "stream",
     "text": [
      "Already exists: /data1/projects/dumoulinlab/Lab_members/Marcus/projects/amblyopia_emc/code/sub-02_rep/lh.pial.ply, and not overwriting\n",
      "Already exists: /data1/projects/dumoulinlab/Lab_members/Marcus/projects/amblyopia_emc/code/sub-02_rep/rh.pial.ply, and not overwriting\n",
      "Already exists: /data1/projects/dumoulinlab/Lab_members/Marcus/projects/amblyopia_emc/code/sub-02_rep/lh.inflated.ply, and not overwriting\n",
      "Already exists: /data1/projects/dumoulinlab/Lab_members/Marcus/projects/amblyopia_emc/code/sub-02_rep/rh.inflated.ply, and not overwriting\n",
      "Already exists: /data1/projects/dumoulinlab/Lab_members/Marcus/projects/amblyopia_emc/code/sub-02_rep/lh.sphere.ply, and not overwriting\n",
      "Already exists: /data1/projects/dumoulinlab/Lab_members/Marcus/projects/amblyopia_emc/code/sub-02_rep/rh.sphere.ply, and not overwriting\n",
      "Already exists: /data1/projects/dumoulinlab/Lab_members/Marcus/projects/amblyopia_emc/code/sub-02_rep/lh.curv_rgb.csv, and not overwriting\n",
      "Already exists: /data1/projects/dumoulinlab/Lab_members/Marcus/projects/amblyopia_emc/code/sub-02_rep/rh.curv_rgb.csv, and not overwriting\n",
      "Already exists: /data1/projects/dumoulinlab/Lab_members/Marcus/projects/amblyopia_emc/code/sub-02_rep/lh.thickness_rgb.csv, and not overwriting\n",
      "Already exists: /data1/projects/dumoulinlab/Lab_members/Marcus/projects/amblyopia_emc/code/sub-02_rep/rh.thickness_rgb.csv, and not overwriting\n"
     ]
    }
   ],
   "source": [
    "bm = BlendMaker(\n",
    "    sub=sub,\n",
    "    fs_dir=fs_dir,\n",
    "    out_dir=rep_path,\n",
    ")"
   ]
  },
  {
   "cell_type": "code",
   "execution_count": null,
   "metadata": {},
   "outputs": [
    {
     "name": "stdout",
     "output_type": "stream",
     "text": [
      "Overwriting: /data1/projects/dumoulinlab/Lab_members/Marcus/projects/amblyopia_emc/code/sub-02_rep/lh.L-session-1-frequency_rgb.csv\n",
      "Overwriting: /data1/projects/dumoulinlab/Lab_members/Marcus/projects/amblyopia_emc/code/sub-02_rep/rh.L-session-1-frequency_rgb.csv\n",
      "Overwriting: /data1/projects/dumoulinlab/Lab_members/Marcus/projects/amblyopia_emc/code/sub-02_rep/lh.R-session-1-frequency_rgb.csv\n",
      "Overwriting: /data1/projects/dumoulinlab/Lab_members/Marcus/projects/amblyopia_emc/code/sub-02_rep/rh.R-session-1-frequency_rgb.csv\n",
      "Overwriting: /data1/projects/dumoulinlab/Lab_members/Marcus/projects/amblyopia_emc/code/sub-02_rep/lh.L-session-2-frequency_rgb.csv\n",
      "Overwriting: /data1/projects/dumoulinlab/Lab_members/Marcus/projects/amblyopia_emc/code/sub-02_rep/rh.L-session-2-frequency_rgb.csv\n",
      "Overwriting: /data1/projects/dumoulinlab/Lab_members/Marcus/projects/amblyopia_emc/code/sub-02_rep/lh.R-session-2-frequency_rgb.csv\n",
      "Overwriting: /data1/projects/dumoulinlab/Lab_members/Marcus/projects/amblyopia_emc/code/sub-02_rep/rh.R-session-2-frequency_rgb.csv\n"
     ]
    },
    {
     "data": {
      "image/png": "[encoded data removed]",
      "text/plain": [
       "<Figure size 432x288 with 2 Axes>"
      ]
     },
     "metadata": {
      "needs_background": "light"
     },
     "output_type": "display_data"
    }
   ],
   "source": [
    "for ses in ['1', '2']:        \n",
    "    for eye in ['L', 'R']:    \n",
    "        # g_mask = prf_multi.prf_obj[f'{eye}_{ses}_gauss'].return_vx_mask({'min-rsq':.1})\n",
    "        # g_pol = prf_multi.prf_obj[f'{eye}_{ses}_gauss'].pd_params.pol.to_numpy()\n",
    "        # g_ecc = prf_multi.prf_obj[f'{eye}_{ses}_gauss'].pd_params.ecc.to_numpy()\n",
    "        # bm.add_cmap(\n",
    "        #     data=g_pol,\n",
    "        #     surf_name=f'{eye}-session-{ses}-angle',\n",
    "        #     data_mask=g_mask,\n",
    "        #     # data_alpha=data_alpha,\n",
    "        #     vmin = -3.14, vmax=3.14, # min and max values of polar anlge \n",
    "        #     cmap = 'pol',\n",
    "        # )\n",
    "        # bm.add_cmap(\n",
    "        #     data=g_ecc,\n",
    "        #     surf_name=f'{eye}-session-{ses}-eccentricity',\n",
    "        #     data_mask=g_mask,\n",
    "        #     # data_alpha=data_alpha,\n",
    "        #     vmin = 0, vmax=5, # min and max values of polar anlge \n",
    "        #     cmap = 'ecc',\n",
    "        # )                \n",
    "\n",
    "        c_mask = prf_multi.prf_obj[f'{eye}_{ses}_csf'].return_vx_mask({'min-rsq':.1})\n",
    "        c_sf0 = prf_multi.prf_obj[f'{eye}_{ses}_csf'].pd_params.sf0.to_numpy()\n",
    "        bm.add_cmap(\n",
    "            data=c_sf0,\n",
    "            surf_name=f'{eye}-session-{ses}-frequency',\n",
    "            data_mask=c_mask,\n",
    "            # data_alpha=data_alpha,\n",
    "            vmin = 0, vmax=6, # min and max values of polar anlge \n",
    "            cmap = 'Blues',\n",
    "            ow=True,\n",
    "        )           \n"
   ]
  },
  {
   "cell_type": "code",
   "execution_count": null,
   "metadata": {},
   "outputs": [
    {
     "name": "stdout",
     "output_type": "stream",
     "text": [
      "Read prefs: /home/daghlian/.config/blender/3.5/config/userpref.blend\n",
      "\n",
      "Successfully imported '/data1/projects/dumoulinlab/Lab_members/Marcus/projects/amblyopia_emc/code/sub-02_rep/lh.inflated.ply' in 3.427 sec\n",
      "\n",
      "Successfully imported '/data1/projects/dumoulinlab/Lab_members/Marcus/projects/amblyopia_emc/code/sub-02_rep/rh.inflated.ply' in 3.512 sec\n",
      "loading\n",
      "lh.L-session-1-frequency_rgb.csv\n",
      "loading\n",
      "rh.L-session-1-frequency_rgb.csv\n",
      "Warning: 1 x Draw window and swap: 984.1690 ms, average: 984.16900635 ms\n",
      "Info: Total files 0 | Changed 0 | Failed 0\n",
      "Info: Saved \"MZ-eyeL-session-1-frequency.blend\"\n",
      "Saved session recovery to '/tmp/quit.blend'\n",
      "\n",
      "Blender quit\n",
      "Read prefs: /home/daghlian/.config/blender/3.5/config/userpref.blend\n",
      "\n",
      "Successfully imported '/data1/projects/dumoulinlab/Lab_members/Marcus/projects/amblyopia_emc/code/sub-02_rep/lh.inflated.ply' in 3.479 sec\n",
      "\n",
      "Successfully imported '/data1/projects/dumoulinlab/Lab_members/Marcus/projects/amblyopia_emc/code/sub-02_rep/rh.inflated.ply' in 3.455 sec\n",
      "loading\n",
      "lh.R-session-1-frequency_rgb.csv\n",
      "loading\n",
      "rh.R-session-1-frequency_rgb.csv\n",
      "Warning: 1 x Draw window and swap: 1078.5182 ms, average: 1078.51815224 ms\n",
      "Info: Total files 0 | Changed 0 | Failed 0\n",
      "Info: Saved \"MZ-eyeR-session-1-frequency.blend\"\n",
      "Saved session recovery to '/tmp/quit.blend'\n",
      "\n",
      "Blender quit\n",
      "Read prefs: /home/daghlian/.config/blender/3.5/config/userpref.blend\n",
      "\n",
      "Successfully imported '/data1/projects/dumoulinlab/Lab_members/Marcus/projects/amblyopia_emc/code/sub-02_rep/lh.inflated.ply' in 3.561 sec\n",
      "\n",
      "Successfully imported '/data1/projects/dumoulinlab/Lab_members/Marcus/projects/amblyopia_emc/code/sub-02_rep/rh.inflated.ply' in 3.451 sec\n",
      "loading\n",
      "lh.L-session-2-frequency_rgb.csv\n",
      "loading\n",
      "rh.L-session-2-frequency_rgb.csv\n",
      "Warning: 1 x Draw window and swap: 1006.7730 ms, average: 1006.77299500 ms\n",
      "Info: Total files 0 | Changed 0 | Failed 0\n",
      "Info: Saved \"MZ-eyeL-session-2-frequency.blend\"\n",
      "Saved session recovery to '/tmp/quit.blend'\n",
      "\n",
      "Blender quit\n",
      "Read prefs: /home/daghlian/.config/blender/3.5/config/userpref.blend\n",
      "\n",
      "Successfully imported '/data1/projects/dumoulinlab/Lab_members/Marcus/projects/amblyopia_emc/code/sub-02_rep/lh.inflated.ply' in 3.466 sec\n",
      "\n",
      "Successfully imported '/data1/projects/dumoulinlab/Lab_members/Marcus/projects/amblyopia_emc/code/sub-02_rep/rh.inflated.ply' in 3.440 sec\n",
      "loading\n",
      "lh.R-session-2-frequency_rgb.csv\n",
      "loading\n",
      "rh.R-session-2-frequency_rgb.csv\n",
      "Warning: 1 x Draw window and swap: 1032.7940 ms, average: 1032.79399872 ms\n",
      "Info: Total files 0 | Changed 0 | Failed 0\n",
      "Info: Saved \"MZ-eyeR-session-2-frequency.blend\"\n",
      "Saved session recovery to '/tmp/quit.blend'\n",
      "\n",
      "Blender quit\n"
     ]
    }
   ],
   "source": [
    "surf_list = ['L-session-1-frequency','R-session-1-frequency','L-session-2-frequency', 'R-session-2-frequency']\n",
    "mesh_list = 'inflated'\n",
    "for surf in surf_list:\n",
    "    bm.blender_file_name = opj(rep_path, 'MZ-eye' + surf + '.blend')\n",
    "    bm.launch_blender(\n",
    "        surf_list=surf,\n",
    "        mesh_list=mesh_list,\n",
    "        save_blender=True,\n",
    "        close_blender=True,\n",
    "    )"
   ]
  }
 ],
 "metadata": {
  "kernelspec": {
   "display_name": "ls_dag",
   "language": "python",
   "name": "python3"
  },
  "language_info": {
   "codemirror_mode": {
    "name": "ipython",
    "version": 3
   },
   "file_extension": ".py",
   "mimetype": "text/x-python",
   "name": "python",
   "nbconvert_exporter": "python",
   "pygments_lexer": "ipython3",
   "version": "3.9.10"
  },
  "orig_nbformat": 4
 },
 "nbformat": 4,
 "nbformat_minor": 2
}
